{
 "cells": [
  {
   "cell_type": "markdown",
   "metadata": {
    "colab_type": "text",
    "id": "8M27BRNVjbqZ"
   },
   "source": [
    "# Load / Prepare Dataset\n"
   ]
  },
  {
   "cell_type": "code",
   "execution_count": 128,
   "metadata": {
    "colab": {
     "base_uri": "https://localhost:8080/",
     "height": 452
    },
    "colab_type": "code",
    "id": "gvTgxAeyPMqy",
    "outputId": "0f8c578b-3ad1-476f-d46d-6685778e1845"
   },
   "outputs": [
    {
     "data": {
      "text/html": [
       "<div>\n",
       "<style scoped>\n",
       "    .dataframe tbody tr th:only-of-type {\n",
       "        vertical-align: middle;\n",
       "    }\n",
       "\n",
       "    .dataframe tbody tr th {\n",
       "        vertical-align: top;\n",
       "    }\n",
       "\n",
       "    .dataframe thead th {\n",
       "        text-align: right;\n",
       "    }\n",
       "</style>\n",
       "<table border=\"1\" class=\"dataframe\">\n",
       "  <thead>\n",
       "    <tr style=\"text-align: right;\">\n",
       "      <th></th>\n",
       "      <th>Age Group</th>\n",
       "      <th>Age Group Code</th>\n",
       "      <th>Cause of death</th>\n",
       "      <th>Cause of death Code</th>\n",
       "      <th>Gender</th>\n",
       "      <th>Gender Code</th>\n",
       "      <th>Race</th>\n",
       "      <th>Race Code</th>\n",
       "      <th>Deaths</th>\n",
       "      <th>Population</th>\n",
       "      <th>Crude Rate</th>\n",
       "    </tr>\n",
       "  </thead>\n",
       "  <tbody>\n",
       "    <tr>\n",
       "      <th>0</th>\n",
       "      <td>&lt; 1 year</td>\n",
       "      <td>1</td>\n",
       "      <td>Other and unspecified gastroenteritis and coli...</td>\n",
       "      <td>A09.0</td>\n",
       "      <td>Female</td>\n",
       "      <td>F</td>\n",
       "      <td>Black or African American</td>\n",
       "      <td>2054-5</td>\n",
       "      <td>25.0</td>\n",
       "      <td>430996</td>\n",
       "      <td>6</td>\n",
       "    </tr>\n",
       "    <tr>\n",
       "      <th>1</th>\n",
       "      <td>&lt; 1 year</td>\n",
       "      <td>1</td>\n",
       "      <td>Other and unspecified gastroenteritis and coli...</td>\n",
       "      <td>A09.0</td>\n",
       "      <td>Female</td>\n",
       "      <td>F</td>\n",
       "      <td>White</td>\n",
       "      <td>2106-3</td>\n",
       "      <td>42.0</td>\n",
       "      <td>2.72182e+06</td>\n",
       "      <td>2</td>\n",
       "    </tr>\n",
       "    <tr>\n",
       "      <th>2</th>\n",
       "      <td>&lt; 1 year</td>\n",
       "      <td>1</td>\n",
       "      <td>Whooping cough, unspecified</td>\n",
       "      <td>A37.9</td>\n",
       "      <td>Female</td>\n",
       "      <td>F</td>\n",
       "      <td>White</td>\n",
       "      <td>2106-3</td>\n",
       "      <td>16.0</td>\n",
       "      <td>2.72182e+06</td>\n",
       "      <td>1 (Unreliable)</td>\n",
       "    </tr>\n",
       "    <tr>\n",
       "      <th>3</th>\n",
       "      <td>&lt; 1 year</td>\n",
       "      <td>1</td>\n",
       "      <td>Septicaemia due to other Gram-negative organisms</td>\n",
       "      <td>A41.5</td>\n",
       "      <td>Female</td>\n",
       "      <td>F</td>\n",
       "      <td>White</td>\n",
       "      <td>2106-3</td>\n",
       "      <td>26.0</td>\n",
       "      <td>2.72182e+06</td>\n",
       "      <td>1</td>\n",
       "    </tr>\n",
       "    <tr>\n",
       "      <th>4</th>\n",
       "      <td>&lt; 1 year</td>\n",
       "      <td>1</td>\n",
       "      <td>Septicaemia, unspecified</td>\n",
       "      <td>A41.9</td>\n",
       "      <td>Female</td>\n",
       "      <td>F</td>\n",
       "      <td>Black or African American</td>\n",
       "      <td>2054-5</td>\n",
       "      <td>37.0</td>\n",
       "      <td>430996</td>\n",
       "      <td>9</td>\n",
       "    </tr>\n",
       "  </tbody>\n",
       "</table>\n",
       "</div>"
      ],
      "text/plain": [
       "  Age Group Age Group Code                                     Cause of death  \\\n",
       "0  < 1 year              1  Other and unspecified gastroenteritis and coli...   \n",
       "1  < 1 year              1  Other and unspecified gastroenteritis and coli...   \n",
       "2  < 1 year              1                        Whooping cough, unspecified   \n",
       "3  < 1 year              1   Septicaemia due to other Gram-negative organisms   \n",
       "4  < 1 year              1                           Septicaemia, unspecified   \n",
       "\n",
       "  Cause of death Code  Gender Gender Code                       Race  \\\n",
       "0               A09.0  Female           F  Black or African American   \n",
       "1               A09.0  Female           F                      White   \n",
       "2               A37.9  Female           F                      White   \n",
       "3               A41.5  Female           F                      White   \n",
       "4               A41.9  Female           F  Black or African American   \n",
       "\n",
       "  Race Code  Deaths   Population      Crude Rate  \n",
       "0    2054-5    25.0       430996               6  \n",
       "1    2106-3    42.0  2.72182e+06               2  \n",
       "2    2106-3    16.0  2.72182e+06  1 (Unreliable)  \n",
       "3    2106-3    26.0  2.72182e+06               1  \n",
       "4    2054-5    37.0       430996               9  "
      ]
     },
     "execution_count": 128,
     "metadata": {},
     "output_type": "execute_result"
    }
   ],
   "source": [
    "import pandas as pd\n",
    "import numpy as np\n",
    "\n",
    "females = pd.read_table('Female')\n",
    "males = pd.read_table('Male')\n",
    "\n",
    "df = pd.concat([females, males]).drop(columns = 'Notes') # Merge\n",
    "\n",
    "df = df.dropna()\n",
    "\n",
    "df.head()"
   ]
  },
  {
   "cell_type": "code",
   "execution_count": 129,
   "metadata": {
    "colab": {
     "base_uri": "https://localhost:8080/",
     "height": 219
    },
    "colab_type": "code",
    "id": "vu5Snj-hi1Eq",
    "outputId": "afbb5c58-d0db-4583-85a2-0115246a48a6"
   },
   "outputs": [
    {
     "data": {
      "text/plain": [
       "Age Group               object\n",
       "Cause of death          object\n",
       "Cause of death Code     object\n",
       "Gender                  object\n",
       "Race                    object\n",
       "Deaths                 float64\n",
       "Population              object\n",
       "dtype: object"
      ]
     },
     "execution_count": 129,
     "metadata": {},
     "output_type": "execute_result"
    }
   ],
   "source": [
    "# Dropping unneeded columns.\n",
    "\n",
    "df = df.drop(columns = ['Age Group Code',  'Race Code', 'Crude Rate', 'Gender Code']).reset_index(drop = True)\n",
    "\n",
    "df.dtypes"
   ]
  },
  {
   "cell_type": "code",
   "execution_count": 130,
   "metadata": {},
   "outputs": [],
   "source": [
    "# The Population needs to be changed to int. Let's do that.\n",
    "df = df.replace('Not Applicable', np.NaN).dropna()\n",
    "\n",
    "df['Population'] = df['Population'].astype(int)"
   ]
  },
  {
   "cell_type": "code",
   "execution_count": 131,
   "metadata": {},
   "outputs": [
    {
     "name": "stdout",
     "output_type": "stream",
     "text": [
      "Least common cause of death: Abdomen - Malignant neoplasms\n",
      "Most common cause of death: Zoster without complication\n"
     ]
    }
   ],
   "source": [
    "print('Least common cause of death:', df['Cause of death'].min())\n",
    "print('Most common cause of death:', df['Cause of death'].max()) # Interesting. Shingles is the most common cause of death"
   ]
  },
  {
   "cell_type": "markdown",
   "metadata": {
    "colab_type": "text",
    "id": "pPTuTz_HknWc"
   },
   "source": [
    "# Modeling"
   ]
  },
  {
   "cell_type": "markdown",
   "metadata": {
    "colab_type": "text",
    "id": "l-C05Ip1cB15"
   },
   "source": [
    "## Wrangle / Feature Engineering"
   ]
  },
  {
   "cell_type": "code",
   "execution_count": 132,
   "metadata": {},
   "outputs": [],
   "source": [
    "def wrangle(X):\n",
    "    X = X.copy() # Make a copy for warnings\n",
    "    \n",
    "    # Get first three of cause of death (classifies)\n",
    "    X['Cause of Death Code'] = [x.strip()[:3] for x in X['Cause of death Code']]\n",
    "    \n",
    "    # Calculate Crude Rates\n",
    "    X['Crude Rate'] = (X['Deaths'] / X['Population']) * 100000\n",
    "    X = X.drop(columns = ['Cause of death Code']) # Drop the too-specific cause of death Code\n",
    "    return X\n",
    "    "
   ]
  },
  {
   "cell_type": "markdown",
   "metadata": {},
   "source": [
    "## Decision Tree"
   ]
  },
  {
   "cell_type": "code",
   "execution_count": 133,
   "metadata": {
    "colab": {},
    "colab_type": "code",
    "id": "tufMAj3-jKdr"
   },
   "outputs": [],
   "source": [
    "# Imports\n",
    "\n",
    "from sklearn.pipeline import make_pipeline \n",
    "from sklearn.tree import DecisionTreeClassifier \n",
    "from sklearn.model_selection import train_test_split\n",
    "import category_encoders as ce"
   ]
  },
  {
   "cell_type": "code",
   "execution_count": 134,
   "metadata": {
    "colab": {},
    "colab_type": "code",
    "id": "UbO-cIuUkIpw"
   },
   "outputs": [
    {
     "data": {
      "text/plain": [
       "((5300, 7), (5300, 7), (2650, 7))"
      ]
     },
     "execution_count": 134,
     "metadata": {},
     "output_type": "execute_result"
    }
   ],
   "source": [
    "# Train - Val - Test Split\n",
    "train, test = train_test_split(df, train_size = 0.8)\n",
    "train, val = train_test_split(train, train_size = 0.5)\n",
    "\n",
    "train.shape, val.shape, test.shape"
   ]
  },
  {
   "cell_type": "code",
   "execution_count": 135,
   "metadata": {},
   "outputs": [
    {
     "data": {
      "text/html": [
       "<div>\n",
       "<style scoped>\n",
       "    .dataframe tbody tr th:only-of-type {\n",
       "        vertical-align: middle;\n",
       "    }\n",
       "\n",
       "    .dataframe tbody tr th {\n",
       "        vertical-align: top;\n",
       "    }\n",
       "\n",
       "    .dataframe thead th {\n",
       "        text-align: right;\n",
       "    }\n",
       "</style>\n",
       "<table border=\"1\" class=\"dataframe\">\n",
       "  <thead>\n",
       "    <tr style=\"text-align: right;\">\n",
       "      <th></th>\n",
       "      <th>Age Group</th>\n",
       "      <th>Cause of death</th>\n",
       "      <th>Gender</th>\n",
       "      <th>Race</th>\n",
       "      <th>Deaths</th>\n",
       "      <th>Population</th>\n",
       "      <th>Cause of Death Code</th>\n",
       "      <th>Crude Rate</th>\n",
       "    </tr>\n",
       "  </thead>\n",
       "  <tbody>\n",
       "    <tr>\n",
       "      <th>2266</th>\n",
       "      <td>55-64 years</td>\n",
       "      <td>Nasopharynx, unspecified - Malignant neoplasms</td>\n",
       "      <td>Female</td>\n",
       "      <td>White</td>\n",
       "      <td>35.0</td>\n",
       "      <td>18286964</td>\n",
       "      <td>C11</td>\n",
       "      <td>0.191393</td>\n",
       "    </tr>\n",
       "    <tr>\n",
       "      <th>7764</th>\n",
       "      <td>35-44 years</td>\n",
       "      <td>Mental and behavioural disorders due to multip...</td>\n",
       "      <td>Male</td>\n",
       "      <td>White</td>\n",
       "      <td>20.0</td>\n",
       "      <td>25402313</td>\n",
       "      <td>F19</td>\n",
       "      <td>0.078733</td>\n",
       "    </tr>\n",
       "    <tr>\n",
       "      <th>4919</th>\n",
       "      <td>75-84 years</td>\n",
       "      <td>Other and unspecified cirrhosis of liver</td>\n",
       "      <td>Female</td>\n",
       "      <td>White</td>\n",
       "      <td>2396.0</td>\n",
       "      <td>7504565</td>\n",
       "      <td>K74</td>\n",
       "      <td>31.927234</td>\n",
       "    </tr>\n",
       "    <tr>\n",
       "      <th>12611</th>\n",
       "      <td>85+ years</td>\n",
       "      <td>Acute myeloid leukaemia - Malignant neoplasms</td>\n",
       "      <td>Male</td>\n",
       "      <td>Black or African American</td>\n",
       "      <td>19.0</td>\n",
       "      <td>119284</td>\n",
       "      <td>C92</td>\n",
       "      <td>15.928373</td>\n",
       "    </tr>\n",
       "    <tr>\n",
       "      <th>7894</th>\n",
       "      <td>35-44 years</td>\n",
       "      <td>Dissection of aorta [any part]</td>\n",
       "      <td>Male</td>\n",
       "      <td>White</td>\n",
       "      <td>195.0</td>\n",
       "      <td>25402313</td>\n",
       "      <td>I71</td>\n",
       "      <td>0.767647</td>\n",
       "    </tr>\n",
       "  </tbody>\n",
       "</table>\n",
       "</div>"
      ],
      "text/plain": [
       "         Age Group                                     Cause of death  Gender  \\\n",
       "2266   55-64 years     Nasopharynx, unspecified - Malignant neoplasms  Female   \n",
       "7764   35-44 years  Mental and behavioural disorders due to multip...    Male   \n",
       "4919   75-84 years           Other and unspecified cirrhosis of liver  Female   \n",
       "12611    85+ years      Acute myeloid leukaemia - Malignant neoplasms    Male   \n",
       "7894   35-44 years                     Dissection of aorta [any part]    Male   \n",
       "\n",
       "                            Race  Deaths  Population Cause of Death Code  \\\n",
       "2266                       White    35.0    18286964                 C11   \n",
       "7764                       White    20.0    25402313                 F19   \n",
       "4919                       White  2396.0     7504565                 K74   \n",
       "12611  Black or African American    19.0      119284                 C92   \n",
       "7894                       White   195.0    25402313                 I71   \n",
       "\n",
       "       Crude Rate  \n",
       "2266     0.191393  \n",
       "7764     0.078733  \n",
       "4919    31.927234  \n",
       "12611   15.928373  \n",
       "7894     0.767647  "
      ]
     },
     "execution_count": 135,
     "metadata": {},
     "output_type": "execute_result"
    }
   ],
   "source": [
    "# Wrangle all three.\n",
    "\n",
    "train = wrangle(train)\n",
    "val = wrangle(val)\n",
    "test = wrangle(test)\n",
    "\n",
    "train.head()"
   ]
  },
  {
   "cell_type": "code",
   "execution_count": 136,
   "metadata": {
    "colab": {},
    "colab_type": "code",
    "id": "MknocxBwkqav"
   },
   "outputs": [],
   "source": [
    "target = 'Cause of Death Code' # Feature we're trying to predict\n",
    "features = train.columns.drop([target] + ['Cause of death', 'Deaths', 'Crude Rate'])\n",
    "\n",
    "X_train = train[features]\n",
    "y_train = train[target]\n",
    "\n",
    "X_val = val[features]\n",
    "y_val = val[target]\n",
    "\n",
    "X_test = test[features]\n",
    "y_test = test[target]"
   ]
  },
  {
   "cell_type": "code",
   "execution_count": 137,
   "metadata": {
    "colab": {},
    "colab_type": "code",
    "id": "wcACpU-nj7vK"
   },
   "outputs": [
    {
     "data": {
      "text/plain": [
       "Pipeline(memory=None,\n",
       "         steps=[('onehotencoder',\n",
       "                 OneHotEncoder(cols=['Age Group', 'Gender', 'Race'],\n",
       "                               drop_invariant=False, handle_missing='value',\n",
       "                               handle_unknown='value', return_df=True,\n",
       "                               use_cat_names=True, verbose=0)),\n",
       "                ('decisiontreeclassifier',\n",
       "                 DecisionTreeClassifier(ccp_alpha=0.0, class_weight=None,\n",
       "                                        criterion='gini', max_depth=3,\n",
       "                                        max_features='auto', max_leaf_nodes=4,\n",
       "                                        min_impurity_decrease=0.0,\n",
       "                                        min_impurity_split=None,\n",
       "                                        min_samples_leaf=1, min_samples_split=2,\n",
       "                                        min_weight_fraction_leaf=0.0,\n",
       "                                        presort='deprecated', random_state=321,\n",
       "                                        splitter='best'))],\n",
       "         verbose=False)"
      ]
     },
     "execution_count": 137,
     "metadata": {},
     "output_type": "execute_result"
    }
   ],
   "source": [
    "# Make the Pipeline\n",
    "pipeline = make_pipeline(\n",
    "                          ce.OneHotEncoder(use_cat_names = True),\n",
    "                         DecisionTreeClassifier(max_depth = 3,\n",
    "                                                random_state = 321,\n",
    "                                                max_leaf_nodes = 4,\n",
    "                                                min_samples_leaf = 1,\n",
    "                                                max_features = \"auto\"\n",
    "                                               )\n",
    ")\n",
    "\n",
    "pipeline.fit(X_train, y_train)"
   ]
  },
  {
   "cell_type": "code",
   "execution_count": 138,
   "metadata": {
    "colab": {},
    "colab_type": "code",
    "id": "fBXXZKS8o-jr"
   },
   "outputs": [
    {
     "data": {
      "text/plain": [
       "0.019245283018867923"
      ]
     },
     "execution_count": 138,
     "metadata": {},
     "output_type": "execute_result"
    }
   ],
   "source": [
    "pipeline.score(X_train, y_train) # Using accuracy score over ROC AUC because Multi-Class"
   ]
  },
  {
   "cell_type": "code",
   "execution_count": 139,
   "metadata": {},
   "outputs": [
    {
     "data": {
      "text/plain": [
       "0.01169811320754717"
      ]
     },
     "execution_count": 139,
     "metadata": {},
     "output_type": "execute_result"
    }
   ],
   "source": [
    "pipeline.score(X_val, y_val)"
   ]
  },
  {
   "cell_type": "markdown",
   "metadata": {},
   "source": [
    "# Linear Model\n"
   ]
  },
  {
   "cell_type": "code",
   "execution_count": 140,
   "metadata": {},
   "outputs": [],
   "source": [
    "# Imports\n",
    "from sklearn.linear_model import LogisticRegression\n",
    "from sklearn.preprocessing import StandardScaler"
   ]
  },
  {
   "cell_type": "code",
   "execution_count": 141,
   "metadata": {},
   "outputs": [],
   "source": [
    "log_pipe = make_pipeline(StandardScaler(),\n",
    "                         ce.OrdinalEncoder(),\n",
    "                         LogisticRegression(random_state = 321, max_iter = 100, n_jobs = -1)\n",
    ")"
   ]
  },
  {
   "cell_type": "code",
   "execution_count": 142,
   "metadata": {},
   "outputs": [],
   "source": [
    "# Encode all Values\n",
    "encoder = ce.OrdinalEncoder()\n",
    "\n",
    "X_train_encoded = encoder.fit_transform(X_train)\n",
    "X_val_encoded = encoder.transform(X_val)\n",
    "X_test_encoded = encoder.transform(X_test)"
   ]
  },
  {
   "cell_type": "code",
   "execution_count": 143,
   "metadata": {},
   "outputs": [
    {
     "data": {
      "text/plain": [
       "Pipeline(memory=None,\n",
       "         steps=[('standardscaler',\n",
       "                 StandardScaler(copy=True, with_mean=True, with_std=True)),\n",
       "                ('ordinalencoder',\n",
       "                 OrdinalEncoder(cols=[], drop_invariant=False,\n",
       "                                handle_missing='value', handle_unknown='value',\n",
       "                                mapping=[], return_df=True, verbose=0)),\n",
       "                ('logisticregression',\n",
       "                 LogisticRegression(C=1.0, class_weight=None, dual=False,\n",
       "                                    fit_intercept=True, intercept_scaling=1,\n",
       "                                    l1_ratio=None, max_iter=100,\n",
       "                                    multi_class='auto', n_jobs=-1, penalty='l2',\n",
       "                                    random_state=321, solver='lbfgs',\n",
       "                                    tol=0.0001, verbose=0, warm_start=False))],\n",
       "         verbose=False)"
      ]
     },
     "execution_count": 143,
     "metadata": {},
     "output_type": "execute_result"
    }
   ],
   "source": [
    "log_pipe.fit(X_train_encoded, y_train)"
   ]
  },
  {
   "cell_type": "code",
   "execution_count": 144,
   "metadata": {},
   "outputs": [
    {
     "name": "stdout",
     "output_type": "stream",
     "text": [
      "Train Score: 0.022452830188679246\n"
     ]
    }
   ],
   "source": [
    "print('Train Score:', log_pipe.score(X_train_encoded, y_train))"
   ]
  },
  {
   "cell_type": "code",
   "execution_count": 145,
   "metadata": {},
   "outputs": [
    {
     "name": "stdout",
     "output_type": "stream",
     "text": [
      "Validation Score: 0.011886792452830188\n"
     ]
    }
   ],
   "source": [
    "print('Validation Score:', log_pipe.score(X_val_encoded, y_train))"
   ]
  },
  {
   "cell_type": "markdown",
   "metadata": {},
   "source": [
    "## Test Scores"
   ]
  },
  {
   "cell_type": "code",
   "execution_count": 146,
   "metadata": {},
   "outputs": [
    {
     "name": "stdout",
     "output_type": "stream",
     "text": [
      "Test Score (Decision Tree): 0.01660377358490566\n",
      "Test Score (Linear Model): 0.016981132075471698\n"
     ]
    }
   ],
   "source": [
    "print('Test Score (Decision Tree):', pipeline.score(X_test, y_test))\n",
    "print('Test Score (Linear Model):', log_pipe.score(X_test_encoded, y_test))"
   ]
  },
  {
   "cell_type": "markdown",
   "metadata": {},
   "source": [
    "# Model Visualizations"
   ]
  },
  {
   "cell_type": "markdown",
   "metadata": {},
   "source": [
    "## Visualize Decision Tree"
   ]
  },
  {
   "cell_type": "code",
   "execution_count": 147,
   "metadata": {},
   "outputs": [],
   "source": [
    "# Imports and Setup\n",
    "import graphviz\n",
    "from sklearn.tree import export_graphviz\n",
    "from IPython.display import display, HTML"
   ]
  },
  {
   "cell_type": "code",
   "execution_count": 148,
   "metadata": {},
   "outputs": [],
   "source": [
    "# Encode Columns; Define Model\n",
    "\n",
    "encoder = pipeline.named_steps.onehotencoder\n",
    "model = pipeline.named_steps.decisiontreeclassifier\n",
    "\n",
    "encoded_columns = encoder.transform(X_train).columns"
   ]
  },
  {
   "cell_type": "code",
   "execution_count": 149,
   "metadata": {},
   "outputs": [
    {
     "data": {
      "image/svg+xml": [
       "<?xml version=\"1.0\" encoding=\"UTF-8\" standalone=\"no\"?>\n",
       "<!DOCTYPE svg PUBLIC \"-//W3C//DTD SVG 1.1//EN\"\n",
       " \"http://www.w3.org/Graphics/SVG/1.1/DTD/svg11.dtd\">\n",
       "<!-- Generated by graphviz version 2.42.3 (20191010.1750)\n",
       " -->\n",
       "<!-- Title: Tree Pages: 1 -->\n",
       "<svg width=\"851pt\" height=\"3073pt\"\n",
       " viewBox=\"0.00 0.00 851.00 3073.00\" xmlns=\"http://www.w3.org/2000/svg\" xmlns:xlink=\"http://www.w3.org/1999/xlink\">\n",
       "<g id=\"graph0\" class=\"graph\" transform=\"scale(1 1) rotate(0) translate(4 3069)\">\n",
       "<title>Tree</title>\n",
       "<polygon fill=\"white\" stroke=\"transparent\" points=\"-4,4 -4,-3069 847,-3069 847,4 -4,4\"/>\n",
       "<!-- 0 -->\n",
       "<g id=\"node1\" class=\"node\">\n",
       "<title>0</title>\n",
       "<polygon fill=\"none\" stroke=\"black\" points=\"711.5,-3065 426.5,-3065 426.5,-2322 711.5,-2322 711.5,-3065\"/>\n",
       "<text text-anchor=\"middle\" x=\"569\" y=\"-3049.8\" font-family=\"Times,serif\" font-size=\"14.00\">Race_Asian or Pacific Islander &lt;= 0.5</text>\n",
       "<text text-anchor=\"middle\" x=\"569\" y=\"-3034.8\" font-family=\"Times,serif\" font-size=\"14.00\">gini = 0.996</text>\n",
       "<text text-anchor=\"middle\" x=\"569\" y=\"-3019.8\" font-family=\"Times,serif\" font-size=\"14.00\">samples = 5300</text>\n",
       "<text text-anchor=\"middle\" x=\"569\" y=\"-3004.8\" font-family=\"Times,serif\" font-size=\"14.00\">value = [11, 1, 9, 10, 1, 1, 2, 1, 9, 44, 14, 3, 4, 3</text>\n",
       "<text text-anchor=\"middle\" x=\"569\" y=\"-2989.8\" font-family=\"Times,serif\" font-size=\"14.00\">2, 5, 9, 14, 1, 39, 15, 15, 14, 6, 2, 4, 1</text>\n",
       "<text text-anchor=\"middle\" x=\"569\" y=\"-2974.8\" font-family=\"Times,serif\" font-size=\"14.00\">1, 1, 8, 3, 2, 5, 13, 2, 1, 11, 7, 7, 4, 6</text>\n",
       "<text text-anchor=\"middle\" x=\"569\" y=\"-2959.8\" font-family=\"Times,serif\" font-size=\"14.00\">3, 5, 2, 6, 8, 15, 20, 13, 30, 9, 9, 6, 43</text>\n",
       "<text text-anchor=\"middle\" x=\"569\" y=\"-2944.8\" font-family=\"Times,serif\" font-size=\"14.00\">10, 13, 20, 11, 1, 4, 11, 2, 26, 6, 7, 1, 14</text>\n",
       "<text text-anchor=\"middle\" x=\"569\" y=\"-2929.8\" font-family=\"Times,serif\" font-size=\"14.00\">12, 21, 12, 1, 1, 7, 29, 16, 6, 4, 11, 6, 8</text>\n",
       "<text text-anchor=\"middle\" x=\"569\" y=\"-2914.8\" font-family=\"Times,serif\" font-size=\"14.00\">7, 4, 4, 6, 5, 13, 3, 4, 7, 10, 2, 2, 34, 4</text>\n",
       "<text text-anchor=\"middle\" x=\"569\" y=\"-2899.8\" font-family=\"Times,serif\" font-size=\"14.00\">10, 19, 20, 25, 15, 17, 6, 16, 10, 23, 6, 13</text>\n",
       "<text text-anchor=\"middle\" x=\"569\" y=\"-2884.8\" font-family=\"Times,serif\" font-size=\"14.00\">26, 38, 2, 21, 2, 11, 1, 11, 18, 1, 1, 4, 13</text>\n",
       "<text text-anchor=\"middle\" x=\"569\" y=\"-2869.8\" font-family=\"Times,serif\" font-size=\"14.00\">1, 3, 11, 8, 15, 2, 1, 1, 8, 3, 9, 2, 8, 10</text>\n",
       "<text text-anchor=\"middle\" x=\"569\" y=\"-2854.8\" font-family=\"Times,serif\" font-size=\"14.00\">5, 11, 4, 2, 1, 8, 15, 4, 7, 3, 1, 32, 55</text>\n",
       "<text text-anchor=\"middle\" x=\"569\" y=\"-2839.8\" font-family=\"Times,serif\" font-size=\"14.00\">87, 6, 2, 2, 1, 3, 5, 9, 1, 1, 24, 2, 1, 24</text>\n",
       "<text text-anchor=\"middle\" x=\"569\" y=\"-2824.8\" font-family=\"Times,serif\" font-size=\"14.00\">12, 8, 9, 11, 34, 13, 15, 16, 5, 6, 21, 6, 1</text>\n",
       "<text text-anchor=\"middle\" x=\"569\" y=\"-2809.8\" font-family=\"Times,serif\" font-size=\"14.00\">7, 13, 3, 2, 1, 4, 3, 5, 2, 3, 1, 6, 5, 3</text>\n",
       "<text text-anchor=\"middle\" x=\"569\" y=\"-2794.8\" font-family=\"Times,serif\" font-size=\"14.00\">6, 3, 2, 8, 8, 3, 1, 13, 16, 10, 1, 13, 9, 2</text>\n",
       "<text text-anchor=\"middle\" x=\"569\" y=\"-2779.8\" font-family=\"Times,serif\" font-size=\"14.00\">9, 8, 5, 7, 11, 3, 11, 14, 2, 10, 3, 52, 2</text>\n",
       "<text text-anchor=\"middle\" x=\"569\" y=\"-2764.8\" font-family=\"Times,serif\" font-size=\"14.00\">11, 1, 1, 3, 2, 18, 33, 18, 25, 2, 23, 8, 75</text>\n",
       "<text text-anchor=\"middle\" x=\"569\" y=\"-2749.8\" font-family=\"Times,serif\" font-size=\"14.00\">10, 31, 5, 11, 12, 22, 13, 2, 57, 3, 10, 20, 8</text>\n",
       "<text text-anchor=\"middle\" x=\"569\" y=\"-2734.8\" font-family=\"Times,serif\" font-size=\"14.00\">12, 29, 29, 63, 23, 41, 22, 32, 15, 32, 31, 14</text>\n",
       "<text text-anchor=\"middle\" x=\"569\" y=\"-2719.8\" font-family=\"Times,serif\" font-size=\"14.00\">43, 4, 9, 6, 10, 1, 19, 2, 2, 3, 1, 2, 1, 3</text>\n",
       "<text text-anchor=\"middle\" x=\"569\" y=\"-2704.8\" font-family=\"Times,serif\" font-size=\"14.00\">8, 15, 3, 6, 21, 42, 2, 1, 2, 1, 3, 4, 9, 39</text>\n",
       "<text text-anchor=\"middle\" x=\"569\" y=\"-2689.8\" font-family=\"Times,serif\" font-size=\"14.00\">22, 8, 4, 2, 1, 12, 7, 6, 2, 32, 7, 5, 4, 2</text>\n",
       "<text text-anchor=\"middle\" x=\"569\" y=\"-2674.8\" font-family=\"Times,serif\" font-size=\"14.00\">3, 25, 31, 1, 4, 7, 14, 14, 8, 10, 3, 9, 6</text>\n",
       "<text text-anchor=\"middle\" x=\"569\" y=\"-2659.8\" font-family=\"Times,serif\" font-size=\"14.00\">1, 3, 2, 7, 5, 4, 6, 4, 6, 23, 23, 16, 4, 1</text>\n",
       "<text text-anchor=\"middle\" x=\"569\" y=\"-2644.8\" font-family=\"Times,serif\" font-size=\"14.00\">1, 12, 15, 9, 38, 28, 4, 15, 9, 30, 16, 14, 4</text>\n",
       "<text text-anchor=\"middle\" x=\"569\" y=\"-2629.8\" font-family=\"Times,serif\" font-size=\"14.00\">12, 22, 7, 4, 11, 3, 11, 4, 1, 2, 16, 6, 4</text>\n",
       "<text text-anchor=\"middle\" x=\"569\" y=\"-2614.8\" font-family=\"Times,serif\" font-size=\"14.00\">3, 7, 7, 5, 1, 1, 1, 12, 17, 4, 18, 14, 2, 4</text>\n",
       "<text text-anchor=\"middle\" x=\"569\" y=\"-2599.8\" font-family=\"Times,serif\" font-size=\"14.00\">4, 7, 1, 3, 4, 7, 2, 1, 15, 3, 8, 2, 1, 5</text>\n",
       "<text text-anchor=\"middle\" x=\"569\" y=\"-2584.8\" font-family=\"Times,serif\" font-size=\"14.00\">1, 4, 5, 14, 45, 18, 4, 12, 3, 5, 13, 4, 1</text>\n",
       "<text text-anchor=\"middle\" x=\"569\" y=\"-2569.8\" font-family=\"Times,serif\" font-size=\"14.00\">1, 2, 1, 1, 1, 1, 5, 1, 1, 1, 1, 6, 7, 3</text>\n",
       "<text text-anchor=\"middle\" x=\"569\" y=\"-2554.8\" font-family=\"Times,serif\" font-size=\"14.00\">9, 9, 2, 1, 8, 1, 1, 6, 2, 2, 6, 2, 3, 1</text>\n",
       "<text text-anchor=\"middle\" x=\"569\" y=\"-2539.8\" font-family=\"Times,serif\" font-size=\"14.00\">9, 2, 1, 2, 1, 2, 1, 2, 4, 1, 1, 2, 2, 7</text>\n",
       "<text text-anchor=\"middle\" x=\"569\" y=\"-2524.8\" font-family=\"Times,serif\" font-size=\"14.00\">1, 1, 4, 7, 5, 15, 2, 3, 5, 1, 3, 7, 1, 1</text>\n",
       "<text text-anchor=\"middle\" x=\"569\" y=\"-2509.8\" font-family=\"Times,serif\" font-size=\"14.00\">3, 4, 2, 2, 7, 9, 5, 1, 2, 2, 3, 6, 1, 1</text>\n",
       "<text text-anchor=\"middle\" x=\"569\" y=\"-2494.8\" font-family=\"Times,serif\" font-size=\"14.00\">3, 4, 10, 9, 7, 9, 1, 2, 5, 5, 2, 9, 22, 19</text>\n",
       "<text text-anchor=\"middle\" x=\"569\" y=\"-2479.8\" font-family=\"Times,serif\" font-size=\"14.00\">5, 5, 20, 8, 7, 1, 1, 6, 3, 7, 6, 10, 34, 17</text>\n",
       "<text text-anchor=\"middle\" x=\"569\" y=\"-2464.8\" font-family=\"Times,serif\" font-size=\"14.00\">1, 30, 21, 25, 16, 7, 2, 11, 18, 2, 3, 4, 5</text>\n",
       "<text text-anchor=\"middle\" x=\"569\" y=\"-2449.8\" font-family=\"Times,serif\" font-size=\"14.00\">3, 2, 8, 26, 30, 2, 3, 11, 5, 1, 3, 5, 2, 2</text>\n",
       "<text text-anchor=\"middle\" x=\"569\" y=\"-2434.8\" font-family=\"Times,serif\" font-size=\"14.00\">1, 7, 2, 1, 3, 16, 15, 3, 3, 3, 4, 1, 4, 5</text>\n",
       "<text text-anchor=\"middle\" x=\"569\" y=\"-2419.8\" font-family=\"Times,serif\" font-size=\"14.00\">2, 2, 9, 2, 1, 2, 8, 7, 1, 18, 4, 4, 9, 1</text>\n",
       "<text text-anchor=\"middle\" x=\"569\" y=\"-2404.8\" font-family=\"Times,serif\" font-size=\"14.00\">5, 5, 4, 19, 1, 9, 2, 15, 6, 8, 9, 3, 6, 17</text>\n",
       "<text text-anchor=\"middle\" x=\"569\" y=\"-2389.8\" font-family=\"Times,serif\" font-size=\"14.00\">12, 8, 3, 6, 2, 29, 5, 5, 6, 13, 2, 7, 2, 13</text>\n",
       "<text text-anchor=\"middle\" x=\"569\" y=\"-2374.8\" font-family=\"Times,serif\" font-size=\"14.00\">3, 9, 10, 21, 4, 3, 5, 4, 4, 4, 2, 1, 16, 2</text>\n",
       "<text text-anchor=\"middle\" x=\"569\" y=\"-2359.8\" font-family=\"Times,serif\" font-size=\"14.00\">8, 11, 17, 6, 1, 1, 2, 2, 1, 1, 19, 3, 4, 6</text>\n",
       "<text text-anchor=\"middle\" x=\"569\" y=\"-2344.8\" font-family=\"Times,serif\" font-size=\"14.00\">1, 3, 3, 3, 1, 7, 7, 3, 15, 5, 7, 8, 6, 2]</text>\n",
       "<text text-anchor=\"middle\" x=\"569\" y=\"-2329.8\" font-family=\"Times,serif\" font-size=\"14.00\">class = E14</text>\n",
       "</g>\n",
       "<!-- 1 -->\n",
       "<g id=\"node2\" class=\"node\">\n",
       "<title>1</title>\n",
       "<polygon fill=\"none\" stroke=\"black\" points=\"566.5,-2286 281.5,-2286 281.5,-1543 566.5,-1543 566.5,-2286\"/>\n",
       "<text text-anchor=\"middle\" x=\"424\" y=\"-2270.8\" font-family=\"Times,serif\" font-size=\"14.00\">Age Group_1&#45;4 years &lt;= 0.5</text>\n",
       "<text text-anchor=\"middle\" x=\"424\" y=\"-2255.8\" font-family=\"Times,serif\" font-size=\"14.00\">gini = 0.996</text>\n",
       "<text text-anchor=\"middle\" x=\"424\" y=\"-2240.8\" font-family=\"Times,serif\" font-size=\"14.00\">samples = 5039</text>\n",
       "<text text-anchor=\"middle\" x=\"424\" y=\"-2225.8\" font-family=\"Times,serif\" font-size=\"14.00\">value = [11, 1, 9, 10, 1, 1, 2, 1, 9, 41, 14, 3, 4, 3</text>\n",
       "<text text-anchor=\"middle\" x=\"424\" y=\"-2210.8\" font-family=\"Times,serif\" font-size=\"14.00\">2, 4, 9, 12, 1, 39, 15, 15, 14, 6, 2, 4, 1</text>\n",
       "<text text-anchor=\"middle\" x=\"424\" y=\"-2195.8\" font-family=\"Times,serif\" font-size=\"14.00\">1, 1, 8, 3, 2, 5, 13, 2, 1, 11, 7, 7, 4, 6</text>\n",
       "<text text-anchor=\"middle\" x=\"424\" y=\"-2180.8\" font-family=\"Times,serif\" font-size=\"14.00\">3, 4, 2, 6, 8, 11, 16, 13, 28, 9, 9, 6, 33</text>\n",
       "<text text-anchor=\"middle\" x=\"424\" y=\"-2165.8\" font-family=\"Times,serif\" font-size=\"14.00\">9, 13, 15, 11, 1, 4, 11, 2, 24, 6, 7, 1, 14</text>\n",
       "<text text-anchor=\"middle\" x=\"424\" y=\"-2150.8\" font-family=\"Times,serif\" font-size=\"14.00\">12, 21, 12, 1, 1, 7, 28, 14, 6, 4, 10, 4, 6</text>\n",
       "<text text-anchor=\"middle\" x=\"424\" y=\"-2135.8\" font-family=\"Times,serif\" font-size=\"14.00\">5, 4, 4, 5, 5, 12, 3, 4, 6, 10, 2, 2, 32, 4</text>\n",
       "<text text-anchor=\"middle\" x=\"424\" y=\"-2120.8\" font-family=\"Times,serif\" font-size=\"14.00\">10, 19, 20, 24, 12, 17, 6, 16, 10, 19, 6, 10</text>\n",
       "<text text-anchor=\"middle\" x=\"424\" y=\"-2105.8\" font-family=\"Times,serif\" font-size=\"14.00\">26, 35, 2, 21, 2, 11, 1, 11, 18, 1, 1, 4, 13</text>\n",
       "<text text-anchor=\"middle\" x=\"424\" y=\"-2090.8\" font-family=\"Times,serif\" font-size=\"14.00\">1, 3, 11, 8, 15, 2, 1, 1, 8, 3, 9, 2, 8, 10</text>\n",
       "<text text-anchor=\"middle\" x=\"424\" y=\"-2075.8\" font-family=\"Times,serif\" font-size=\"14.00\">5, 11, 4, 2, 1, 8, 15, 4, 7, 3, 1, 32, 51</text>\n",
       "<text text-anchor=\"middle\" x=\"424\" y=\"-2060.8\" font-family=\"Times,serif\" font-size=\"14.00\">82, 6, 2, 2, 1, 3, 5, 8, 1, 1, 24, 2, 1, 23</text>\n",
       "<text text-anchor=\"middle\" x=\"424\" y=\"-2045.8\" font-family=\"Times,serif\" font-size=\"14.00\">12, 8, 9, 11, 34, 13, 14, 13, 5, 6, 20, 6, 1</text>\n",
       "<text text-anchor=\"middle\" x=\"424\" y=\"-2030.8\" font-family=\"Times,serif\" font-size=\"14.00\">7, 13, 3, 2, 1, 4, 3, 5, 2, 3, 1, 6, 5, 3</text>\n",
       "<text text-anchor=\"middle\" x=\"424\" y=\"-2015.8\" font-family=\"Times,serif\" font-size=\"14.00\">6, 3, 2, 8, 5, 3, 1, 11, 16, 10, 1, 13, 9, 2</text>\n",
       "<text text-anchor=\"middle\" x=\"424\" y=\"-2000.8\" font-family=\"Times,serif\" font-size=\"14.00\">9, 8, 5, 7, 11, 3, 11, 14, 2, 10, 3, 52, 2</text>\n",
       "<text text-anchor=\"middle\" x=\"424\" y=\"-1985.8\" font-family=\"Times,serif\" font-size=\"14.00\">11, 1, 1, 3, 2, 16, 26, 15, 25, 2, 18, 8, 58</text>\n",
       "<text text-anchor=\"middle\" x=\"424\" y=\"-1970.8\" font-family=\"Times,serif\" font-size=\"14.00\">10, 30, 5, 11, 12, 21, 13, 2, 55, 3, 10, 17, 8</text>\n",
       "<text text-anchor=\"middle\" x=\"424\" y=\"-1955.8\" font-family=\"Times,serif\" font-size=\"14.00\">9, 27, 24, 57, 19, 36, 15, 30, 10, 30, 29, 14</text>\n",
       "<text text-anchor=\"middle\" x=\"424\" y=\"-1940.8\" font-family=\"Times,serif\" font-size=\"14.00\">43, 4, 9, 6, 10, 1, 19, 2, 2, 3, 1, 2, 1, 3</text>\n",
       "<text text-anchor=\"middle\" x=\"424\" y=\"-1925.8\" font-family=\"Times,serif\" font-size=\"14.00\">8, 15, 3, 6, 21, 37, 2, 1, 2, 1, 3, 4, 8, 33</text>\n",
       "<text text-anchor=\"middle\" x=\"424\" y=\"-1910.8\" font-family=\"Times,serif\" font-size=\"14.00\">21, 8, 4, 2, 1, 9, 7, 6, 2, 30, 7, 5, 4, 2</text>\n",
       "<text text-anchor=\"middle\" x=\"424\" y=\"-1895.8\" font-family=\"Times,serif\" font-size=\"14.00\">3, 24, 31, 1, 4, 7, 14, 14, 8, 10, 3, 9, 6</text>\n",
       "<text text-anchor=\"middle\" x=\"424\" y=\"-1880.8\" font-family=\"Times,serif\" font-size=\"14.00\">1, 3, 2, 7, 5, 4, 6, 4, 6, 21, 23, 16, 4, 1</text>\n",
       "<text text-anchor=\"middle\" x=\"424\" y=\"-1865.8\" font-family=\"Times,serif\" font-size=\"14.00\">1, 12, 15, 9, 36, 28, 4, 12, 9, 29, 16, 14, 4</text>\n",
       "<text text-anchor=\"middle\" x=\"424\" y=\"-1850.8\" font-family=\"Times,serif\" font-size=\"14.00\">12, 22, 7, 4, 8, 3, 11, 4, 1, 2, 16, 6, 4, 3</text>\n",
       "<text text-anchor=\"middle\" x=\"424\" y=\"-1835.8\" font-family=\"Times,serif\" font-size=\"14.00\">7, 7, 5, 1, 1, 1, 12, 17, 4, 18, 14, 2, 4, 4</text>\n",
       "<text text-anchor=\"middle\" x=\"424\" y=\"-1820.8\" font-family=\"Times,serif\" font-size=\"14.00\">7, 1, 3, 4, 7, 2, 1, 15, 3, 8, 2, 1, 5, 1</text>\n",
       "<text text-anchor=\"middle\" x=\"424\" y=\"-1805.8\" font-family=\"Times,serif\" font-size=\"14.00\">4, 5, 12, 35, 14, 4, 12, 3, 5, 12, 4, 1, 1</text>\n",
       "<text text-anchor=\"middle\" x=\"424\" y=\"-1790.8\" font-family=\"Times,serif\" font-size=\"14.00\">2, 1, 1, 1, 1, 5, 1, 1, 1, 1, 6, 7, 3, 8</text>\n",
       "<text text-anchor=\"middle\" x=\"424\" y=\"-1775.8\" font-family=\"Times,serif\" font-size=\"14.00\">8, 2, 1, 7, 1, 1, 6, 2, 2, 6, 1, 3, 1, 8</text>\n",
       "<text text-anchor=\"middle\" x=\"424\" y=\"-1760.8\" font-family=\"Times,serif\" font-size=\"14.00\">2, 1, 2, 1, 1, 1, 2, 4, 1, 1, 2, 2, 7, 1</text>\n",
       "<text text-anchor=\"middle\" x=\"424\" y=\"-1745.8\" font-family=\"Times,serif\" font-size=\"14.00\">1, 4, 7, 5, 15, 2, 3, 5, 1, 3, 7, 1, 1, 3</text>\n",
       "<text text-anchor=\"middle\" x=\"424\" y=\"-1730.8\" font-family=\"Times,serif\" font-size=\"14.00\">4, 2, 2, 7, 9, 5, 1, 2, 2, 3, 6, 1, 1, 3</text>\n",
       "<text text-anchor=\"middle\" x=\"424\" y=\"-1715.8\" font-family=\"Times,serif\" font-size=\"14.00\">4, 10, 9, 7, 8, 1, 2, 5, 5, 1, 9, 18, 19, 5</text>\n",
       "<text text-anchor=\"middle\" x=\"424\" y=\"-1700.8\" font-family=\"Times,serif\" font-size=\"14.00\">5, 20, 8, 7, 1, 1, 6, 3, 7, 6, 10, 33, 17, 1</text>\n",
       "<text text-anchor=\"middle\" x=\"424\" y=\"-1685.8\" font-family=\"Times,serif\" font-size=\"14.00\">29, 21, 25, 16, 7, 2, 11, 18, 2, 3, 4, 5, 3</text>\n",
       "<text text-anchor=\"middle\" x=\"424\" y=\"-1670.8\" font-family=\"Times,serif\" font-size=\"14.00\">2, 8, 22, 26, 2, 3, 11, 5, 1, 3, 5, 2, 2, 1</text>\n",
       "<text text-anchor=\"middle\" x=\"424\" y=\"-1655.8\" font-family=\"Times,serif\" font-size=\"14.00\">7, 2, 1, 3, 15, 10, 3, 3, 3, 4, 1, 4, 5, 2</text>\n",
       "<text text-anchor=\"middle\" x=\"424\" y=\"-1640.8\" font-family=\"Times,serif\" font-size=\"14.00\">2, 9, 2, 1, 2, 8, 7, 1, 15, 4, 4, 9, 1, 5</text>\n",
       "<text text-anchor=\"middle\" x=\"424\" y=\"-1625.8\" font-family=\"Times,serif\" font-size=\"14.00\">5, 4, 19, 1, 9, 2, 15, 6, 8, 9, 3, 6, 16, 10</text>\n",
       "<text text-anchor=\"middle\" x=\"424\" y=\"-1610.8\" font-family=\"Times,serif\" font-size=\"14.00\">8, 3, 6, 2, 29, 5, 5, 6, 13, 2, 7, 2, 9, 3</text>\n",
       "<text text-anchor=\"middle\" x=\"424\" y=\"-1595.8\" font-family=\"Times,serif\" font-size=\"14.00\">8, 10, 18, 4, 3, 5, 4, 4, 4, 2, 1, 16, 2, 8</text>\n",
       "<text text-anchor=\"middle\" x=\"424\" y=\"-1580.8\" font-family=\"Times,serif\" font-size=\"14.00\">11, 14, 6, 1, 1, 2, 2, 1, 1, 19, 3, 4, 6, 1</text>\n",
       "<text text-anchor=\"middle\" x=\"424\" y=\"-1565.8\" font-family=\"Times,serif\" font-size=\"14.00\">3, 3, 3, 1, 7, 7, 3, 15, 5, 7, 8, 6, 2]</text>\n",
       "<text text-anchor=\"middle\" x=\"424\" y=\"-1550.8\" font-family=\"Times,serif\" font-size=\"14.00\">class = E14</text>\n",
       "</g>\n",
       "<!-- 0&#45;&gt;1 -->\n",
       "<g id=\"edge1\" class=\"edge\">\n",
       "<title>0&#45;&gt;1</title>\n",
       "<path fill=\"none\" stroke=\"black\" d=\"M499.84,-2321.92C498.25,-2313.36 496.65,-2304.78 495.05,-2296.21\"/>\n",
       "<polygon fill=\"black\" stroke=\"black\" points=\"498.44,-2295.34 493.17,-2286.15 491.56,-2296.62 498.44,-2295.34\"/>\n",
       "<text text-anchor=\"middle\" x=\"479.03\" y=\"-2303.07\" font-family=\"Times,serif\" font-size=\"14.00\">True</text>\n",
       "</g>\n",
       "<!-- 2 -->\n",
       "<g id=\"node7\" class=\"node\">\n",
       "<title>2</title>\n",
       "<polygon fill=\"none\" stroke=\"black\" points=\"843,-2271 585,-2271 585,-1558 843,-1558 843,-2271\"/>\n",
       "<text text-anchor=\"middle\" x=\"714\" y=\"-2255.8\" font-family=\"Times,serif\" font-size=\"14.00\">gini = 0.981</text>\n",
       "<text text-anchor=\"middle\" x=\"714\" y=\"-2240.8\" font-family=\"Times,serif\" font-size=\"14.00\">samples = 261</text>\n",
       "<text text-anchor=\"middle\" x=\"714\" y=\"-2225.8\" font-family=\"Times,serif\" font-size=\"14.00\">value = [0, 0, 0, 0, 0, 0, 0, 0, 0, 3, 0, 0, 0, 0</text>\n",
       "<text text-anchor=\"middle\" x=\"714\" y=\"-2210.8\" font-family=\"Times,serif\" font-size=\"14.00\">0, 1, 0, 2, 0, 0, 0, 0, 0, 0, 0, 0, 0, 0</text>\n",
       "<text text-anchor=\"middle\" x=\"714\" y=\"-2195.8\" font-family=\"Times,serif\" font-size=\"14.00\">0, 0, 0, 0, 0, 0, 0, 0, 0, 0, 0, 0, 0, 0</text>\n",
       "<text text-anchor=\"middle\" x=\"714\" y=\"-2180.8\" font-family=\"Times,serif\" font-size=\"14.00\">1, 0, 0, 0, 4, 4, 0, 2, 0, 0, 0, 10, 1, 0</text>\n",
       "<text text-anchor=\"middle\" x=\"714\" y=\"-2165.8\" font-family=\"Times,serif\" font-size=\"14.00\">5, 0, 0, 0, 0, 0, 2, 0, 0, 0, 0, 0, 0, 0</text>\n",
       "<text text-anchor=\"middle\" x=\"714\" y=\"-2150.8\" font-family=\"Times,serif\" font-size=\"14.00\">0, 0, 0, 1, 2, 0, 0, 1, 2, 2, 2, 0, 0, 1</text>\n",
       "<text text-anchor=\"middle\" x=\"714\" y=\"-2135.8\" font-family=\"Times,serif\" font-size=\"14.00\">0, 1, 0, 0, 1, 0, 0, 0, 2, 0, 0, 0, 0, 1</text>\n",
       "<text text-anchor=\"middle\" x=\"714\" y=\"-2120.8\" font-family=\"Times,serif\" font-size=\"14.00\">3, 0, 0, 0, 0, 4, 0, 3, 0, 3, 0, 0, 0, 0</text>\n",
       "<text text-anchor=\"middle\" x=\"714\" y=\"-2105.8\" font-family=\"Times,serif\" font-size=\"14.00\">0, 0, 0, 0, 0, 0, 0, 0, 0, 0, 0, 0, 0, 0</text>\n",
       "<text text-anchor=\"middle\" x=\"714\" y=\"-2090.8\" font-family=\"Times,serif\" font-size=\"14.00\">0, 0, 0, 0, 0, 0, 0, 0, 0, 0, 0, 0, 0, 0</text>\n",
       "<text text-anchor=\"middle\" x=\"714\" y=\"-2075.8\" font-family=\"Times,serif\" font-size=\"14.00\">0, 0, 0, 0, 0, 4, 5, 0, 0, 0, 0, 0, 0, 1</text>\n",
       "<text text-anchor=\"middle\" x=\"714\" y=\"-2060.8\" font-family=\"Times,serif\" font-size=\"14.00\">0, 0, 0, 0, 0, 1, 0, 0, 0, 0, 0, 0, 1, 3</text>\n",
       "<text text-anchor=\"middle\" x=\"714\" y=\"-2045.8\" font-family=\"Times,serif\" font-size=\"14.00\">0, 0, 1, 0, 0, 0, 0, 0, 0, 0, 0, 0, 0, 0</text>\n",
       "<text text-anchor=\"middle\" x=\"714\" y=\"-2030.8\" font-family=\"Times,serif\" font-size=\"14.00\">0, 0, 0, 0, 0, 0, 0, 0, 0, 3, 0, 0, 2, 0</text>\n",
       "<text text-anchor=\"middle\" x=\"714\" y=\"-2015.8\" font-family=\"Times,serif\" font-size=\"14.00\">0, 0, 0, 0, 0, 0, 0, 0, 0, 0, 0, 0, 0, 0</text>\n",
       "<text text-anchor=\"middle\" x=\"714\" y=\"-2000.8\" font-family=\"Times,serif\" font-size=\"14.00\">0, 0, 0, 0, 0, 0, 0, 0, 0, 2, 7, 3, 0, 0</text>\n",
       "<text text-anchor=\"middle\" x=\"714\" y=\"-1985.8\" font-family=\"Times,serif\" font-size=\"14.00\">5, 0, 17, 0, 1, 0, 0, 0, 1, 0, 0, 2, 0, 0</text>\n",
       "<text text-anchor=\"middle\" x=\"714\" y=\"-1970.8\" font-family=\"Times,serif\" font-size=\"14.00\">3, 0, 3, 2, 5, 6, 4, 5, 7, 2, 5, 2, 2, 0</text>\n",
       "<text text-anchor=\"middle\" x=\"714\" y=\"-1955.8\" font-family=\"Times,serif\" font-size=\"14.00\">0, 0, 0, 0, 0, 0, 0, 0, 0, 0, 0, 0, 0, 0</text>\n",
       "<text text-anchor=\"middle\" x=\"714\" y=\"-1940.8\" font-family=\"Times,serif\" font-size=\"14.00\">0, 0, 0, 0, 0, 5, 0, 0, 0, 0, 0, 0, 1, 6</text>\n",
       "<text text-anchor=\"middle\" x=\"714\" y=\"-1925.8\" font-family=\"Times,serif\" font-size=\"14.00\">1, 0, 0, 0, 0, 3, 0, 0, 0, 2, 0, 0, 0, 0</text>\n",
       "<text text-anchor=\"middle\" x=\"714\" y=\"-1910.8\" font-family=\"Times,serif\" font-size=\"14.00\">0, 1, 0, 0, 0, 0, 0, 0, 0, 0, 0, 0, 0, 0</text>\n",
       "<text text-anchor=\"middle\" x=\"714\" y=\"-1895.8\" font-family=\"Times,serif\" font-size=\"14.00\">0, 0, 0, 0, 0, 0, 0, 0, 2, 0, 0, 0, 0, 0</text>\n",
       "<text text-anchor=\"middle\" x=\"714\" y=\"-1880.8\" font-family=\"Times,serif\" font-size=\"14.00\">0, 0, 0, 2, 0, 0, 3, 0, 1, 0, 0, 0, 0, 0</text>\n",
       "<text text-anchor=\"middle\" x=\"714\" y=\"-1865.8\" font-family=\"Times,serif\" font-size=\"14.00\">0, 0, 3, 0, 0, 0, 0, 0, 0, 0, 0, 0, 0, 0</text>\n",
       "<text text-anchor=\"middle\" x=\"714\" y=\"-1850.8\" font-family=\"Times,serif\" font-size=\"14.00\">0, 0, 0, 0, 0, 0, 0, 0, 0, 0, 0, 0, 0, 0</text>\n",
       "<text text-anchor=\"middle\" x=\"714\" y=\"-1835.8\" font-family=\"Times,serif\" font-size=\"14.00\">0, 0, 0, 0, 0, 0, 0, 0, 0, 0, 0, 0, 0, 0</text>\n",
       "<text text-anchor=\"middle\" x=\"714\" y=\"-1820.8\" font-family=\"Times,serif\" font-size=\"14.00\">2, 10, 4, 0, 0, 0, 0, 1, 0, 0, 0, 0, 0, 0</text>\n",
       "<text text-anchor=\"middle\" x=\"714\" y=\"-1805.8\" font-family=\"Times,serif\" font-size=\"14.00\">0, 0, 0, 0, 0, 0, 0, 0, 0, 0, 1, 1, 0, 0</text>\n",
       "<text text-anchor=\"middle\" x=\"714\" y=\"-1790.8\" font-family=\"Times,serif\" font-size=\"14.00\">1, 0, 0, 0, 0, 0, 0, 1, 0, 0, 1, 0, 0, 0</text>\n",
       "<text text-anchor=\"middle\" x=\"714\" y=\"-1775.8\" font-family=\"Times,serif\" font-size=\"14.00\">0, 1, 0, 0, 0, 0, 0, 0, 0, 0, 0, 0, 0, 0</text>\n",
       "<text text-anchor=\"middle\" x=\"714\" y=\"-1760.8\" font-family=\"Times,serif\" font-size=\"14.00\">0, 0, 0, 0, 0, 0, 0, 0, 0, 0, 0, 0, 0, 0</text>\n",
       "<text text-anchor=\"middle\" x=\"714\" y=\"-1745.8\" font-family=\"Times,serif\" font-size=\"14.00\">0, 0, 0, 0, 0, 0, 0, 0, 0, 0, 0, 0, 0, 0</text>\n",
       "<text text-anchor=\"middle\" x=\"714\" y=\"-1730.8\" font-family=\"Times,serif\" font-size=\"14.00\">0, 1, 0, 0, 0, 0, 1, 0, 4, 0, 0, 0, 0, 0</text>\n",
       "<text text-anchor=\"middle\" x=\"714\" y=\"-1715.8\" font-family=\"Times,serif\" font-size=\"14.00\">0, 0, 0, 0, 0, 0, 0, 0, 1, 0, 0, 1, 0, 0</text>\n",
       "<text text-anchor=\"middle\" x=\"714\" y=\"-1700.8\" font-family=\"Times,serif\" font-size=\"14.00\">0, 0, 0, 0, 0, 0, 0, 0, 0, 0, 0, 0, 4, 4</text>\n",
       "<text text-anchor=\"middle\" x=\"714\" y=\"-1685.8\" font-family=\"Times,serif\" font-size=\"14.00\">0, 0, 0, 0, 0, 0, 0, 0, 0, 0, 0, 0, 0, 0</text>\n",
       "<text text-anchor=\"middle\" x=\"714\" y=\"-1670.8\" font-family=\"Times,serif\" font-size=\"14.00\">1, 5, 0, 0, 0, 0, 0, 0, 0, 0, 0, 0, 0, 0</text>\n",
       "<text text-anchor=\"middle\" x=\"714\" y=\"-1655.8\" font-family=\"Times,serif\" font-size=\"14.00\">0, 0, 0, 0, 3, 0, 0, 0, 0, 0, 0, 0, 0, 0</text>\n",
       "<text text-anchor=\"middle\" x=\"714\" y=\"-1640.8\" font-family=\"Times,serif\" font-size=\"14.00\">0, 0, 0, 0, 0, 0, 0, 0, 1, 2, 0, 0, 0, 0</text>\n",
       "<text text-anchor=\"middle\" x=\"714\" y=\"-1625.8\" font-family=\"Times,serif\" font-size=\"14.00\">0, 0, 0, 0, 0, 0, 0, 0, 4, 0, 1, 0, 3, 0</text>\n",
       "<text text-anchor=\"middle\" x=\"714\" y=\"-1610.8\" font-family=\"Times,serif\" font-size=\"14.00\">0, 0, 0, 0, 0, 0, 0, 0, 0, 0, 0, 3, 0, 0</text>\n",
       "<text text-anchor=\"middle\" x=\"714\" y=\"-1595.8\" font-family=\"Times,serif\" font-size=\"14.00\">0, 0, 0, 0, 0, 0, 0, 0, 0, 0, 0, 0, 0, 0</text>\n",
       "<text text-anchor=\"middle\" x=\"714\" y=\"-1580.8\" font-family=\"Times,serif\" font-size=\"14.00\">0, 0, 0, 0, 0, 0, 0, 0, 0]</text>\n",
       "<text text-anchor=\"middle\" x=\"714\" y=\"-1565.8\" font-family=\"Times,serif\" font-size=\"14.00\">class = I25</text>\n",
       "</g>\n",
       "<!-- 0&#45;&gt;2 -->\n",
       "<g id=\"edge6\" class=\"edge\">\n",
       "<title>0&#45;&gt;2</title>\n",
       "<path fill=\"none\" stroke=\"black\" d=\"M638.16,-2321.92C640.69,-2308.32 643.24,-2294.7 645.77,-2281.11\"/>\n",
       "<polygon fill=\"black\" stroke=\"black\" points=\"649.22,-2281.69 647.62,-2271.22 642.34,-2280.41 649.22,-2281.69\"/>\n",
       "<text text-anchor=\"middle\" x=\"661.75\" y=\"-2288.14\" font-family=\"Times,serif\" font-size=\"14.00\">False</text>\n",
       "</g>\n",
       "<!-- 3 -->\n",
       "<g id=\"node3\" class=\"node\">\n",
       "<title>3</title>\n",
       "<polygon fill=\"none\" stroke=\"black\" points=\"421.5,-1507 136.5,-1507 136.5,-764 421.5,-764 421.5,-1507\"/>\n",
       "<text text-anchor=\"middle\" x=\"279\" y=\"-1491.8\" font-family=\"Times,serif\" font-size=\"14.00\">Race_Black or African American &lt;= 0.5</text>\n",
       "<text text-anchor=\"middle\" x=\"279\" y=\"-1476.8\" font-family=\"Times,serif\" font-size=\"14.00\">gini = 0.996</text>\n",
       "<text text-anchor=\"middle\" x=\"279\" y=\"-1461.8\" font-family=\"Times,serif\" font-size=\"14.00\">samples = 4973</text>\n",
       "<text text-anchor=\"middle\" x=\"279\" y=\"-1446.8\" font-family=\"Times,serif\" font-size=\"14.00\">value = [11, 1, 9, 10, 1, 1, 2, 1, 9, 39, 14, 3, 4, 3</text>\n",
       "<text text-anchor=\"middle\" x=\"279\" y=\"-1431.8\" font-family=\"Times,serif\" font-size=\"14.00\">2, 4, 9, 12, 1, 39, 15, 15, 14, 6, 2, 4, 1</text>\n",
       "<text text-anchor=\"middle\" x=\"279\" y=\"-1416.8\" font-family=\"Times,serif\" font-size=\"14.00\">1, 1, 8, 3, 2, 5, 13, 2, 1, 11, 7, 7, 4, 6</text>\n",
       "<text text-anchor=\"middle\" x=\"279\" y=\"-1401.8\" font-family=\"Times,serif\" font-size=\"14.00\">3, 4, 2, 6, 8, 11, 16, 13, 28, 9, 9, 6, 33</text>\n",
       "<text text-anchor=\"middle\" x=\"279\" y=\"-1386.8\" font-family=\"Times,serif\" font-size=\"14.00\">9, 13, 15, 11, 1, 4, 11, 2, 24, 6, 7, 1, 14</text>\n",
       "<text text-anchor=\"middle\" x=\"279\" y=\"-1371.8\" font-family=\"Times,serif\" font-size=\"14.00\">12, 21, 12, 1, 1, 7, 28, 14, 6, 4, 10, 4, 6</text>\n",
       "<text text-anchor=\"middle\" x=\"279\" y=\"-1356.8\" font-family=\"Times,serif\" font-size=\"14.00\">5, 4, 4, 5, 5, 11, 3, 4, 6, 10, 2, 2, 30, 4</text>\n",
       "<text text-anchor=\"middle\" x=\"279\" y=\"-1341.8\" font-family=\"Times,serif\" font-size=\"14.00\">8, 19, 20, 24, 12, 17, 6, 16, 10, 19, 6, 10</text>\n",
       "<text text-anchor=\"middle\" x=\"279\" y=\"-1326.8\" font-family=\"Times,serif\" font-size=\"14.00\">25, 35, 2, 21, 2, 11, 1, 11, 18, 1, 1, 4, 13</text>\n",
       "<text text-anchor=\"middle\" x=\"279\" y=\"-1311.8\" font-family=\"Times,serif\" font-size=\"14.00\">1, 3, 11, 8, 15, 2, 1, 1, 8, 3, 9, 2, 8, 10</text>\n",
       "<text text-anchor=\"middle\" x=\"279\" y=\"-1296.8\" font-family=\"Times,serif\" font-size=\"14.00\">5, 11, 4, 2, 0, 8, 15, 4, 7, 3, 1, 32, 51</text>\n",
       "<text text-anchor=\"middle\" x=\"279\" y=\"-1281.8\" font-family=\"Times,serif\" font-size=\"14.00\">82, 6, 2, 2, 1, 3, 5, 8, 1, 1, 24, 2, 0, 23</text>\n",
       "<text text-anchor=\"middle\" x=\"279\" y=\"-1266.8\" font-family=\"Times,serif\" font-size=\"14.00\">12, 8, 9, 11, 34, 12, 14, 13, 5, 6, 20, 6, 1</text>\n",
       "<text text-anchor=\"middle\" x=\"279\" y=\"-1251.8\" font-family=\"Times,serif\" font-size=\"14.00\">7, 13, 3, 2, 1, 4, 3, 5, 2, 3, 1, 6, 5, 3</text>\n",
       "<text text-anchor=\"middle\" x=\"279\" y=\"-1236.8\" font-family=\"Times,serif\" font-size=\"14.00\">6, 3, 2, 8, 5, 3, 1, 11, 15, 10, 1, 13, 9, 2</text>\n",
       "<text text-anchor=\"middle\" x=\"279\" y=\"-1221.8\" font-family=\"Times,serif\" font-size=\"14.00\">9, 8, 5, 7, 11, 3, 11, 14, 2, 10, 3, 50, 2</text>\n",
       "<text text-anchor=\"middle\" x=\"279\" y=\"-1206.8\" font-family=\"Times,serif\" font-size=\"14.00\">11, 1, 1, 3, 2, 16, 26, 15, 25, 2, 18, 8, 58</text>\n",
       "<text text-anchor=\"middle\" x=\"279\" y=\"-1191.8\" font-family=\"Times,serif\" font-size=\"14.00\">10, 30, 5, 11, 12, 21, 13, 2, 55, 3, 10, 17, 8</text>\n",
       "<text text-anchor=\"middle\" x=\"279\" y=\"-1176.8\" font-family=\"Times,serif\" font-size=\"14.00\">9, 27, 24, 57, 19, 36, 15, 30, 10, 30, 29, 14</text>\n",
       "<text text-anchor=\"middle\" x=\"279\" y=\"-1161.8\" font-family=\"Times,serif\" font-size=\"14.00\">43, 4, 9, 6, 10, 1, 19, 2, 2, 3, 1, 2, 1, 3</text>\n",
       "<text text-anchor=\"middle\" x=\"279\" y=\"-1146.8\" font-family=\"Times,serif\" font-size=\"14.00\">8, 15, 3, 6, 21, 36, 2, 1, 2, 1, 3, 4, 8, 33</text>\n",
       "<text text-anchor=\"middle\" x=\"279\" y=\"-1131.8\" font-family=\"Times,serif\" font-size=\"14.00\">21, 8, 4, 2, 1, 9, 7, 6, 2, 30, 7, 5, 4, 2</text>\n",
       "<text text-anchor=\"middle\" x=\"279\" y=\"-1116.8\" font-family=\"Times,serif\" font-size=\"14.00\">3, 24, 30, 1, 4, 7, 14, 14, 8, 10, 3, 9, 6</text>\n",
       "<text text-anchor=\"middle\" x=\"279\" y=\"-1101.8\" font-family=\"Times,serif\" font-size=\"14.00\">1, 3, 2, 7, 5, 4, 6, 4, 6, 21, 23, 16, 4, 1</text>\n",
       "<text text-anchor=\"middle\" x=\"279\" y=\"-1086.8\" font-family=\"Times,serif\" font-size=\"14.00\">1, 12, 15, 9, 36, 28, 4, 12, 9, 29, 16, 14, 4</text>\n",
       "<text text-anchor=\"middle\" x=\"279\" y=\"-1071.8\" font-family=\"Times,serif\" font-size=\"14.00\">12, 22, 7, 4, 8, 3, 11, 4, 1, 2, 16, 6, 4, 3</text>\n",
       "<text text-anchor=\"middle\" x=\"279\" y=\"-1056.8\" font-family=\"Times,serif\" font-size=\"14.00\">7, 7, 5, 1, 1, 1, 12, 17, 4, 18, 14, 2, 4, 4</text>\n",
       "<text text-anchor=\"middle\" x=\"279\" y=\"-1041.8\" font-family=\"Times,serif\" font-size=\"14.00\">7, 1, 3, 4, 7, 2, 1, 15, 3, 8, 2, 1, 5, 1</text>\n",
       "<text text-anchor=\"middle\" x=\"279\" y=\"-1026.8\" font-family=\"Times,serif\" font-size=\"14.00\">4, 5, 12, 35, 14, 4, 12, 3, 5, 12, 4, 1, 1</text>\n",
       "<text text-anchor=\"middle\" x=\"279\" y=\"-1011.8\" font-family=\"Times,serif\" font-size=\"14.00\">2, 1, 1, 1, 1, 5, 1, 1, 1, 1, 6, 7, 3, 8</text>\n",
       "<text text-anchor=\"middle\" x=\"279\" y=\"-996.8\" font-family=\"Times,serif\" font-size=\"14.00\">8, 2, 1, 7, 1, 1, 6, 2, 2, 5, 1, 3, 1, 8</text>\n",
       "<text text-anchor=\"middle\" x=\"279\" y=\"-981.8\" font-family=\"Times,serif\" font-size=\"14.00\">2, 1, 2, 1, 1, 1, 2, 4, 1, 1, 1, 1, 5, 1</text>\n",
       "<text text-anchor=\"middle\" x=\"279\" y=\"-966.8\" font-family=\"Times,serif\" font-size=\"14.00\">1, 4, 7, 3, 13, 2, 3, 5, 1, 3, 7, 1, 1, 3</text>\n",
       "<text text-anchor=\"middle\" x=\"279\" y=\"-951.8\" font-family=\"Times,serif\" font-size=\"14.00\">4, 2, 2, 5, 9, 5, 1, 2, 2, 3, 6, 1, 1, 3</text>\n",
       "<text text-anchor=\"middle\" x=\"279\" y=\"-936.8\" font-family=\"Times,serif\" font-size=\"14.00\">4, 9, 9, 7, 8, 1, 2, 5, 5, 1, 8, 17, 16, 5</text>\n",
       "<text text-anchor=\"middle\" x=\"279\" y=\"-921.8\" font-family=\"Times,serif\" font-size=\"14.00\">5, 19, 8, 7, 1, 1, 6, 3, 7, 6, 10, 31, 16, 1</text>\n",
       "<text text-anchor=\"middle\" x=\"279\" y=\"-906.8\" font-family=\"Times,serif\" font-size=\"14.00\">27, 19, 24, 16, 7, 2, 11, 17, 2, 3, 4, 5, 3</text>\n",
       "<text text-anchor=\"middle\" x=\"279\" y=\"-891.8\" font-family=\"Times,serif\" font-size=\"14.00\">2, 8, 21, 24, 2, 3, 11, 5, 1, 3, 5, 2, 2, 1</text>\n",
       "<text text-anchor=\"middle\" x=\"279\" y=\"-876.8\" font-family=\"Times,serif\" font-size=\"14.00\">7, 2, 1, 3, 15, 10, 2, 3, 3, 4, 1, 4, 5, 2</text>\n",
       "<text text-anchor=\"middle\" x=\"279\" y=\"-861.8\" font-family=\"Times,serif\" font-size=\"14.00\">2, 8, 2, 1, 2, 6, 7, 1, 14, 4, 4, 9, 1, 5</text>\n",
       "<text text-anchor=\"middle\" x=\"279\" y=\"-846.8\" font-family=\"Times,serif\" font-size=\"14.00\">5, 2, 16, 1, 9, 2, 12, 6, 7, 9, 3, 6, 16, 10</text>\n",
       "<text text-anchor=\"middle\" x=\"279\" y=\"-831.8\" font-family=\"Times,serif\" font-size=\"14.00\">8, 3, 6, 2, 29, 5, 5, 6, 13, 2, 7, 2, 9, 3</text>\n",
       "<text text-anchor=\"middle\" x=\"279\" y=\"-816.8\" font-family=\"Times,serif\" font-size=\"14.00\">8, 10, 18, 4, 3, 5, 4, 4, 4, 2, 1, 14, 2, 8</text>\n",
       "<text text-anchor=\"middle\" x=\"279\" y=\"-801.8\" font-family=\"Times,serif\" font-size=\"14.00\">11, 14, 6, 1, 1, 2, 2, 1, 1, 16, 3, 4, 6, 1</text>\n",
       "<text text-anchor=\"middle\" x=\"279\" y=\"-786.8\" font-family=\"Times,serif\" font-size=\"14.00\">2, 3, 3, 1, 7, 7, 3, 15, 5, 7, 8, 6, 2]</text>\n",
       "<text text-anchor=\"middle\" x=\"279\" y=\"-771.8\" font-family=\"Times,serif\" font-size=\"14.00\">class = E14</text>\n",
       "</g>\n",
       "<!-- 1&#45;&gt;3 -->\n",
       "<g id=\"edge2\" class=\"edge\">\n",
       "<title>1&#45;&gt;3</title>\n",
       "<path fill=\"none\" stroke=\"black\" d=\"M354.84,-1542.92C353.25,-1534.36 351.65,-1525.78 350.05,-1517.21\"/>\n",
       "<polygon fill=\"black\" stroke=\"black\" points=\"353.44,-1516.34 348.17,-1507.15 346.56,-1517.62 353.44,-1516.34\"/>\n",
       "</g>\n",
       "<!-- 4 -->\n",
       "<g id=\"node6\" class=\"node\">\n",
       "<title>4</title>\n",
       "<polygon fill=\"none\" stroke=\"black\" points=\"698,-1492 440,-1492 440,-779 698,-779 698,-1492\"/>\n",
       "<text text-anchor=\"middle\" x=\"569\" y=\"-1476.8\" font-family=\"Times,serif\" font-size=\"14.00\">gini = 0.972</text>\n",
       "<text text-anchor=\"middle\" x=\"569\" y=\"-1461.8\" font-family=\"Times,serif\" font-size=\"14.00\">samples = 66</text>\n",
       "<text text-anchor=\"middle\" x=\"569\" y=\"-1446.8\" font-family=\"Times,serif\" font-size=\"14.00\">value = [0, 0, 0, 0, 0, 0, 0, 0, 0, 2, 0, 0, 0, 0</text>\n",
       "<text text-anchor=\"middle\" x=\"569\" y=\"-1431.8\" font-family=\"Times,serif\" font-size=\"14.00\">0, 0, 0, 0, 0, 0, 0, 0, 0, 0, 0, 0, 0, 0</text>\n",
       "<text text-anchor=\"middle\" x=\"569\" y=\"-1416.8\" font-family=\"Times,serif\" font-size=\"14.00\">0, 0, 0, 0, 0, 0, 0, 0, 0, 0, 0, 0, 0, 0</text>\n",
       "<text text-anchor=\"middle\" x=\"569\" y=\"-1401.8\" font-family=\"Times,serif\" font-size=\"14.00\">0, 0, 0, 0, 0, 0, 0, 0, 0, 0, 0, 0, 0, 0</text>\n",
       "<text text-anchor=\"middle\" x=\"569\" y=\"-1386.8\" font-family=\"Times,serif\" font-size=\"14.00\">0, 0, 0, 0, 0, 0, 0, 0, 0, 0, 0, 0, 0, 0</text>\n",
       "<text text-anchor=\"middle\" x=\"569\" y=\"-1371.8\" font-family=\"Times,serif\" font-size=\"14.00\">0, 0, 0, 0, 0, 0, 0, 0, 0, 0, 0, 0, 0, 0</text>\n",
       "<text text-anchor=\"middle\" x=\"569\" y=\"-1356.8\" font-family=\"Times,serif\" font-size=\"14.00\">0, 1, 0, 0, 0, 0, 0, 0, 2, 0, 2, 0, 0, 0</text>\n",
       "<text text-anchor=\"middle\" x=\"569\" y=\"-1341.8\" font-family=\"Times,serif\" font-size=\"14.00\">0, 0, 0, 0, 0, 0, 0, 0, 1, 0, 0, 0, 0, 0</text>\n",
       "<text text-anchor=\"middle\" x=\"569\" y=\"-1326.8\" font-family=\"Times,serif\" font-size=\"14.00\">0, 0, 0, 0, 0, 0, 0, 0, 0, 0, 0, 0, 0, 0</text>\n",
       "<text text-anchor=\"middle\" x=\"569\" y=\"-1311.8\" font-family=\"Times,serif\" font-size=\"14.00\">0, 0, 0, 0, 0, 0, 0, 0, 0, 0, 0, 1, 0, 0</text>\n",
       "<text text-anchor=\"middle\" x=\"569\" y=\"-1296.8\" font-family=\"Times,serif\" font-size=\"14.00\">0, 0, 0, 0, 0, 0, 0, 0, 0, 0, 0, 0, 0, 0</text>\n",
       "<text text-anchor=\"middle\" x=\"569\" y=\"-1281.8\" font-family=\"Times,serif\" font-size=\"14.00\">0, 0, 0, 0, 1, 0, 0, 0, 0, 0, 0, 1, 0, 0</text>\n",
       "<text text-anchor=\"middle\" x=\"569\" y=\"-1266.8\" font-family=\"Times,serif\" font-size=\"14.00\">0, 0, 0, 0, 0, 0, 0, 0, 0, 0, 0, 0, 0, 0</text>\n",
       "<text text-anchor=\"middle\" x=\"569\" y=\"-1251.8\" font-family=\"Times,serif\" font-size=\"14.00\">0, 0, 0, 0, 0, 0, 0, 0, 0, 0, 0, 0, 0, 1</text>\n",
       "<text text-anchor=\"middle\" x=\"569\" y=\"-1236.8\" font-family=\"Times,serif\" font-size=\"14.00\">0, 0, 0, 0, 0, 0, 0, 0, 0, 0, 0, 0, 0, 0</text>\n",
       "<text text-anchor=\"middle\" x=\"569\" y=\"-1221.8\" font-family=\"Times,serif\" font-size=\"14.00\">0, 0, 2, 0, 0, 0, 0, 0, 0, 0, 0, 0, 0, 0</text>\n",
       "<text text-anchor=\"middle\" x=\"569\" y=\"-1206.8\" font-family=\"Times,serif\" font-size=\"14.00\">0, 0, 0, 0, 0, 0, 0, 0, 0, 0, 0, 0, 0, 0</text>\n",
       "<text text-anchor=\"middle\" x=\"569\" y=\"-1191.8\" font-family=\"Times,serif\" font-size=\"14.00\">0, 0, 0, 0, 0, 0, 0, 0, 0, 0, 0, 0, 0, 0</text>\n",
       "<text text-anchor=\"middle\" x=\"569\" y=\"-1176.8\" font-family=\"Times,serif\" font-size=\"14.00\">0, 0, 0, 0, 0, 0, 0, 0, 0, 0, 0, 0, 0, 0</text>\n",
       "<text text-anchor=\"middle\" x=\"569\" y=\"-1161.8\" font-family=\"Times,serif\" font-size=\"14.00\">0, 0, 0, 0, 0, 1, 0, 0, 0, 0, 0, 0, 0, 0</text>\n",
       "<text text-anchor=\"middle\" x=\"569\" y=\"-1146.8\" font-family=\"Times,serif\" font-size=\"14.00\">0, 0, 0, 0, 0, 0, 0, 0, 0, 0, 0, 0, 0, 0</text>\n",
       "<text text-anchor=\"middle\" x=\"569\" y=\"-1131.8\" font-family=\"Times,serif\" font-size=\"14.00\">0, 0, 1, 0, 0, 0, 0, 0, 0, 0, 0, 0, 0, 0</text>\n",
       "<text text-anchor=\"middle\" x=\"569\" y=\"-1116.8\" font-family=\"Times,serif\" font-size=\"14.00\">0, 0, 0, 0, 0, 0, 0, 0, 0, 0, 0, 0, 0, 0</text>\n",
       "<text text-anchor=\"middle\" x=\"569\" y=\"-1101.8\" font-family=\"Times,serif\" font-size=\"14.00\">0, 0, 0, 0, 0, 0, 0, 0, 0, 0, 0, 0, 0, 0</text>\n",
       "<text text-anchor=\"middle\" x=\"569\" y=\"-1086.8\" font-family=\"Times,serif\" font-size=\"14.00\">0, 0, 0, 0, 0, 0, 0, 0, 0, 0, 0, 0, 0, 0</text>\n",
       "<text text-anchor=\"middle\" x=\"569\" y=\"-1071.8\" font-family=\"Times,serif\" font-size=\"14.00\">0, 0, 0, 0, 0, 0, 0, 0, 0, 0, 0, 0, 0, 0</text>\n",
       "<text text-anchor=\"middle\" x=\"569\" y=\"-1056.8\" font-family=\"Times,serif\" font-size=\"14.00\">0, 0, 0, 0, 0, 0, 0, 0, 0, 0, 0, 0, 0, 0</text>\n",
       "<text text-anchor=\"middle\" x=\"569\" y=\"-1041.8\" font-family=\"Times,serif\" font-size=\"14.00\">0, 0, 0, 0, 0, 0, 0, 0, 0, 0, 0, 0, 0, 0</text>\n",
       "<text text-anchor=\"middle\" x=\"569\" y=\"-1026.8\" font-family=\"Times,serif\" font-size=\"14.00\">0, 0, 0, 0, 0, 0, 0, 0, 0, 0, 0, 0, 0, 0</text>\n",
       "<text text-anchor=\"middle\" x=\"569\" y=\"-1011.8\" font-family=\"Times,serif\" font-size=\"14.00\">0, 0, 0, 0, 0, 0, 1, 0, 0, 0, 0, 0, 0, 0</text>\n",
       "<text text-anchor=\"middle\" x=\"569\" y=\"-996.8\" font-family=\"Times,serif\" font-size=\"14.00\">0, 0, 0, 0, 0, 0, 0, 1, 1, 2, 0, 0, 0, 0</text>\n",
       "<text text-anchor=\"middle\" x=\"569\" y=\"-981.8\" font-family=\"Times,serif\" font-size=\"14.00\">2, 2, 0, 0, 0, 0, 0, 0, 0, 0, 0, 0, 0, 0</text>\n",
       "<text text-anchor=\"middle\" x=\"569\" y=\"-966.8\" font-family=\"Times,serif\" font-size=\"14.00\">2, 0, 0, 0, 0, 0, 0, 0, 0, 0, 0, 0, 1, 0</text>\n",
       "<text text-anchor=\"middle\" x=\"569\" y=\"-951.8\" font-family=\"Times,serif\" font-size=\"14.00\">0, 0, 0, 0, 0, 0, 0, 1, 1, 3, 0, 0, 1, 0</text>\n",
       "<text text-anchor=\"middle\" x=\"569\" y=\"-936.8\" font-family=\"Times,serif\" font-size=\"14.00\">0, 0, 0, 0, 0, 0, 0, 0, 2, 1, 0, 2, 2, 1</text>\n",
       "<text text-anchor=\"middle\" x=\"569\" y=\"-921.8\" font-family=\"Times,serif\" font-size=\"14.00\">0, 0, 0, 0, 1, 0, 0, 0, 0, 0, 0, 0, 1, 2</text>\n",
       "<text text-anchor=\"middle\" x=\"569\" y=\"-906.8\" font-family=\"Times,serif\" font-size=\"14.00\">0, 0, 0, 0, 0, 0, 0, 0, 0, 0, 0, 0, 0, 0</text>\n",
       "<text text-anchor=\"middle\" x=\"569\" y=\"-891.8\" font-family=\"Times,serif\" font-size=\"14.00\">0, 0, 1, 0, 0, 0, 0, 0, 0, 0, 0, 1, 0, 0</text>\n",
       "<text text-anchor=\"middle\" x=\"569\" y=\"-876.8\" font-family=\"Times,serif\" font-size=\"14.00\">0, 2, 0, 0, 1, 0, 0, 0, 0, 0, 0, 2, 3, 0</text>\n",
       "<text text-anchor=\"middle\" x=\"569\" y=\"-861.8\" font-family=\"Times,serif\" font-size=\"14.00\">0, 0, 3, 0, 1, 0, 0, 0, 0, 0, 0, 0, 0, 0</text>\n",
       "<text text-anchor=\"middle\" x=\"569\" y=\"-846.8\" font-family=\"Times,serif\" font-size=\"14.00\">0, 0, 0, 0, 0, 0, 0, 0, 0, 0, 0, 0, 0, 0</text>\n",
       "<text text-anchor=\"middle\" x=\"569\" y=\"-831.8\" font-family=\"Times,serif\" font-size=\"14.00\">0, 0, 0, 0, 0, 0, 0, 2, 0, 0, 0, 0, 0, 0</text>\n",
       "<text text-anchor=\"middle\" x=\"569\" y=\"-816.8\" font-family=\"Times,serif\" font-size=\"14.00\">0, 0, 0, 0, 0, 3, 0, 0, 0, 0, 1, 0, 0, 0</text>\n",
       "<text text-anchor=\"middle\" x=\"569\" y=\"-801.8\" font-family=\"Times,serif\" font-size=\"14.00\">0, 0, 0, 0, 0, 0, 0, 0, 0]</text>\n",
       "<text text-anchor=\"middle\" x=\"569\" y=\"-786.8\" font-family=\"Times,serif\" font-size=\"14.00\">class = V03</text>\n",
       "</g>\n",
       "<!-- 1&#45;&gt;4 -->\n",
       "<g id=\"edge5\" class=\"edge\">\n",
       "<title>1&#45;&gt;4</title>\n",
       "<path fill=\"none\" stroke=\"black\" d=\"M493.16,-1542.92C495.69,-1529.32 498.24,-1515.7 500.77,-1502.11\"/>\n",
       "<polygon fill=\"black\" stroke=\"black\" points=\"504.22,-1502.69 502.62,-1492.22 497.34,-1501.41 504.22,-1502.69\"/>\n",
       "</g>\n",
       "<!-- 5 -->\n",
       "<g id=\"node4\" class=\"node\">\n",
       "<title>5</title>\n",
       "<polygon fill=\"none\" stroke=\"black\" points=\"272,-728 0,-728 0,0 272,0 272,-728\"/>\n",
       "<text text-anchor=\"middle\" x=\"136\" y=\"-712.8\" font-family=\"Times,serif\" font-size=\"14.00\">gini = 0.997</text>\n",
       "<text text-anchor=\"middle\" x=\"136\" y=\"-697.8\" font-family=\"Times,serif\" font-size=\"14.00\">samples = 3630</text>\n",
       "<text text-anchor=\"middle\" x=\"136\" y=\"-682.8\" font-family=\"Times,serif\" font-size=\"14.00\">value = [7, 1, 7, 9, 1, 1, 2, 1, 9, 18, 13, 3, 4, 3</text>\n",
       "<text text-anchor=\"middle\" x=\"136\" y=\"-667.8\" font-family=\"Times,serif\" font-size=\"14.00\">2, 4, 4, 8, 1, 21, 10, 7, 8, 3, 2, 3, 1, 1</text>\n",
       "<text text-anchor=\"middle\" x=\"136\" y=\"-652.8\" font-family=\"Times,serif\" font-size=\"14.00\">1, 7, 3, 2, 5, 11, 2, 1, 8, 6, 7, 4, 4, 3</text>\n",
       "<text text-anchor=\"middle\" x=\"136\" y=\"-637.8\" font-family=\"Times,serif\" font-size=\"14.00\">2, 2, 4, 6, 5, 9, 9, 21, 4, 2, 5, 18, 5, 11</text>\n",
       "<text text-anchor=\"middle\" x=\"136\" y=\"-622.8\" font-family=\"Times,serif\" font-size=\"14.00\">9, 9, 1, 4, 6, 2, 16, 6, 7, 1, 10, 11, 19</text>\n",
       "<text text-anchor=\"middle\" x=\"136\" y=\"-607.8\" font-family=\"Times,serif\" font-size=\"14.00\">11, 1, 1, 7, 21, 8, 3, 1, 7, 1, 4, 1, 3, 3</text>\n",
       "<text text-anchor=\"middle\" x=\"136\" y=\"-592.8\" font-family=\"Times,serif\" font-size=\"14.00\">2, 5, 6, 3, 4, 4, 10, 2, 2, 19, 3, 8, 18, 13</text>\n",
       "<text text-anchor=\"middle\" x=\"136\" y=\"-577.8\" font-family=\"Times,serif\" font-size=\"14.00\">17, 6, 11, 6, 14, 9, 10, 6, 7, 19, 24, 2, 16</text>\n",
       "<text text-anchor=\"middle\" x=\"136\" y=\"-562.8\" font-family=\"Times,serif\" font-size=\"14.00\">2, 8, 1, 8, 18, 1, 1, 4, 10, 1, 3, 6, 5, 15</text>\n",
       "<text text-anchor=\"middle\" x=\"136\" y=\"-547.8\" font-family=\"Times,serif\" font-size=\"14.00\">2, 1, 1, 0, 3, 8, 2, 4, 5, 4, 11, 4, 2, 0</text>\n",
       "<text text-anchor=\"middle\" x=\"136\" y=\"-532.8\" font-family=\"Times,serif\" font-size=\"14.00\">7, 9, 4, 6, 3, 1, 28, 35, 53, 5, 2, 2, 1, 3</text>\n",
       "<text text-anchor=\"middle\" x=\"136\" y=\"-517.8\" font-family=\"Times,serif\" font-size=\"14.00\">4, 2, 1, 1, 15, 2, 0, 17, 10, 8, 7, 9, 25, 9</text>\n",
       "<text text-anchor=\"middle\" x=\"136\" y=\"-502.8\" font-family=\"Times,serif\" font-size=\"14.00\">8, 7, 5, 5, 17, 5, 1, 7, 11, 3, 2, 1, 4, 3</text>\n",
       "<text text-anchor=\"middle\" x=\"136\" y=\"-487.8\" font-family=\"Times,serif\" font-size=\"14.00\">4, 2, 3, 1, 5, 5, 3, 6, 1, 2, 5, 3, 3, 1</text>\n",
       "<text text-anchor=\"middle\" x=\"136\" y=\"-472.8\" font-family=\"Times,serif\" font-size=\"14.00\">5, 11, 6, 1, 10, 4, 2, 6, 8, 5, 7, 10, 3, 7</text>\n",
       "<text text-anchor=\"middle\" x=\"136\" y=\"-457.8\" font-family=\"Times,serif\" font-size=\"14.00\">10, 2, 10, 3, 34, 2, 8, 1, 1, 3, 2, 7, 16</text>\n",
       "<text text-anchor=\"middle\" x=\"136\" y=\"-442.8\" font-family=\"Times,serif\" font-size=\"14.00\">10, 15, 2, 11, 6, 30, 5, 18, 4, 6, 9, 14, 6</text>\n",
       "<text text-anchor=\"middle\" x=\"136\" y=\"-427.8\" font-family=\"Times,serif\" font-size=\"14.00\">2, 33, 2, 7, 10, 5, 4, 15, 10, 35, 11, 24, 7</text>\n",
       "<text text-anchor=\"middle\" x=\"136\" y=\"-412.8\" font-family=\"Times,serif\" font-size=\"14.00\">17, 5, 20, 16, 9, 32, 4, 4, 6, 10, 1, 11, 2</text>\n",
       "<text text-anchor=\"middle\" x=\"136\" y=\"-397.8\" font-family=\"Times,serif\" font-size=\"14.00\">2, 3, 1, 2, 1, 3, 8, 15, 3, 6, 17, 24, 2, 1</text>\n",
       "<text text-anchor=\"middle\" x=\"136\" y=\"-382.8\" font-family=\"Times,serif\" font-size=\"14.00\">2, 1, 3, 4, 4, 20, 10, 4, 4, 2, 1, 4, 4, 5</text>\n",
       "<text text-anchor=\"middle\" x=\"136\" y=\"-367.8\" font-family=\"Times,serif\" font-size=\"14.00\">2, 20, 7, 4, 3, 2, 3, 12, 25, 1, 4, 7, 14</text>\n",
       "<text text-anchor=\"middle\" x=\"136\" y=\"-352.8\" font-family=\"Times,serif\" font-size=\"14.00\">13, 7, 10, 3, 9, 6, 1, 3, 2, 7, 5, 4, 6, 4</text>\n",
       "<text text-anchor=\"middle\" x=\"136\" y=\"-337.8\" font-family=\"Times,serif\" font-size=\"14.00\">6, 13, 19, 14, 4, 1, 1, 10, 10, 9, 28, 18, 4</text>\n",
       "<text text-anchor=\"middle\" x=\"136\" y=\"-322.8\" font-family=\"Times,serif\" font-size=\"14.00\">9, 9, 22, 15, 9, 4, 12, 10, 6, 4, 5, 3, 8, 3</text>\n",
       "<text text-anchor=\"middle\" x=\"136\" y=\"-307.8\" font-family=\"Times,serif\" font-size=\"14.00\">1, 2, 10, 2, 4, 3, 7, 4, 4, 1, 1, 1, 9, 10</text>\n",
       "<text text-anchor=\"middle\" x=\"136\" y=\"-292.8\" font-family=\"Times,serif\" font-size=\"14.00\">4, 11, 12, 2, 4, 4, 7, 1, 3, 3, 6, 2, 1, 9</text>\n",
       "<text text-anchor=\"middle\" x=\"136\" y=\"-277.8\" font-family=\"Times,serif\" font-size=\"14.00\">3, 4, 2, 1, 5, 1, 3, 5, 7, 22, 6, 4, 6, 3</text>\n",
       "<text text-anchor=\"middle\" x=\"136\" y=\"-262.8\" font-family=\"Times,serif\" font-size=\"14.00\">5, 6, 2, 1, 1, 2, 1, 1, 1, 1, 2, 1, 1, 0</text>\n",
       "<text text-anchor=\"middle\" x=\"136\" y=\"-247.8\" font-family=\"Times,serif\" font-size=\"14.00\">1, 2, 5, 2, 4, 5, 1, 1, 4, 1, 0, 4, 2, 1</text>\n",
       "<text text-anchor=\"middle\" x=\"136\" y=\"-232.8\" font-family=\"Times,serif\" font-size=\"14.00\">2, 1, 1, 1, 5, 0, 0, 2, 1, 1, 1, 2, 4, 0</text>\n",
       "<text text-anchor=\"middle\" x=\"136\" y=\"-217.8\" font-family=\"Times,serif\" font-size=\"14.00\">1, 1, 1, 4, 1, 1, 4, 7, 3, 10, 2, 3, 5, 1</text>\n",
       "<text text-anchor=\"middle\" x=\"136\" y=\"-202.8\" font-family=\"Times,serif\" font-size=\"14.00\">2, 6, 1, 1, 3, 4, 2, 2, 3, 7, 1, 1, 2, 2</text>\n",
       "<text text-anchor=\"middle\" x=\"136\" y=\"-187.8\" font-family=\"Times,serif\" font-size=\"14.00\">3, 4, 1, 1, 2, 1, 5, 7, 7, 4, 1, 2, 2, 5</text>\n",
       "<text text-anchor=\"middle\" x=\"136\" y=\"-172.8\" font-family=\"Times,serif\" font-size=\"14.00\">0, 8, 9, 8, 5, 5, 16, 6, 7, 1, 1, 5, 3, 5</text>\n",
       "<text text-anchor=\"middle\" x=\"136\" y=\"-157.8\" font-family=\"Times,serif\" font-size=\"14.00\">6, 7, 21, 14, 1, 18, 17, 21, 14, 7, 2, 10, 17</text>\n",
       "<text text-anchor=\"middle\" x=\"136\" y=\"-142.8\" font-family=\"Times,serif\" font-size=\"14.00\">2, 3, 4, 4, 3, 2, 8, 15, 13, 2, 3, 11, 5, 1</text>\n",
       "<text text-anchor=\"middle\" x=\"136\" y=\"-127.8\" font-family=\"Times,serif\" font-size=\"14.00\">3, 5, 2, 2, 1, 7, 2, 1, 3, 10, 4, 2, 3, 3</text>\n",
       "<text text-anchor=\"middle\" x=\"136\" y=\"-112.8\" font-family=\"Times,serif\" font-size=\"14.00\">4, 1, 4, 5, 2, 2, 7, 2, 1, 2, 6, 3, 1, 9</text>\n",
       "<text text-anchor=\"middle\" x=\"136\" y=\"-97.8\" font-family=\"Times,serif\" font-size=\"14.00\">4, 4, 8, 1, 5, 5, 2, 9, 1, 8, 2, 9, 6, 5</text>\n",
       "<text text-anchor=\"middle\" x=\"136\" y=\"-82.8\" font-family=\"Times,serif\" font-size=\"14.00\">8, 2, 5, 8, 5, 8, 3, 5, 2, 15, 5, 5, 6, 8</text>\n",
       "<text text-anchor=\"middle\" x=\"136\" y=\"-67.8\" font-family=\"Times,serif\" font-size=\"14.00\">2, 7, 2, 5, 3, 4, 7, 9, 4, 3, 4, 3, 4, 4</text>\n",
       "<text text-anchor=\"middle\" x=\"136\" y=\"-52.8\" font-family=\"Times,serif\" font-size=\"14.00\">2, 1, 8, 2, 5, 9, 7, 3, 1, 1, 2, 1, 0, 0</text>\n",
       "<text text-anchor=\"middle\" x=\"136\" y=\"-37.8\" font-family=\"Times,serif\" font-size=\"14.00\">9, 3, 4, 6, 1, 2, 3, 3, 1, 5, 5, 3, 14, 5</text>\n",
       "<text text-anchor=\"middle\" x=\"136\" y=\"-22.8\" font-family=\"Times,serif\" font-size=\"14.00\">5, 6, 4, 2]</text>\n",
       "<text text-anchor=\"middle\" x=\"136\" y=\"-7.8\" font-family=\"Times,serif\" font-size=\"14.00\">class = E14</text>\n",
       "</g>\n",
       "<!-- 3&#45;&gt;5 -->\n",
       "<g id=\"edge3\" class=\"edge\">\n",
       "<title>3&#45;&gt;5</title>\n",
       "<path fill=\"none\" stroke=\"black\" d=\"M210.12,-763.84C208.53,-755.27 206.93,-746.69 205.34,-738.11\"/>\n",
       "<polygon fill=\"black\" stroke=\"black\" points=\"208.74,-737.25 203.47,-728.05 201.85,-738.53 208.74,-737.25\"/>\n",
       "</g>\n",
       "<!-- 6 -->\n",
       "<g id=\"node5\" class=\"node\">\n",
       "<title>6</title>\n",
       "<polygon fill=\"none\" stroke=\"black\" points=\"555.5,-720.5 290.5,-720.5 290.5,-7.5 555.5,-7.5 555.5,-720.5\"/>\n",
       "<text text-anchor=\"middle\" x=\"423\" y=\"-705.3\" font-family=\"Times,serif\" font-size=\"14.00\">gini = 0.994</text>\n",
       "<text text-anchor=\"middle\" x=\"423\" y=\"-690.3\" font-family=\"Times,serif\" font-size=\"14.00\">samples = 1343</text>\n",
       "<text text-anchor=\"middle\" x=\"423\" y=\"-675.3\" font-family=\"Times,serif\" font-size=\"14.00\">value = [4, 0, 2, 1, 0, 0, 0, 0, 0, 21, 1, 0, 0, 0</text>\n",
       "<text text-anchor=\"middle\" x=\"423\" y=\"-660.3\" font-family=\"Times,serif\" font-size=\"14.00\">0, 0, 5, 4, 0, 18, 5, 8, 6, 3, 0, 1, 0, 0</text>\n",
       "<text text-anchor=\"middle\" x=\"423\" y=\"-645.3\" font-family=\"Times,serif\" font-size=\"14.00\">0, 1, 0, 0, 0, 2, 0, 0, 3, 1, 0, 0, 2, 0</text>\n",
       "<text text-anchor=\"middle\" x=\"423\" y=\"-630.3\" font-family=\"Times,serif\" font-size=\"14.00\">2, 0, 2, 2, 6, 7, 4, 7, 5, 7, 1, 15, 4, 2</text>\n",
       "<text text-anchor=\"middle\" x=\"423\" y=\"-615.3\" font-family=\"Times,serif\" font-size=\"14.00\">6, 2, 0, 0, 5, 0, 8, 0, 0, 0, 4, 1, 2, 1</text>\n",
       "<text text-anchor=\"middle\" x=\"423\" y=\"-600.3\" font-family=\"Times,serif\" font-size=\"14.00\">0, 0, 0, 7, 6, 3, 3, 3, 3, 2, 4, 1, 1, 3</text>\n",
       "<text text-anchor=\"middle\" x=\"423\" y=\"-585.3\" font-family=\"Times,serif\" font-size=\"14.00\">0, 5, 0, 0, 2, 0, 0, 0, 11, 1, 0, 1, 7, 7</text>\n",
       "<text text-anchor=\"middle\" x=\"423\" y=\"-570.3\" font-family=\"Times,serif\" font-size=\"14.00\">6, 6, 0, 2, 1, 9, 0, 3, 6, 11, 0, 5, 0, 3</text>\n",
       "<text text-anchor=\"middle\" x=\"423\" y=\"-555.3\" font-family=\"Times,serif\" font-size=\"14.00\">0, 3, 0, 0, 0, 0, 3, 0, 0, 5, 3, 0, 0, 0</text>\n",
       "<text text-anchor=\"middle\" x=\"423\" y=\"-540.3\" font-family=\"Times,serif\" font-size=\"14.00\">0, 8, 0, 1, 0, 4, 5, 1, 0, 0, 0, 0, 1, 6</text>\n",
       "<text text-anchor=\"middle\" x=\"423\" y=\"-525.3\" font-family=\"Times,serif\" font-size=\"14.00\">0, 1, 0, 0, 4, 16, 29, 1, 0, 0, 0, 0, 1, 6</text>\n",
       "<text text-anchor=\"middle\" x=\"423\" y=\"-510.3\" font-family=\"Times,serif\" font-size=\"14.00\">0, 0, 9, 0, 0, 6, 2, 0, 2, 2, 9, 3, 6, 6</text>\n",
       "<text text-anchor=\"middle\" x=\"423\" y=\"-495.3\" font-family=\"Times,serif\" font-size=\"14.00\">0, 1, 3, 1, 0, 0, 2, 0, 0, 0, 0, 0, 1, 0</text>\n",
       "<text text-anchor=\"middle\" x=\"423\" y=\"-480.3\" font-family=\"Times,serif\" font-size=\"14.00\">0, 0, 1, 0, 0, 0, 2, 0, 3, 2, 0, 0, 6, 4</text>\n",
       "<text text-anchor=\"middle\" x=\"423\" y=\"-465.3\" font-family=\"Times,serif\" font-size=\"14.00\">4, 0, 3, 5, 0, 3, 0, 0, 0, 1, 0, 4, 4, 0</text>\n",
       "<text text-anchor=\"middle\" x=\"423\" y=\"-450.3\" font-family=\"Times,serif\" font-size=\"14.00\">0, 0, 16, 0, 3, 0, 0, 0, 0, 9, 10, 5, 10, 0</text>\n",
       "<text text-anchor=\"middle\" x=\"423\" y=\"-435.3\" font-family=\"Times,serif\" font-size=\"14.00\">7, 2, 28, 5, 12, 1, 5, 3, 7, 7, 0, 22, 1, 3</text>\n",
       "<text text-anchor=\"middle\" x=\"423\" y=\"-420.3\" font-family=\"Times,serif\" font-size=\"14.00\">7, 3, 5, 12, 14, 22, 8, 12, 8, 13, 5, 10, 13</text>\n",
       "<text text-anchor=\"middle\" x=\"423\" y=\"-405.3\" font-family=\"Times,serif\" font-size=\"14.00\">5, 11, 0, 5, 0, 0, 0, 8, 0, 0, 0, 0, 0, 0</text>\n",
       "<text text-anchor=\"middle\" x=\"423\" y=\"-390.3\" font-family=\"Times,serif\" font-size=\"14.00\">0, 0, 0, 0, 0, 4, 12, 0, 0, 0, 0, 0, 0, 4</text>\n",
       "<text text-anchor=\"middle\" x=\"423\" y=\"-375.3\" font-family=\"Times,serif\" font-size=\"14.00\">13, 11, 4, 0, 0, 0, 5, 3, 1, 0, 10, 0, 1, 1</text>\n",
       "<text text-anchor=\"middle\" x=\"423\" y=\"-360.3\" font-family=\"Times,serif\" font-size=\"14.00\">0, 0, 12, 5, 0, 0, 0, 0, 1, 1, 0, 0, 0, 0</text>\n",
       "<text text-anchor=\"middle\" x=\"423\" y=\"-345.3\" font-family=\"Times,serif\" font-size=\"14.00\">0, 0, 0, 0, 0, 0, 0, 0, 0, 8, 4, 2, 0, 0</text>\n",
       "<text text-anchor=\"middle\" x=\"423\" y=\"-330.3\" font-family=\"Times,serif\" font-size=\"14.00\">0, 2, 5, 0, 8, 10, 0, 3, 0, 7, 1, 5, 0, 0</text>\n",
       "<text text-anchor=\"middle\" x=\"423\" y=\"-315.3\" font-family=\"Times,serif\" font-size=\"14.00\">12, 1, 0, 3, 0, 3, 1, 0, 0, 6, 4, 0, 0, 0</text>\n",
       "<text text-anchor=\"middle\" x=\"423\" y=\"-300.3\" font-family=\"Times,serif\" font-size=\"14.00\">3, 1, 0, 0, 0, 3, 7, 0, 7, 2, 0, 0, 0, 0</text>\n",
       "<text text-anchor=\"middle\" x=\"423\" y=\"-285.3\" font-family=\"Times,serif\" font-size=\"14.00\">0, 0, 1, 1, 0, 0, 6, 0, 4, 0, 0, 0, 0, 1</text>\n",
       "<text text-anchor=\"middle\" x=\"423\" y=\"-270.3\" font-family=\"Times,serif\" font-size=\"14.00\">0, 5, 13, 8, 0, 6, 0, 0, 6, 2, 0, 0, 0, 0</text>\n",
       "<text text-anchor=\"middle\" x=\"423\" y=\"-255.3\" font-family=\"Times,serif\" font-size=\"14.00\">0, 0, 0, 3, 0, 0, 1, 0, 4, 2, 1, 4, 3, 1</text>\n",
       "<text text-anchor=\"middle\" x=\"423\" y=\"-240.3\" font-family=\"Times,serif\" font-size=\"14.00\">0, 3, 0, 1, 2, 0, 1, 3, 0, 2, 0, 3, 2, 1</text>\n",
       "<text text-anchor=\"middle\" x=\"423\" y=\"-225.3\" font-family=\"Times,serif\" font-size=\"14.00\">0, 0, 0, 0, 0, 0, 1, 0, 0, 0, 1, 0, 0, 0</text>\n",
       "<text text-anchor=\"middle\" x=\"423\" y=\"-210.3\" font-family=\"Times,serif\" font-size=\"14.00\">0, 0, 3, 0, 0, 0, 0, 1, 1, 0, 0, 0, 0, 0</text>\n",
       "<text text-anchor=\"middle\" x=\"423\" y=\"-195.3\" font-family=\"Times,serif\" font-size=\"14.00\">0, 2, 2, 4, 0, 0, 0, 0, 2, 0, 0, 1, 3, 4</text>\n",
       "<text text-anchor=\"middle\" x=\"423\" y=\"-180.3\" font-family=\"Times,serif\" font-size=\"14.00\">2, 0, 4, 0, 0, 3, 0, 1, 0, 8, 8, 0, 0, 3</text>\n",
       "<text text-anchor=\"middle\" x=\"423\" y=\"-165.3\" font-family=\"Times,serif\" font-size=\"14.00\">2, 0, 0, 0, 1, 0, 2, 0, 3, 10, 2, 0, 9, 2</text>\n",
       "<text text-anchor=\"middle\" x=\"423\" y=\"-150.3\" font-family=\"Times,serif\" font-size=\"14.00\">3, 2, 0, 0, 1, 0, 0, 0, 0, 1, 0, 0, 0, 6</text>\n",
       "<text text-anchor=\"middle\" x=\"423\" y=\"-135.3\" font-family=\"Times,serif\" font-size=\"14.00\">11, 0, 0, 0, 0, 0, 0, 0, 0, 0, 0, 0, 0, 0</text>\n",
       "<text text-anchor=\"middle\" x=\"423\" y=\"-120.3\" font-family=\"Times,serif\" font-size=\"14.00\">0, 5, 6, 0, 0, 0, 0, 0, 0, 0, 0, 0, 1, 0</text>\n",
       "<text text-anchor=\"middle\" x=\"423\" y=\"-105.3\" font-family=\"Times,serif\" font-size=\"14.00\">0, 0, 0, 4, 0, 5, 0, 0, 1, 0, 0, 0, 0, 7</text>\n",
       "<text text-anchor=\"middle\" x=\"423\" y=\"-90.3\" font-family=\"Times,serif\" font-size=\"14.00\">0, 1, 0, 3, 0, 2, 1, 1, 1, 8, 5, 0, 0, 1</text>\n",
       "<text text-anchor=\"middle\" x=\"423\" y=\"-75.3\" font-family=\"Times,serif\" font-size=\"14.00\">0, 14, 0, 0, 0, 5, 0, 0, 0, 4, 0, 4, 3, 9</text>\n",
       "<text text-anchor=\"middle\" x=\"423\" y=\"-60.3\" font-family=\"Times,serif\" font-size=\"14.00\">0, 0, 1, 1, 0, 0, 0, 0, 6, 0, 3, 2, 7, 3</text>\n",
       "<text text-anchor=\"middle\" x=\"423\" y=\"-45.3\" font-family=\"Times,serif\" font-size=\"14.00\">0, 0, 0, 1, 1, 1, 7, 0, 0, 0, 0, 0, 0, 0</text>\n",
       "<text text-anchor=\"middle\" x=\"423\" y=\"-30.3\" font-family=\"Times,serif\" font-size=\"14.00\">0, 2, 2, 0, 1, 0, 2, 2, 2, 0]</text>\n",
       "<text text-anchor=\"middle\" x=\"423\" y=\"-15.3\" font-family=\"Times,serif\" font-size=\"14.00\">class = E14</text>\n",
       "</g>\n",
       "<!-- 3&#45;&gt;6 -->\n",
       "<g id=\"edge4\" class=\"edge\">\n",
       "<title>3&#45;&gt;6</title>\n",
       "<path fill=\"none\" stroke=\"black\" d=\"M348.36,-763.84C350.43,-752.79 352.5,-741.73 354.57,-730.69\"/>\n",
       "<polygon fill=\"black\" stroke=\"black\" points=\"358.06,-731.04 356.46,-720.56 351.18,-729.75 358.06,-731.04\"/>\n",
       "</g>\n",
       "</g>\n",
       "</svg>\n"
      ],
      "text/plain": [
       "<graphviz.files.Source at 0x7fd7d133ae10>"
      ]
     },
     "metadata": {},
     "output_type": "display_data"
    }
   ],
   "source": [
    "#### CLEAN UP AND IMPROVE ####\n",
    "\n",
    "dot_data = export_graphviz(model, \n",
    " out_file = None, \n",
    " class_names = model.classes_,\n",
    " feature_names = encoded_columns)\n",
    "\n",
    "display(graphviz.Source(dot_data))\n"
   ]
  }
 ],
 "metadata": {
  "colab": {
   "collapsed_sections": [],
   "name": "Untitled2.ipynb",
   "provenance": []
  },
  "kernelspec": {
   "display_name": "Python 3",
   "language": "python",
   "name": "python3"
  },
  "language_info": {
   "codemirror_mode": {
    "name": "ipython",
    "version": 3
   },
   "file_extension": ".py",
   "mimetype": "text/x-python",
   "name": "python",
   "nbconvert_exporter": "python",
   "pygments_lexer": "ipython3",
   "version": "3.7.6"
  }
 },
 "nbformat": 4,
 "nbformat_minor": 4
}
