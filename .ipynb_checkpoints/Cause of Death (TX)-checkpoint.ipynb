{
 "cells": [
  {
   "cell_type": "markdown",
   "metadata": {
    "colab_type": "text",
    "id": "8M27BRNVjbqZ"
   },
   "source": [
    "# Load / Prepare Dataset\n"
   ]
  },
  {
   "cell_type": "code",
   "execution_count": 210,
   "metadata": {
    "colab": {
     "base_uri": "https://localhost:8080/",
     "height": 452
    },
    "colab_type": "code",
    "id": "gvTgxAeyPMqy",
    "outputId": "0f8c578b-3ad1-476f-d46d-6685778e1845"
   },
   "outputs": [
    {
     "data": {
      "text/html": [
       "<div>\n",
       "<style scoped>\n",
       "    .dataframe tbody tr th:only-of-type {\n",
       "        vertical-align: middle;\n",
       "    }\n",
       "\n",
       "    .dataframe tbody tr th {\n",
       "        vertical-align: top;\n",
       "    }\n",
       "\n",
       "    .dataframe thead th {\n",
       "        text-align: right;\n",
       "    }\n",
       "</style>\n",
       "<table border=\"1\" class=\"dataframe\">\n",
       "  <thead>\n",
       "    <tr style=\"text-align: right;\">\n",
       "      <th></th>\n",
       "      <th>Age Group</th>\n",
       "      <th>Age Group Code</th>\n",
       "      <th>Cause of death</th>\n",
       "      <th>Cause of death Code</th>\n",
       "      <th>Gender</th>\n",
       "      <th>Gender Code</th>\n",
       "      <th>Race</th>\n",
       "      <th>Race Code</th>\n",
       "      <th>Deaths</th>\n",
       "      <th>Population</th>\n",
       "      <th>Crude Rate</th>\n",
       "    </tr>\n",
       "  </thead>\n",
       "  <tbody>\n",
       "    <tr>\n",
       "      <th>0</th>\n",
       "      <td>&lt; 1 year</td>\n",
       "      <td>1</td>\n",
       "      <td>Other and unspecified gastroenteritis and coli...</td>\n",
       "      <td>A09.0</td>\n",
       "      <td>Female</td>\n",
       "      <td>F</td>\n",
       "      <td>Black or African American</td>\n",
       "      <td>2054-5</td>\n",
       "      <td>25.0</td>\n",
       "      <td>430996</td>\n",
       "      <td>6</td>\n",
       "    </tr>\n",
       "    <tr>\n",
       "      <th>1</th>\n",
       "      <td>&lt; 1 year</td>\n",
       "      <td>1</td>\n",
       "      <td>Other and unspecified gastroenteritis and coli...</td>\n",
       "      <td>A09.0</td>\n",
       "      <td>Female</td>\n",
       "      <td>F</td>\n",
       "      <td>White</td>\n",
       "      <td>2106-3</td>\n",
       "      <td>42.0</td>\n",
       "      <td>2.72182e+06</td>\n",
       "      <td>2</td>\n",
       "    </tr>\n",
       "    <tr>\n",
       "      <th>2</th>\n",
       "      <td>&lt; 1 year</td>\n",
       "      <td>1</td>\n",
       "      <td>Whooping cough, unspecified</td>\n",
       "      <td>A37.9</td>\n",
       "      <td>Female</td>\n",
       "      <td>F</td>\n",
       "      <td>White</td>\n",
       "      <td>2106-3</td>\n",
       "      <td>16.0</td>\n",
       "      <td>2.72182e+06</td>\n",
       "      <td>1 (Unreliable)</td>\n",
       "    </tr>\n",
       "    <tr>\n",
       "      <th>3</th>\n",
       "      <td>&lt; 1 year</td>\n",
       "      <td>1</td>\n",
       "      <td>Septicaemia due to other Gram-negative organisms</td>\n",
       "      <td>A41.5</td>\n",
       "      <td>Female</td>\n",
       "      <td>F</td>\n",
       "      <td>White</td>\n",
       "      <td>2106-3</td>\n",
       "      <td>26.0</td>\n",
       "      <td>2.72182e+06</td>\n",
       "      <td>1</td>\n",
       "    </tr>\n",
       "    <tr>\n",
       "      <th>4</th>\n",
       "      <td>&lt; 1 year</td>\n",
       "      <td>1</td>\n",
       "      <td>Septicaemia, unspecified</td>\n",
       "      <td>A41.9</td>\n",
       "      <td>Female</td>\n",
       "      <td>F</td>\n",
       "      <td>Black or African American</td>\n",
       "      <td>2054-5</td>\n",
       "      <td>37.0</td>\n",
       "      <td>430996</td>\n",
       "      <td>9</td>\n",
       "    </tr>\n",
       "  </tbody>\n",
       "</table>\n",
       "</div>"
      ],
      "text/plain": [
       "  Age Group Age Group Code                                     Cause of death  \\\n",
       "0  < 1 year              1  Other and unspecified gastroenteritis and coli...   \n",
       "1  < 1 year              1  Other and unspecified gastroenteritis and coli...   \n",
       "2  < 1 year              1                        Whooping cough, unspecified   \n",
       "3  < 1 year              1   Septicaemia due to other Gram-negative organisms   \n",
       "4  < 1 year              1                           Septicaemia, unspecified   \n",
       "\n",
       "  Cause of death Code  Gender Gender Code                       Race  \\\n",
       "0               A09.0  Female           F  Black or African American   \n",
       "1               A09.0  Female           F                      White   \n",
       "2               A37.9  Female           F                      White   \n",
       "3               A41.5  Female           F                      White   \n",
       "4               A41.9  Female           F  Black or African American   \n",
       "\n",
       "  Race Code  Deaths   Population      Crude Rate  \n",
       "0    2054-5    25.0       430996               6  \n",
       "1    2106-3    42.0  2.72182e+06               2  \n",
       "2    2106-3    16.0  2.72182e+06  1 (Unreliable)  \n",
       "3    2106-3    26.0  2.72182e+06               1  \n",
       "4    2054-5    37.0       430996               9  "
      ]
     },
     "execution_count": 210,
     "metadata": {},
     "output_type": "execute_result"
    }
   ],
   "source": [
    "import pandas as pd\n",
    "import numpy as np\n",
    "\n",
    "females = pd.read_table('Female')\n",
    "males = pd.read_table('Male')\n",
    "\n",
    "df = pd.concat([females, males]).drop(columns = 'Notes') # Merge\n",
    "\n",
    "df = df.dropna()\n",
    "\n",
    "df.head()"
   ]
  },
  {
   "cell_type": "code",
   "execution_count": 211,
   "metadata": {
    "colab": {
     "base_uri": "https://localhost:8080/",
     "height": 219
    },
    "colab_type": "code",
    "id": "vu5Snj-hi1Eq",
    "outputId": "afbb5c58-d0db-4583-85a2-0115246a48a6"
   },
   "outputs": [
    {
     "data": {
      "text/plain": [
       "Age Group               object\n",
       "Cause of death          object\n",
       "Cause of death Code     object\n",
       "Gender                  object\n",
       "Race                    object\n",
       "Deaths                 float64\n",
       "Population              object\n",
       "dtype: object"
      ]
     },
     "execution_count": 211,
     "metadata": {},
     "output_type": "execute_result"
    }
   ],
   "source": [
    "# Dropping unneeded columns.\n",
    "\n",
    "df = df.drop(columns = ['Age Group Code',  'Race Code', 'Crude Rate', 'Gender Code']).reset_index(drop = True)\n",
    "\n",
    "df.dtypes"
   ]
  },
  {
   "cell_type": "code",
   "execution_count": 212,
   "metadata": {},
   "outputs": [],
   "source": [
    "# The Population needs to be changed to int. Let's do that.\n",
    "df = df.replace('Not Applicable', np.NaN).dropna()\n",
    "\n",
    "df['Population'] = df['Population'].astype(int)"
   ]
  },
  {
   "cell_type": "code",
   "execution_count": 213,
   "metadata": {},
   "outputs": [
    {
     "name": "stdout",
     "output_type": "stream",
     "text": [
      "Least common cause of death: Abdomen - Malignant neoplasms\n",
      "Most common cause of death: Zoster without complication\n"
     ]
    }
   ],
   "source": [
    "print('Least common cause of death:', df['Cause of death'].min())\n",
    "print('Most common cause of death:', df['Cause of death'].max()) # Interesting. Shingles is the most common cause of death"
   ]
  },
  {
   "cell_type": "markdown",
   "metadata": {
    "colab_type": "text",
    "id": "pPTuTz_HknWc"
   },
   "source": [
    "# Modeling"
   ]
  },
  {
   "cell_type": "markdown",
   "metadata": {
    "colab_type": "text",
    "id": "l-C05Ip1cB15"
   },
   "source": [
    "## Wrangle / Feature Engineering"
   ]
  },
  {
   "cell_type": "code",
   "execution_count": 214,
   "metadata": {},
   "outputs": [],
   "source": [
    "def wrangle(X):\n",
    "    X = X.copy() # Make a copy for warnings\n",
    "    \n",
    "    # Get first three of cause of death (classifies)\n",
    "    X['Cause of Death Code'] = [x.strip()[:3] for x in X['Cause of death Code']]\n",
    "    \n",
    "    # Calculate Crude Rates\n",
    "    X['Crude Rate'] = (X['Deaths'] / X['Population']) * 100000\n",
    "    X = X.drop(columns = ['Cause of death Code']) # Drop the too-specific cause of death Code\n",
    "    return X\n",
    "    "
   ]
  },
  {
   "cell_type": "markdown",
   "metadata": {},
   "source": [
    "## Decision Tree"
   ]
  },
  {
   "cell_type": "code",
   "execution_count": 215,
   "metadata": {
    "colab": {},
    "colab_type": "code",
    "id": "tufMAj3-jKdr"
   },
   "outputs": [],
   "source": [
    "# Imports\n",
    "\n",
    "from sklearn.pipeline import make_pipeline \n",
    "from sklearn.tree import DecisionTreeClassifier \n",
    "from sklearn.model_selection import train_test_split\n",
    "import category_encoders as ce"
   ]
  },
  {
   "cell_type": "code",
   "execution_count": 216,
   "metadata": {
    "colab": {},
    "colab_type": "code",
    "id": "UbO-cIuUkIpw"
   },
   "outputs": [
    {
     "data": {
      "text/plain": [
       "((5300, 7), (5300, 7), (2650, 7))"
      ]
     },
     "execution_count": 216,
     "metadata": {},
     "output_type": "execute_result"
    }
   ],
   "source": [
    "# Train - Val - Test Split\n",
    "train, test = train_test_split(df, train_size = 0.8)\n",
    "train, val = train_test_split(train, train_size = 0.5)\n",
    "\n",
    "train.shape, val.shape, test.shape"
   ]
  },
  {
   "cell_type": "code",
   "execution_count": 217,
   "metadata": {},
   "outputs": [
    {
     "data": {
      "text/html": [
       "<div>\n",
       "<style scoped>\n",
       "    .dataframe tbody tr th:only-of-type {\n",
       "        vertical-align: middle;\n",
       "    }\n",
       "\n",
       "    .dataframe tbody tr th {\n",
       "        vertical-align: top;\n",
       "    }\n",
       "\n",
       "    .dataframe thead th {\n",
       "        text-align: right;\n",
       "    }\n",
       "</style>\n",
       "<table border=\"1\" class=\"dataframe\">\n",
       "  <thead>\n",
       "    <tr style=\"text-align: right;\">\n",
       "      <th></th>\n",
       "      <th>Age Group</th>\n",
       "      <th>Cause of death</th>\n",
       "      <th>Gender</th>\n",
       "      <th>Race</th>\n",
       "      <th>Deaths</th>\n",
       "      <th>Population</th>\n",
       "      <th>Cause of Death Code</th>\n",
       "      <th>Crude Rate</th>\n",
       "    </tr>\n",
       "  </thead>\n",
       "  <tbody>\n",
       "    <tr>\n",
       "      <th>6266</th>\n",
       "      <td>&lt; 1 year</td>\n",
       "      <td>Newborn affected by placental transfusion synd...</td>\n",
       "      <td>Male</td>\n",
       "      <td>White</td>\n",
       "      <td>60.0</td>\n",
       "      <td>2841394</td>\n",
       "      <td>P02</td>\n",
       "      <td>2.111640</td>\n",
       "    </tr>\n",
       "    <tr>\n",
       "      <th>10432</th>\n",
       "      <td>65-74 years</td>\n",
       "      <td>Pancreas, unspecified - Malignant neoplasms</td>\n",
       "      <td>Male</td>\n",
       "      <td>Asian or Pacific Islander</td>\n",
       "      <td>87.0</td>\n",
       "      <td>358302</td>\n",
       "      <td>C25</td>\n",
       "      <td>24.281193</td>\n",
       "    </tr>\n",
       "    <tr>\n",
       "      <th>10670</th>\n",
       "      <td>65-74 years</td>\n",
       "      <td>Hyperlipidaemia, unspecified</td>\n",
       "      <td>Male</td>\n",
       "      <td>White</td>\n",
       "      <td>736.0</td>\n",
       "      <td>10494201</td>\n",
       "      <td>E78</td>\n",
       "      <td>7.013397</td>\n",
       "    </tr>\n",
       "    <tr>\n",
       "      <th>214</th>\n",
       "      <td>&lt; 1 year</td>\n",
       "      <td>Chromosomal abnormality, unspecified</td>\n",
       "      <td>Female</td>\n",
       "      <td>Black or African American</td>\n",
       "      <td>13.0</td>\n",
       "      <td>430996</td>\n",
       "      <td>Q99</td>\n",
       "      <td>3.016269</td>\n",
       "    </tr>\n",
       "    <tr>\n",
       "      <th>3563</th>\n",
       "      <td>65-74 years</td>\n",
       "      <td>Other forms of chronic ischaemic heart disease</td>\n",
       "      <td>Female</td>\n",
       "      <td>White</td>\n",
       "      <td>115.0</td>\n",
       "      <td>11954539</td>\n",
       "      <td>I25</td>\n",
       "      <td>0.961978</td>\n",
       "    </tr>\n",
       "  </tbody>\n",
       "</table>\n",
       "</div>"
      ],
      "text/plain": [
       "         Age Group                                     Cause of death  Gender  \\\n",
       "6266      < 1 year  Newborn affected by placental transfusion synd...    Male   \n",
       "10432  65-74 years        Pancreas, unspecified - Malignant neoplasms    Male   \n",
       "10670  65-74 years                       Hyperlipidaemia, unspecified    Male   \n",
       "214       < 1 year               Chromosomal abnormality, unspecified  Female   \n",
       "3563   65-74 years     Other forms of chronic ischaemic heart disease  Female   \n",
       "\n",
       "                            Race  Deaths  Population Cause of Death Code  \\\n",
       "6266                       White    60.0     2841394                 P02   \n",
       "10432  Asian or Pacific Islander    87.0      358302                 C25   \n",
       "10670                      White   736.0    10494201                 E78   \n",
       "214    Black or African American    13.0      430996                 Q99   \n",
       "3563                       White   115.0    11954539                 I25   \n",
       "\n",
       "       Crude Rate  \n",
       "6266     2.111640  \n",
       "10432   24.281193  \n",
       "10670    7.013397  \n",
       "214      3.016269  \n",
       "3563     0.961978  "
      ]
     },
     "execution_count": 217,
     "metadata": {},
     "output_type": "execute_result"
    }
   ],
   "source": [
    "# Wrangle all three.\n",
    "\n",
    "train = wrangle(train)\n",
    "val = wrangle(val)\n",
    "test = wrangle(test)\n",
    "\n",
    "train.head()"
   ]
  },
  {
   "cell_type": "code",
   "execution_count": 218,
   "metadata": {
    "colab": {},
    "colab_type": "code",
    "id": "MknocxBwkqav"
   },
   "outputs": [
    {
     "data": {
      "text/plain": [
       "White                               3722\n",
       "Black or African American           1267\n",
       "Asian or Pacific Islander            279\n",
       "American Indian or Alaska Native      32\n",
       "Name: Race, dtype: int64"
      ]
     },
     "execution_count": 218,
     "metadata": {},
     "output_type": "execute_result"
    }
   ],
   "source": [
    "target = 'Cause of Death Code' # Feature we're trying to predict\n",
    "features = train.columns.drop([target] + ['Cause of death',  'Crude Rate'])\n",
    "\n",
    "X_train = train[features]\n",
    "y_train = train[target]\n",
    "\n",
    "X_val = val[features]\n",
    "y_val = val[target]\n",
    "\n",
    "X_test = test[features]\n",
    "y_test = test[target]\n",
    "\n",
    "X_val['Race'].value_counts()\n"
   ]
  },
  {
   "cell_type": "code",
   "execution_count": 219,
   "metadata": {
    "colab": {},
    "colab_type": "code",
    "id": "wcACpU-nj7vK"
   },
   "outputs": [
    {
     "data": {
      "text/plain": [
       "Pipeline(memory=None,\n",
       "         steps=[('onehotencoder',\n",
       "                 OneHotEncoder(cols=['Age Group', 'Gender', 'Race'],\n",
       "                               drop_invariant=False, handle_missing='value',\n",
       "                               handle_unknown='value', return_df=True,\n",
       "                               use_cat_names=True, verbose=0)),\n",
       "                ('decisiontreeclassifier',\n",
       "                 DecisionTreeClassifier(ccp_alpha=0.0, class_weight=None,\n",
       "                                        criterion='gini', max_depth=3,\n",
       "                                        max_features='auto', max_leaf_nodes=4,\n",
       "                                        min_impurity_decrease=0.0,\n",
       "                                        min_impurity_split=None,\n",
       "                                        min_samples_leaf=1, min_samples_split=2,\n",
       "                                        min_weight_fraction_leaf=0.0,\n",
       "                                        presort='deprecated', random_state=321,\n",
       "                                        splitter='best'))],\n",
       "         verbose=False)"
      ]
     },
     "execution_count": 219,
     "metadata": {},
     "output_type": "execute_result"
    }
   ],
   "source": [
    "# Make the Pipeline\n",
    "pipeline = make_pipeline(\n",
    "                          ce.OneHotEncoder(use_cat_names = True),\n",
    "                         DecisionTreeClassifier(max_depth = 3,\n",
    "                                                random_state = 321,\n",
    "                                                max_leaf_nodes = 4,\n",
    "                                                min_samples_leaf = 1,\n",
    "                                                max_features = \"auto\"\n",
    "                                               )\n",
    ")\n",
    "\n",
    "pipeline.fit(X_train, y_train)"
   ]
  },
  {
   "cell_type": "code",
   "execution_count": 220,
   "metadata": {
    "colab": {},
    "colab_type": "code",
    "id": "fBXXZKS8o-jr"
   },
   "outputs": [],
   "source": [
    "baseline = pipeline.score(X_train, y_train) # Using accuracy score over ROC AUC because Multi-Class"
   ]
  },
  {
   "cell_type": "code",
   "execution_count": 221,
   "metadata": {},
   "outputs": [],
   "source": [
    "val_score = pipeline.score(X_val, y_val)"
   ]
  },
  {
   "cell_type": "code",
   "execution_count": 222,
   "metadata": {},
   "outputs": [
    {
     "name": "stdout",
     "output_type": "stream",
     "text": [
      "Baseline Accuracy Score: 0.017358490566037735\n",
      "Validation Accuracy Score: 0.010943396226415094\n"
     ]
    }
   ],
   "source": [
    "print(f'Baseline Accuracy Score: {baseline}')\n",
    "print(f'Validation Accuracy Score: {val_score}')"
   ]
  },
  {
   "cell_type": "markdown",
   "metadata": {},
   "source": [
    "# Linear Model\n"
   ]
  },
  {
   "cell_type": "code",
   "execution_count": 223,
   "metadata": {},
   "outputs": [],
   "source": [
    "# Imports\n",
    "from sklearn.linear_model import LogisticRegression\n",
    "from sklearn.preprocessing import StandardScaler"
   ]
  },
  {
   "cell_type": "code",
   "execution_count": 224,
   "metadata": {},
   "outputs": [],
   "source": [
    "log_pipe = make_pipeline(StandardScaler(),\n",
    "                         ce.OrdinalEncoder(),\n",
    "                         LogisticRegression(random_state = 321, max_iter = 100, n_jobs = -1)\n",
    ")"
   ]
  },
  {
   "cell_type": "code",
   "execution_count": 225,
   "metadata": {},
   "outputs": [],
   "source": [
    "# Encode all Values\n",
    "encoder = ce.OrdinalEncoder()\n",
    "\n",
    "X_train_encoded = encoder.fit_transform(X_train)\n",
    "X_val_encoded = encoder.transform(X_val)\n",
    "X_test_encoded = encoder.transform(X_test)"
   ]
  },
  {
   "cell_type": "code",
   "execution_count": 226,
   "metadata": {},
   "outputs": [
    {
     "data": {
      "text/plain": [
       "Pipeline(memory=None,\n",
       "         steps=[('standardscaler',\n",
       "                 StandardScaler(copy=True, with_mean=True, with_std=True)),\n",
       "                ('ordinalencoder',\n",
       "                 OrdinalEncoder(cols=[], drop_invariant=False,\n",
       "                                handle_missing='value', handle_unknown='value',\n",
       "                                mapping=[], return_df=True, verbose=0)),\n",
       "                ('logisticregression',\n",
       "                 LogisticRegression(C=1.0, class_weight=None, dual=False,\n",
       "                                    fit_intercept=True, intercept_scaling=1,\n",
       "                                    l1_ratio=None, max_iter=100,\n",
       "                                    multi_class='auto', n_jobs=-1, penalty='l2',\n",
       "                                    random_state=321, solver='lbfgs',\n",
       "                                    tol=0.0001, verbose=0, warm_start=False))],\n",
       "         verbose=False)"
      ]
     },
     "execution_count": 226,
     "metadata": {},
     "output_type": "execute_result"
    }
   ],
   "source": [
    "log_pipe.fit(X_train_encoded, y_train)"
   ]
  },
  {
   "cell_type": "code",
   "execution_count": 227,
   "metadata": {},
   "outputs": [
    {
     "name": "stdout",
     "output_type": "stream",
     "text": [
      "Train Score: 0.022452830188679246\n"
     ]
    }
   ],
   "source": [
    "print('Train Score:', log_pipe.score(X_train_encoded, y_train))"
   ]
  },
  {
   "cell_type": "code",
   "execution_count": 228,
   "metadata": {},
   "outputs": [
    {
     "name": "stdout",
     "output_type": "stream",
     "text": [
      "Validation Score: 0.010377358490566037\n"
     ]
    }
   ],
   "source": [
    "print('Validation Score:', log_pipe.score(X_val_encoded, y_train))"
   ]
  },
  {
   "cell_type": "markdown",
   "metadata": {},
   "source": [
    "## Test Scores"
   ]
  },
  {
   "cell_type": "code",
   "execution_count": 229,
   "metadata": {},
   "outputs": [
    {
     "name": "stdout",
     "output_type": "stream",
     "text": [
      "Test Score (Decision Tree): 0.00830188679245283\n",
      "Test Score (Linear Model): 0.01471698113207547\n"
     ]
    }
   ],
   "source": [
    "print('Test Score (Decision Tree):', pipeline.score(X_test, y_test))\n",
    "print('Test Score (Linear Model):', log_pipe.score(X_test_encoded, y_test))"
   ]
  },
  {
   "cell_type": "markdown",
   "metadata": {},
   "source": [
    "# Model Visualizations"
   ]
  },
  {
   "cell_type": "markdown",
   "metadata": {},
   "source": [
    "## Visualize Decision Tree"
   ]
  },
  {
   "cell_type": "code",
   "execution_count": 230,
   "metadata": {},
   "outputs": [],
   "source": [
    "# Imports and Setup\n",
    "import graphviz\n",
    "from sklearn.tree import export_graphviz\n",
    "from IPython.display import display, HTML"
   ]
  },
  {
   "cell_type": "code",
   "execution_count": 231,
   "metadata": {},
   "outputs": [],
   "source": [
    "# Encode Columns; Define Model\n",
    "\n",
    "encoder = pipeline.named_steps.onehotencoder\n",
    "model = pipeline.named_steps.decisiontreeclassifier\n",
    "\n",
    "encoded_columns = encoder.transform(X_train).columns"
   ]
  },
  {
   "cell_type": "code",
   "execution_count": 232,
   "metadata": {},
   "outputs": [
    {
     "data": {
      "image/svg+xml": [
       "<?xml version=\"1.0\" encoding=\"UTF-8\" standalone=\"no\"?>\n",
       "<!DOCTYPE svg PUBLIC \"-//W3C//DTD SVG 1.1//EN\"\n",
       " \"http://www.w3.org/Graphics/SVG/1.1/DTD/svg11.dtd\">\n",
       "<!-- Generated by graphviz version 2.42.3 (20191010.1750)\n",
       " -->\n",
       "<!-- Title: Tree Pages: 1 -->\n",
       "<svg width=\"1127pt\" height=\"2309pt\"\n",
       " viewBox=\"0.00 0.00 1127.00 2309.00\" xmlns=\"http://www.w3.org/2000/svg\" xmlns:xlink=\"http://www.w3.org/1999/xlink\">\n",
       "<g id=\"graph0\" class=\"graph\" transform=\"scale(1 1) rotate(0) translate(4 2305)\">\n",
       "<title>Tree</title>\n",
       "<polygon fill=\"white\" stroke=\"transparent\" points=\"-4,4 -4,-2305 1123,-2305 1123,4 -4,4\"/>\n",
       "<!-- 0 -->\n",
       "<g id=\"node1\" class=\"node\">\n",
       "<title>0</title>\n",
       "<polygon fill=\"none\" stroke=\"black\" points=\"706,-2301 428,-2301 428,-1543 706,-1543 706,-2301\"/>\n",
       "<text text-anchor=\"middle\" x=\"567\" y=\"-2285.8\" font-family=\"Times,serif\" font-size=\"14.00\">Race_Black or African American &lt;= 0.5</text>\n",
       "<text text-anchor=\"middle\" x=\"567\" y=\"-2270.8\" font-family=\"Times,serif\" font-size=\"14.00\">gini = 0.996</text>\n",
       "<text text-anchor=\"middle\" x=\"567\" y=\"-2255.8\" font-family=\"Times,serif\" font-size=\"14.00\">samples = 5300</text>\n",
       "<text text-anchor=\"middle\" x=\"567\" y=\"-2240.8\" font-family=\"Times,serif\" font-size=\"14.00\">value = [7, 1, 13, 9, 2, 1, 3, 8, 45, 1, 12, 3, 3, 3</text>\n",
       "<text text-anchor=\"middle\" x=\"567\" y=\"-2225.8\" font-family=\"Times,serif\" font-size=\"14.00\">2, 9, 9, 11, 1, 37, 12, 16, 16, 6, 2, 3, 1</text>\n",
       "<text text-anchor=\"middle\" x=\"567\" y=\"-2210.8\" font-family=\"Times,serif\" font-size=\"14.00\">2, 7, 4, 1, 4, 11, 4, 3, 1, 7, 2, 4, 7, 6</text>\n",
       "<text text-anchor=\"middle\" x=\"567\" y=\"-2195.8\" font-family=\"Times,serif\" font-size=\"14.00\">4, 9, 4, 7, 5, 7, 8, 28, 13, 29, 8, 9, 8, 33</text>\n",
       "<text text-anchor=\"middle\" x=\"567\" y=\"-2180.8\" font-family=\"Times,serif\" font-size=\"14.00\">10, 14, 24, 14, 5, 9, 1, 29, 5, 7, 1, 16, 11</text>\n",
       "<text text-anchor=\"middle\" x=\"567\" y=\"-2165.8\" font-family=\"Times,serif\" font-size=\"14.00\">23, 15, 1, 10, 28, 19, 5, 3, 10, 11, 5, 4, 3</text>\n",
       "<text text-anchor=\"middle\" x=\"567\" y=\"-2150.8\" font-family=\"Times,serif\" font-size=\"14.00\">2, 3, 3, 15, 2, 13, 6, 2, 38, 9, 6, 17, 1</text>\n",
       "<text text-anchor=\"middle\" x=\"567\" y=\"-2135.8\" font-family=\"Times,serif\" font-size=\"14.00\">16, 18, 12, 11, 2, 18, 10, 26, 1, 17, 18, 54</text>\n",
       "<text text-anchor=\"middle\" x=\"567\" y=\"-2120.8\" font-family=\"Times,serif\" font-size=\"14.00\">3, 22, 1, 11, 1, 1, 7, 1, 12, 5, 2, 1, 4, 14</text>\n",
       "<text text-anchor=\"middle\" x=\"567\" y=\"-2105.8\" font-family=\"Times,serif\" font-size=\"14.00\">2, 12, 5, 12, 1, 1, 1, 8, 2, 3, 7, 2, 8, 6</text>\n",
       "<text text-anchor=\"middle\" x=\"567\" y=\"-2090.8\" font-family=\"Times,serif\" font-size=\"14.00\">1, 11, 11, 5, 2, 1, 1, 3, 12, 2, 5, 2, 1, 29</text>\n",
       "<text text-anchor=\"middle\" x=\"567\" y=\"-2075.8\" font-family=\"Times,serif\" font-size=\"14.00\">56, 72, 1, 1, 3, 1, 2, 9, 1, 13, 2, 24, 2, 1</text>\n",
       "<text text-anchor=\"middle\" x=\"567\" y=\"-2060.8\" font-family=\"Times,serif\" font-size=\"14.00\">27, 11, 9, 11, 7, 39, 11, 14, 13, 7, 3, 34, 3</text>\n",
       "<text text-anchor=\"middle\" x=\"567\" y=\"-2045.8\" font-family=\"Times,serif\" font-size=\"14.00\">5, 1, 3, 18, 4, 1, 7, 1, 6, 2, 5, 3, 5, 7</text>\n",
       "<text text-anchor=\"middle\" x=\"567\" y=\"-2030.8\" font-family=\"Times,serif\" font-size=\"14.00\">8, 1, 6, 3, 10, 1, 13, 3, 6, 17, 23, 8, 2</text>\n",
       "<text text-anchor=\"middle\" x=\"567\" y=\"-2015.8\" font-family=\"Times,serif\" font-size=\"14.00\">10, 12, 4, 7, 4, 3, 7, 20, 2, 14, 3, 14, 2</text>\n",
       "<text text-anchor=\"middle\" x=\"567\" y=\"-2000.8\" font-family=\"Times,serif\" font-size=\"14.00\">4, 11, 2, 44, 4, 9, 1, 1, 6, 5, 18, 25, 19</text>\n",
       "<text text-anchor=\"middle\" x=\"567\" y=\"-1985.8\" font-family=\"Times,serif\" font-size=\"14.00\">24, 3, 22, 9, 82, 11, 27, 9, 11, 18, 23, 13, 1</text>\n",
       "<text text-anchor=\"middle\" x=\"567\" y=\"-1970.8\" font-family=\"Times,serif\" font-size=\"14.00\">51, 3, 11, 30, 10, 9, 30, 40, 50, 24, 45, 23</text>\n",
       "<text text-anchor=\"middle\" x=\"567\" y=\"-1955.8\" font-family=\"Times,serif\" font-size=\"14.00\">37, 18, 41, 36, 9, 53, 5, 10, 6, 14, 1, 20, 1</text>\n",
       "<text text-anchor=\"middle\" x=\"567\" y=\"-1940.8\" font-family=\"Times,serif\" font-size=\"14.00\">1, 1, 1, 1, 4, 3, 6, 4, 9, 4, 7, 21, 32, 1</text>\n",
       "<text text-anchor=\"middle\" x=\"567\" y=\"-1925.8\" font-family=\"Times,serif\" font-size=\"14.00\">1, 1, 1, 4, 5, 5, 10, 42, 21, 6, 7, 2, 2, 17</text>\n",
       "<text text-anchor=\"middle\" x=\"567\" y=\"-1910.8\" font-family=\"Times,serif\" font-size=\"14.00\">11, 7, 3, 28, 8, 2, 7, 1, 3, 25, 32, 2, 2, 3</text>\n",
       "<text text-anchor=\"middle\" x=\"567\" y=\"-1895.8\" font-family=\"Times,serif\" font-size=\"14.00\">17, 10, 11, 9, 3, 13, 5, 1, 2, 1, 8, 4, 9, 3</text>\n",
       "<text text-anchor=\"middle\" x=\"567\" y=\"-1880.8\" font-family=\"Times,serif\" font-size=\"14.00\">7, 7, 22, 22, 20, 4, 1, 3, 16, 12, 4, 20, 19</text>\n",
       "<text text-anchor=\"middle\" x=\"567\" y=\"-1865.8\" font-family=\"Times,serif\" font-size=\"14.00\">6, 21, 11, 30, 9, 8, 3, 10, 19, 16, 6, 9, 3</text>\n",
       "<text text-anchor=\"middle\" x=\"567\" y=\"-1850.8\" font-family=\"Times,serif\" font-size=\"14.00\">10, 5, 1, 18, 4, 3, 1, 5, 7, 2, 2, 1, 1, 13</text>\n",
       "<text text-anchor=\"middle\" x=\"567\" y=\"-1835.8\" font-family=\"Times,serif\" font-size=\"14.00\">14, 1, 19, 7, 2, 3, 2, 1, 10, 9, 3, 2, 7, 3</text>\n",
       "<text text-anchor=\"middle\" x=\"567\" y=\"-1820.8\" font-family=\"Times,serif\" font-size=\"14.00\">11, 3, 1, 4, 1, 5, 6, 21, 38, 18, 4, 14, 3</text>\n",
       "<text text-anchor=\"middle\" x=\"567\" y=\"-1805.8\" font-family=\"Times,serif\" font-size=\"14.00\">3, 11, 2, 1, 1, 3, 1, 3, 1, 3, 1, 4, 6, 3</text>\n",
       "<text text-anchor=\"middle\" x=\"567\" y=\"-1790.8\" font-family=\"Times,serif\" font-size=\"14.00\">5, 7, 4, 1, 9, 1, 2, 2, 2, 2, 2, 3, 5, 5</text>\n",
       "<text text-anchor=\"middle\" x=\"567\" y=\"-1775.8\" font-family=\"Times,serif\" font-size=\"14.00\">3, 6, 2, 4, 1, 1, 2, 2, 2, 2, 1, 4, 1, 2</text>\n",
       "<text text-anchor=\"middle\" x=\"567\" y=\"-1760.8\" font-family=\"Times,serif\" font-size=\"14.00\">2, 7, 1, 4, 9, 2, 3, 13, 2, 2, 2, 2, 1, 2</text>\n",
       "<text text-anchor=\"middle\" x=\"567\" y=\"-1745.8\" font-family=\"Times,serif\" font-size=\"14.00\">1, 2, 8, 1, 3, 4, 3, 5, 10, 4, 1, 1, 2, 1</text>\n",
       "<text text-anchor=\"middle\" x=\"567\" y=\"-1730.8\" font-family=\"Times,serif\" font-size=\"14.00\">6, 7, 1, 1, 6, 5, 14, 9, 4, 5, 1, 3, 5, 5</text>\n",
       "<text text-anchor=\"middle\" x=\"567\" y=\"-1715.8\" font-family=\"Times,serif\" font-size=\"14.00\">3, 6, 20, 21, 8, 6, 26, 8, 4, 1, 6, 1, 7, 4</text>\n",
       "<text text-anchor=\"middle\" x=\"567\" y=\"-1700.8\" font-family=\"Times,serif\" font-size=\"14.00\">9, 39, 12, 2, 30, 22, 32, 7, 10, 1, 12, 14, 4</text>\n",
       "<text text-anchor=\"middle\" x=\"567\" y=\"-1685.8\" font-family=\"Times,serif\" font-size=\"14.00\">1, 1, 3, 4, 1, 1, 14, 35, 25, 2, 2, 9, 5, 1</text>\n",
       "<text text-anchor=\"middle\" x=\"567\" y=\"-1670.8\" font-family=\"Times,serif\" font-size=\"14.00\">2, 2, 3, 5, 2, 8, 3, 12, 19, 6, 3, 2, 1, 1</text>\n",
       "<text text-anchor=\"middle\" x=\"567\" y=\"-1655.8\" font-family=\"Times,serif\" font-size=\"14.00\">3, 3, 1, 3, 7, 3, 1, 1, 7, 12, 2, 11, 2, 6</text>\n",
       "<text text-anchor=\"middle\" x=\"567\" y=\"-1640.8\" font-family=\"Times,serif\" font-size=\"14.00\">10, 4, 3, 4, 6, 12, 2, 7, 1, 2, 2, 18, 1, 4</text>\n",
       "<text text-anchor=\"middle\" x=\"567\" y=\"-1625.8\" font-family=\"Times,serif\" font-size=\"14.00\">7, 10, 1, 5, 5, 13, 13, 2, 1, 12, 1, 2, 28</text>\n",
       "<text text-anchor=\"middle\" x=\"567\" y=\"-1610.8\" font-family=\"Times,serif\" font-size=\"14.00\">5, 11, 5, 8, 1, 4, 2, 21, 1, 8, 10, 20, 3, 5</text>\n",
       "<text text-anchor=\"middle\" x=\"567\" y=\"-1595.8\" font-family=\"Times,serif\" font-size=\"14.00\">4, 2, 1, 3, 1, 1, 9, 2, 4, 15, 20, 11, 2, 1</text>\n",
       "<text text-anchor=\"middle\" x=\"567\" y=\"-1580.8\" font-family=\"Times,serif\" font-size=\"14.00\">3, 4, 6, 16, 3, 5, 6, 1, 3, 4, 4, 8, 5, 3</text>\n",
       "<text text-anchor=\"middle\" x=\"567\" y=\"-1565.8\" font-family=\"Times,serif\" font-size=\"14.00\">16, 7, 7, 7, 3, 3]</text>\n",
       "<text text-anchor=\"middle\" x=\"567\" y=\"-1550.8\" font-family=\"Times,serif\" font-size=\"14.00\">class = I25</text>\n",
       "</g>\n",
       "<!-- 1 -->\n",
       "<g id=\"node2\" class=\"node\">\n",
       "<title>1</title>\n",
       "<polygon fill=\"none\" stroke=\"black\" points=\"561,-1507 283,-1507 283,-764 561,-764 561,-1507\"/>\n",
       "<text text-anchor=\"middle\" x=\"422\" y=\"-1491.8\" font-family=\"Times,serif\" font-size=\"14.00\">Race_Asian or Pacific Islander &lt;= 0.5</text>\n",
       "<text text-anchor=\"middle\" x=\"422\" y=\"-1476.8\" font-family=\"Times,serif\" font-size=\"14.00\">gini = 0.996</text>\n",
       "<text text-anchor=\"middle\" x=\"422\" y=\"-1461.8\" font-family=\"Times,serif\" font-size=\"14.00\">samples = 3977</text>\n",
       "<text text-anchor=\"middle\" x=\"422\" y=\"-1446.8\" font-family=\"Times,serif\" font-size=\"14.00\">value = [6, 1, 10, 8, 2, 1, 3, 8, 32, 1, 10, 3, 3, 3</text>\n",
       "<text text-anchor=\"middle\" x=\"422\" y=\"-1431.8\" font-family=\"Times,serif\" font-size=\"14.00\">2, 6, 6, 8, 1, 19, 8, 5, 10, 3, 2, 3, 1, 2</text>\n",
       "<text text-anchor=\"middle\" x=\"422\" y=\"-1416.8\" font-family=\"Times,serif\" font-size=\"14.00\">5, 4, 1, 4, 7, 4, 3, 1, 3, 2, 4, 5, 6, 4</text>\n",
       "<text text-anchor=\"middle\" x=\"422\" y=\"-1401.8\" font-family=\"Times,serif\" font-size=\"14.00\">6, 2, 5, 4, 3, 8, 20, 6, 22, 6, 6, 6, 18, 6</text>\n",
       "<text text-anchor=\"middle\" x=\"422\" y=\"-1386.8\" font-family=\"Times,serif\" font-size=\"14.00\">11, 16, 9, 5, 8, 1, 23, 5, 7, 1, 13, 9, 18</text>\n",
       "<text text-anchor=\"middle\" x=\"422\" y=\"-1371.8\" font-family=\"Times,serif\" font-size=\"14.00\">14, 1, 9, 22, 14, 3, 1, 8, 7, 3, 3, 2, 1, 1</text>\n",
       "<text text-anchor=\"middle\" x=\"422\" y=\"-1356.8\" font-family=\"Times,serif\" font-size=\"14.00\">3, 11, 2, 8, 6, 2, 32, 4, 5, 14, 1, 13, 10</text>\n",
       "<text text-anchor=\"middle\" x=\"422\" y=\"-1341.8\" font-family=\"Times,serif\" font-size=\"14.00\">8, 6, 2, 16, 8, 16, 1, 10, 12, 41, 3, 20, 1</text>\n",
       "<text text-anchor=\"middle\" x=\"422\" y=\"-1326.8\" font-family=\"Times,serif\" font-size=\"14.00\">5, 1, 0, 5, 1, 12, 4, 2, 1, 4, 10, 2, 7, 3</text>\n",
       "<text text-anchor=\"middle\" x=\"422\" y=\"-1311.8\" font-family=\"Times,serif\" font-size=\"14.00\">12, 1, 1, 1, 0, 2, 3, 4, 2, 3, 2, 1, 8, 11</text>\n",
       "<text text-anchor=\"middle\" x=\"422\" y=\"-1296.8\" font-family=\"Times,serif\" font-size=\"14.00\">5, 2, 1, 1, 3, 6, 2, 4, 2, 1, 19, 37, 40, 1</text>\n",
       "<text text-anchor=\"middle\" x=\"422\" y=\"-1281.8\" font-family=\"Times,serif\" font-size=\"14.00\">1, 3, 1, 2, 6, 1, 7, 2, 14, 2, 1, 18, 10, 9</text>\n",
       "<text text-anchor=\"middle\" x=\"422\" y=\"-1266.8\" font-family=\"Times,serif\" font-size=\"14.00\">9, 4, 26, 8, 7, 10, 6, 3, 28, 3, 4, 1, 2, 15</text>\n",
       "<text text-anchor=\"middle\" x=\"422\" y=\"-1251.8\" font-family=\"Times,serif\" font-size=\"14.00\">4, 1, 7, 1, 5, 2, 4, 2, 5, 7, 8, 1, 5, 3</text>\n",
       "<text text-anchor=\"middle\" x=\"422\" y=\"-1236.8\" font-family=\"Times,serif\" font-size=\"14.00\">9, 1, 8, 3, 6, 11, 17, 4, 2, 7, 7, 4, 5, 4</text>\n",
       "<text text-anchor=\"middle\" x=\"422\" y=\"-1221.8\" font-family=\"Times,serif\" font-size=\"14.00\">3, 7, 18, 2, 7, 3, 10, 2, 4, 11, 2, 36, 4, 6</text>\n",
       "<text text-anchor=\"middle\" x=\"422\" y=\"-1206.8\" font-family=\"Times,serif\" font-size=\"14.00\">1, 1, 6, 5, 12, 13, 12, 12, 3, 17, 7, 55, 2</text>\n",
       "<text text-anchor=\"middle\" x=\"422\" y=\"-1191.8\" font-family=\"Times,serif\" font-size=\"14.00\">19, 9, 6, 15, 19, 8, 1, 32, 3, 8, 18, 8, 6</text>\n",
       "<text text-anchor=\"middle\" x=\"422\" y=\"-1176.8\" font-family=\"Times,serif\" font-size=\"14.00\">20, 27, 36, 18, 30, 15, 24, 10, 27, 22, 1, 35</text>\n",
       "<text text-anchor=\"middle\" x=\"422\" y=\"-1161.8\" font-family=\"Times,serif\" font-size=\"14.00\">5, 7, 6, 14, 1, 13, 1, 1, 1, 1, 1, 4, 3, 6</text>\n",
       "<text text-anchor=\"middle\" x=\"422\" y=\"-1146.8\" font-family=\"Times,serif\" font-size=\"14.00\">4, 9, 4, 7, 20, 21, 1, 1, 1, 1, 4, 5, 4, 4</text>\n",
       "<text text-anchor=\"middle\" x=\"422\" y=\"-1131.8\" font-family=\"Times,serif\" font-size=\"14.00\">24, 8, 2, 7, 1, 2, 12, 8, 7, 3, 14, 8, 2, 5</text>\n",
       "<text text-anchor=\"middle\" x=\"422\" y=\"-1116.8\" font-family=\"Times,serif\" font-size=\"14.00\">1, 3, 17, 25, 2, 2, 3, 17, 8, 9, 9, 3, 13, 5</text>\n",
       "<text text-anchor=\"middle\" x=\"422\" y=\"-1101.8\" font-family=\"Times,serif\" font-size=\"14.00\">1, 2, 1, 8, 4, 9, 3, 7, 7, 16, 18, 16, 4, 1</text>\n",
       "<text text-anchor=\"middle\" x=\"422\" y=\"-1086.8\" font-family=\"Times,serif\" font-size=\"14.00\">3, 12, 7, 4, 16, 15, 6, 15, 11, 21, 9, 8, 3</text>\n",
       "<text text-anchor=\"middle\" x=\"422\" y=\"-1071.8\" font-family=\"Times,serif\" font-size=\"14.00\">10, 11, 16, 6, 6, 3, 9, 4, 1, 11, 1, 3, 1, 5</text>\n",
       "<text text-anchor=\"middle\" x=\"422\" y=\"-1056.8\" font-family=\"Times,serif\" font-size=\"14.00\">4, 1, 2, 1, 1, 12, 8, 1, 15, 4, 2, 3, 2, 1</text>\n",
       "<text text-anchor=\"middle\" x=\"422\" y=\"-1041.8\" font-family=\"Times,serif\" font-size=\"14.00\">8, 8, 3, 2, 4, 3, 6, 3, 1, 4, 1, 4, 6, 16</text>\n",
       "<text text-anchor=\"middle\" x=\"422\" y=\"-1026.8\" font-family=\"Times,serif\" font-size=\"14.00\">28, 13, 4, 10, 3, 3, 6, 1, 1, 1, 3, 1, 3, 1</text>\n",
       "<text text-anchor=\"middle\" x=\"422\" y=\"-1011.8\" font-family=\"Times,serif\" font-size=\"14.00\">2, 1, 3, 5, 2, 3, 5, 3, 1, 7, 1, 1, 1, 2</text>\n",
       "<text text-anchor=\"middle\" x=\"422\" y=\"-996.8\" font-family=\"Times,serif\" font-size=\"14.00\">2, 1, 2, 4, 3, 3, 4, 2, 4, 1, 1, 2, 1, 1</text>\n",
       "<text text-anchor=\"middle\" x=\"422\" y=\"-981.8\" font-family=\"Times,serif\" font-size=\"14.00\">2, 1, 4, 1, 2, 2, 4, 1, 4, 9, 2, 2, 12, 2</text>\n",
       "<text text-anchor=\"middle\" x=\"422\" y=\"-966.8\" font-family=\"Times,serif\" font-size=\"14.00\">2, 2, 2, 1, 0, 1, 2, 7, 1, 3, 2, 3, 4, 7</text>\n",
       "<text text-anchor=\"middle\" x=\"422\" y=\"-951.8\" font-family=\"Times,serif\" font-size=\"14.00\">1, 1, 1, 1, 1, 6, 6, 1, 1, 3, 3, 8, 8, 4</text>\n",
       "<text text-anchor=\"middle\" x=\"422\" y=\"-936.8\" font-family=\"Times,serif\" font-size=\"14.00\">3, 1, 3, 4, 5, 2, 6, 12, 13, 7, 6, 21, 7, 4</text>\n",
       "<text text-anchor=\"middle\" x=\"422\" y=\"-921.8\" font-family=\"Times,serif\" font-size=\"14.00\">1, 4, 1, 5, 4, 8, 27, 9, 2, 24, 18, 29, 6</text>\n",
       "<text text-anchor=\"middle\" x=\"422\" y=\"-906.8\" font-family=\"Times,serif\" font-size=\"14.00\">10, 1, 11, 13, 4, 1, 1, 3, 3, 1, 1, 14, 26</text>\n",
       "<text text-anchor=\"middle\" x=\"422\" y=\"-891.8\" font-family=\"Times,serif\" font-size=\"14.00\">16, 2, 2, 9, 5, 1, 2, 2, 3, 5, 2, 7, 3, 7</text>\n",
       "<text text-anchor=\"middle\" x=\"422\" y=\"-876.8\" font-family=\"Times,serif\" font-size=\"14.00\">13, 3, 3, 2, 1, 1, 3, 3, 1, 3, 5, 3, 1, 1</text>\n",
       "<text text-anchor=\"middle\" x=\"422\" y=\"-861.8\" font-family=\"Times,serif\" font-size=\"14.00\">6, 8, 2, 7, 2, 6, 8, 3, 3, 4, 6, 9, 2, 7</text>\n",
       "<text text-anchor=\"middle\" x=\"422\" y=\"-846.8\" font-family=\"Times,serif\" font-size=\"14.00\">1, 2, 2, 10, 1, 4, 6, 8, 1, 3, 3, 7, 7, 1</text>\n",
       "<text text-anchor=\"middle\" x=\"422\" y=\"-831.8\" font-family=\"Times,serif\" font-size=\"14.00\">1, 10, 1, 2, 20, 5, 9, 5, 6, 1, 3, 2, 15, 1</text>\n",
       "<text text-anchor=\"middle\" x=\"422\" y=\"-816.8\" font-family=\"Times,serif\" font-size=\"14.00\">6, 9, 12, 3, 5, 4, 2, 1, 3, 1, 1, 6, 2, 2</text>\n",
       "<text text-anchor=\"middle\" x=\"422\" y=\"-801.8\" font-family=\"Times,serif\" font-size=\"14.00\">12, 12, 6, 2, 1, 3, 3, 6, 10, 3, 5, 5, 1, 3</text>\n",
       "<text text-anchor=\"middle\" x=\"422\" y=\"-786.8\" font-family=\"Times,serif\" font-size=\"14.00\">4, 4, 7, 3, 3, 16, 7, 4, 5, 2, 3]</text>\n",
       "<text text-anchor=\"middle\" x=\"422\" y=\"-771.8\" font-family=\"Times,serif\" font-size=\"14.00\">class = I25</text>\n",
       "</g>\n",
       "<!-- 0&#45;&gt;1 -->\n",
       "<g id=\"edge1\" class=\"edge\">\n",
       "<title>0&#45;&gt;1</title>\n",
       "<path fill=\"none\" stroke=\"black\" d=\"M497.1,-1542.82C495.53,-1534.3 493.95,-1525.77 492.37,-1517.25\"/>\n",
       "<polygon fill=\"black\" stroke=\"black\" points=\"495.78,-1516.44 490.52,-1507.24 488.9,-1517.71 495.78,-1516.44\"/>\n",
       "<text text-anchor=\"middle\" x=\"476.35\" y=\"-1524.14\" font-family=\"Times,serif\" font-size=\"14.00\">True</text>\n",
       "</g>\n",
       "<!-- 2 -->\n",
       "<g id=\"node5\" class=\"node\">\n",
       "<title>2</title>\n",
       "<polygon fill=\"none\" stroke=\"black\" points=\"844.5,-1507 579.5,-1507 579.5,-764 844.5,-764 844.5,-1507\"/>\n",
       "<text text-anchor=\"middle\" x=\"712\" y=\"-1491.8\" font-family=\"Times,serif\" font-size=\"14.00\">Age Group_&lt; 1 year &lt;= 0.5</text>\n",
       "<text text-anchor=\"middle\" x=\"712\" y=\"-1476.8\" font-family=\"Times,serif\" font-size=\"14.00\">gini = 0.993</text>\n",
       "<text text-anchor=\"middle\" x=\"712\" y=\"-1461.8\" font-family=\"Times,serif\" font-size=\"14.00\">samples = 1323</text>\n",
       "<text text-anchor=\"middle\" x=\"712\" y=\"-1446.8\" font-family=\"Times,serif\" font-size=\"14.00\">value = [1, 0, 3, 1, 0, 0, 0, 0, 13, 0, 2, 0, 0, 0</text>\n",
       "<text text-anchor=\"middle\" x=\"712\" y=\"-1431.8\" font-family=\"Times,serif\" font-size=\"14.00\">0, 3, 3, 3, 0, 18, 4, 11, 6, 3, 0, 0, 0, 0</text>\n",
       "<text text-anchor=\"middle\" x=\"712\" y=\"-1416.8\" font-family=\"Times,serif\" font-size=\"14.00\">2, 0, 0, 0, 4, 0, 0, 0, 4, 0, 0, 2, 0, 0</text>\n",
       "<text text-anchor=\"middle\" x=\"712\" y=\"-1401.8\" font-family=\"Times,serif\" font-size=\"14.00\">3, 2, 2, 1, 4, 0, 8, 7, 7, 2, 3, 2, 15, 4</text>\n",
       "<text text-anchor=\"middle\" x=\"712\" y=\"-1386.8\" font-family=\"Times,serif\" font-size=\"14.00\">3, 8, 5, 0, 1, 0, 6, 0, 0, 0, 3, 2, 5, 1</text>\n",
       "<text text-anchor=\"middle\" x=\"712\" y=\"-1371.8\" font-family=\"Times,serif\" font-size=\"14.00\">0, 1, 6, 5, 2, 2, 2, 4, 2, 1, 1, 1, 2, 0</text>\n",
       "<text text-anchor=\"middle\" x=\"712\" y=\"-1356.8\" font-family=\"Times,serif\" font-size=\"14.00\">4, 0, 5, 0, 0, 6, 5, 1, 3, 0, 3, 8, 4, 5</text>\n",
       "<text text-anchor=\"middle\" x=\"712\" y=\"-1341.8\" font-family=\"Times,serif\" font-size=\"14.00\">0, 2, 2, 10, 0, 7, 6, 13, 0, 2, 0, 6, 0, 1</text>\n",
       "<text text-anchor=\"middle\" x=\"712\" y=\"-1326.8\" font-family=\"Times,serif\" font-size=\"14.00\">2, 0, 0, 1, 0, 0, 0, 4, 0, 5, 2, 0, 0, 0</text>\n",
       "<text text-anchor=\"middle\" x=\"712\" y=\"-1311.8\" font-family=\"Times,serif\" font-size=\"14.00\">0, 8, 0, 0, 3, 0, 5, 4, 0, 3, 0, 0, 0, 0</text>\n",
       "<text text-anchor=\"middle\" x=\"712\" y=\"-1296.8\" font-family=\"Times,serif\" font-size=\"14.00\">0, 0, 6, 0, 1, 0, 0, 10, 19, 32, 0, 0, 0, 0</text>\n",
       "<text text-anchor=\"middle\" x=\"712\" y=\"-1281.8\" font-family=\"Times,serif\" font-size=\"14.00\">0, 3, 0, 6, 0, 10, 0, 0, 9, 1, 0, 2, 3, 13</text>\n",
       "<text text-anchor=\"middle\" x=\"712\" y=\"-1266.8\" font-family=\"Times,serif\" font-size=\"14.00\">3, 7, 3, 1, 0, 6, 0, 1, 0, 1, 3, 0, 0, 0</text>\n",
       "<text text-anchor=\"middle\" x=\"712\" y=\"-1251.8\" font-family=\"Times,serif\" font-size=\"14.00\">0, 1, 0, 1, 1, 0, 0, 0, 0, 1, 0, 1, 0, 5</text>\n",
       "<text text-anchor=\"middle\" x=\"712\" y=\"-1236.8\" font-family=\"Times,serif\" font-size=\"14.00\">0, 0, 6, 6, 4, 0, 3, 5, 0, 2, 0, 0, 0, 2</text>\n",
       "<text text-anchor=\"middle\" x=\"712\" y=\"-1221.8\" font-family=\"Times,serif\" font-size=\"14.00\">0, 7, 0, 4, 0, 0, 0, 0, 8, 0, 3, 0, 0, 0</text>\n",
       "<text text-anchor=\"middle\" x=\"712\" y=\"-1206.8\" font-family=\"Times,serif\" font-size=\"14.00\">0, 6, 12, 7, 12, 0, 5, 2, 27, 9, 8, 0, 5, 3</text>\n",
       "<text text-anchor=\"middle\" x=\"712\" y=\"-1191.8\" font-family=\"Times,serif\" font-size=\"14.00\">4, 5, 0, 19, 0, 3, 12, 2, 3, 10, 13, 14, 6</text>\n",
       "<text text-anchor=\"middle\" x=\"712\" y=\"-1176.8\" font-family=\"Times,serif\" font-size=\"14.00\">15, 8, 13, 8, 14, 14, 8, 18, 0, 3, 0, 0, 0</text>\n",
       "<text text-anchor=\"middle\" x=\"712\" y=\"-1161.8\" font-family=\"Times,serif\" font-size=\"14.00\">7, 0, 0, 0, 0, 0, 0, 0, 0, 0, 0, 0, 0, 1</text>\n",
       "<text text-anchor=\"middle\" x=\"712\" y=\"-1146.8\" font-family=\"Times,serif\" font-size=\"14.00\">11, 0, 0, 0, 0, 0, 0, 1, 6, 18, 13, 4, 0, 1</text>\n",
       "<text text-anchor=\"middle\" x=\"712\" y=\"-1131.8\" font-family=\"Times,serif\" font-size=\"14.00\">0, 5, 3, 0, 0, 14, 0, 0, 2, 0, 0, 8, 7, 0</text>\n",
       "<text text-anchor=\"middle\" x=\"712\" y=\"-1116.8\" font-family=\"Times,serif\" font-size=\"14.00\">0, 0, 0, 2, 2, 0, 0, 0, 0, 0, 0, 0, 0, 0</text>\n",
       "<text text-anchor=\"middle\" x=\"712\" y=\"-1101.8\" font-family=\"Times,serif\" font-size=\"14.00\">0, 0, 0, 0, 6, 4, 4, 0, 0, 0, 4, 5, 0, 4</text>\n",
       "<text text-anchor=\"middle\" x=\"712\" y=\"-1086.8\" font-family=\"Times,serif\" font-size=\"14.00\">4, 0, 6, 0, 9, 0, 0, 0, 0, 8, 0, 0, 3, 0</text>\n",
       "<text text-anchor=\"middle\" x=\"712\" y=\"-1071.8\" font-family=\"Times,serif\" font-size=\"14.00\">1, 1, 0, 7, 3, 0, 0, 0, 3, 1, 0, 0, 0, 1</text>\n",
       "<text text-anchor=\"middle\" x=\"712\" y=\"-1056.8\" font-family=\"Times,serif\" font-size=\"14.00\">6, 0, 4, 3, 0, 0, 0, 0, 2, 1, 0, 0, 3, 0</text>\n",
       "<text text-anchor=\"middle\" x=\"712\" y=\"-1041.8\" font-family=\"Times,serif\" font-size=\"14.00\">5, 0, 0, 0, 0, 1, 0, 5, 10, 5, 0, 4, 0, 0</text>\n",
       "<text text-anchor=\"middle\" x=\"712\" y=\"-1026.8\" font-family=\"Times,serif\" font-size=\"14.00\">5, 1, 0, 0, 0, 0, 0, 0, 1, 0, 1, 1, 1, 2</text>\n",
       "<text text-anchor=\"middle\" x=\"712\" y=\"-1011.8\" font-family=\"Times,serif\" font-size=\"14.00\">2, 1, 0, 2, 0, 1, 1, 0, 0, 1, 1, 1, 2, 0</text>\n",
       "<text text-anchor=\"middle\" x=\"712\" y=\"-996.8\" font-family=\"Times,serif\" font-size=\"14.00\">2, 0, 0, 0, 0, 0, 1, 1, 0, 0, 0, 0, 0, 0</text>\n",
       "<text text-anchor=\"middle\" x=\"712\" y=\"-981.8\" font-family=\"Times,serif\" font-size=\"14.00\">3, 0, 0, 0, 0, 1, 1, 0, 0, 0, 0, 0, 2, 0</text>\n",
       "<text text-anchor=\"middle\" x=\"712\" y=\"-966.8\" font-family=\"Times,serif\" font-size=\"14.00\">0, 1, 0, 0, 2, 0, 1, 3, 3, 0, 0, 1, 0, 0</text>\n",
       "<text text-anchor=\"middle\" x=\"712\" y=\"-951.8\" font-family=\"Times,serif\" font-size=\"14.00\">1, 0, 0, 3, 2, 6, 1, 0, 2, 0, 0, 1, 0, 1</text>\n",
       "<text text-anchor=\"middle\" x=\"712\" y=\"-936.8\" font-family=\"Times,serif\" font-size=\"14.00\">0, 8, 8, 1, 0, 5, 1, 0, 0, 2, 0, 2, 0, 1</text>\n",
       "<text text-anchor=\"middle\" x=\"712\" y=\"-921.8\" font-family=\"Times,serif\" font-size=\"14.00\">12, 3, 0, 6, 4, 3, 1, 0, 0, 1, 1, 0, 0, 0</text>\n",
       "<text text-anchor=\"middle\" x=\"712\" y=\"-906.8\" font-family=\"Times,serif\" font-size=\"14.00\">0, 1, 0, 0, 0, 9, 9, 0, 0, 0, 0, 0, 0, 0</text>\n",
       "<text text-anchor=\"middle\" x=\"712\" y=\"-891.8\" font-family=\"Times,serif\" font-size=\"14.00\">0, 0, 0, 1, 0, 5, 6, 3, 0, 0, 0, 0, 0, 0</text>\n",
       "<text text-anchor=\"middle\" x=\"712\" y=\"-876.8\" font-family=\"Times,serif\" font-size=\"14.00\">0, 0, 2, 0, 0, 0, 1, 4, 0, 4, 0, 0, 2, 1</text>\n",
       "<text text-anchor=\"middle\" x=\"712\" y=\"-861.8\" font-family=\"Times,serif\" font-size=\"14.00\">0, 0, 0, 3, 0, 0, 0, 0, 0, 8, 0, 0, 1, 2</text>\n",
       "<text text-anchor=\"middle\" x=\"712\" y=\"-846.8\" font-family=\"Times,serif\" font-size=\"14.00\">0, 2, 2, 6, 6, 1, 0, 2, 0, 0, 8, 0, 2, 0</text>\n",
       "<text text-anchor=\"middle\" x=\"712\" y=\"-831.8\" font-family=\"Times,serif\" font-size=\"14.00\">2, 0, 1, 0, 6, 0, 2, 1, 8, 0, 0, 0, 0, 0</text>\n",
       "<text text-anchor=\"middle\" x=\"712\" y=\"-816.8\" font-family=\"Times,serif\" font-size=\"14.00\">0, 0, 0, 3, 0, 2, 3, 8, 5, 0, 0, 0, 1, 0</text>\n",
       "<text text-anchor=\"middle\" x=\"712\" y=\"-801.8\" font-family=\"Times,serif\" font-size=\"14.00\">6, 0, 0, 1, 0, 0, 0, 0, 1, 2, 0, 0, 0, 3</text>\n",
       "<text text-anchor=\"middle\" x=\"712\" y=\"-786.8\" font-family=\"Times,serif\" font-size=\"14.00\">2, 1, 0]</text>\n",
       "<text text-anchor=\"middle\" x=\"712\" y=\"-771.8\" font-family=\"Times,serif\" font-size=\"14.00\">class = E14</text>\n",
       "</g>\n",
       "<!-- 0&#45;&gt;2 -->\n",
       "<g id=\"edge4\" class=\"edge\">\n",
       "<title>0&#45;&gt;2</title>\n",
       "<path fill=\"none\" stroke=\"black\" d=\"M636.9,-1542.82C638.47,-1534.3 640.05,-1525.77 641.63,-1517.25\"/>\n",
       "<polygon fill=\"black\" stroke=\"black\" points=\"645.1,-1517.71 643.48,-1507.24 638.22,-1516.44 645.1,-1517.71\"/>\n",
       "<text text-anchor=\"middle\" x=\"657.65\" y=\"-1524.14\" font-family=\"Times,serif\" font-size=\"14.00\">False</text>\n",
       "</g>\n",
       "<!-- 3 -->\n",
       "<g id=\"node3\" class=\"node\">\n",
       "<title>3</title>\n",
       "<polygon fill=\"none\" stroke=\"black\" points=\"278,-728 0,-728 0,0 278,0 278,-728\"/>\n",
       "<text text-anchor=\"middle\" x=\"139\" y=\"-712.8\" font-family=\"Times,serif\" font-size=\"14.00\">gini = 0.997</text>\n",
       "<text text-anchor=\"middle\" x=\"139\" y=\"-697.8\" font-family=\"Times,serif\" font-size=\"14.00\">samples = 3719</text>\n",
       "<text text-anchor=\"middle\" x=\"139\" y=\"-682.8\" font-family=\"Times,serif\" font-size=\"14.00\">value = [6, 1, 10, 8, 2, 1, 3, 8, 28, 1, 10, 3, 3, 3</text>\n",
       "<text text-anchor=\"middle\" x=\"139\" y=\"-667.8\" font-family=\"Times,serif\" font-size=\"14.00\">2, 5, 6, 6, 1, 19, 8, 5, 10, 3, 2, 3, 1, 2</text>\n",
       "<text text-anchor=\"middle\" x=\"139\" y=\"-652.8\" font-family=\"Times,serif\" font-size=\"14.00\">5, 4, 1, 4, 7, 4, 3, 1, 3, 2, 4, 5, 6, 4</text>\n",
       "<text text-anchor=\"middle\" x=\"139\" y=\"-637.8\" font-family=\"Times,serif\" font-size=\"14.00\">6, 2, 4, 4, 3, 7, 16, 6, 18, 6, 3, 6, 11, 5</text>\n",
       "<text text-anchor=\"middle\" x=\"139\" y=\"-622.8\" font-family=\"Times,serif\" font-size=\"14.00\">11, 11, 9, 5, 8, 1, 21, 5, 7, 1, 13, 9, 18</text>\n",
       "<text text-anchor=\"middle\" x=\"139\" y=\"-607.8\" font-family=\"Times,serif\" font-size=\"14.00\">14, 1, 9, 22, 11, 3, 1, 5, 6, 2, 3, 2, 1, 1</text>\n",
       "<text text-anchor=\"middle\" x=\"139\" y=\"-592.8\" font-family=\"Times,serif\" font-size=\"14.00\">3, 9, 2, 5, 6, 2, 28, 4, 5, 14, 1, 11, 9, 6</text>\n",
       "<text text-anchor=\"middle\" x=\"139\" y=\"-577.8\" font-family=\"Times,serif\" font-size=\"14.00\">6, 2, 16, 8, 13, 1, 8, 12, 37, 3, 20, 1, 5</text>\n",
       "<text text-anchor=\"middle\" x=\"139\" y=\"-562.8\" font-family=\"Times,serif\" font-size=\"14.00\">1, 0, 5, 1, 12, 4, 2, 1, 4, 10, 2, 6, 3, 12</text>\n",
       "<text text-anchor=\"middle\" x=\"139\" y=\"-547.8\" font-family=\"Times,serif\" font-size=\"14.00\">1, 1, 1, 0, 2, 3, 4, 2, 3, 2, 1, 8, 11, 5</text>\n",
       "<text text-anchor=\"middle\" x=\"139\" y=\"-532.8\" font-family=\"Times,serif\" font-size=\"14.00\">2, 1, 1, 3, 6, 2, 4, 2, 1, 19, 31, 37, 1, 1</text>\n",
       "<text text-anchor=\"middle\" x=\"139\" y=\"-517.8\" font-family=\"Times,serif\" font-size=\"14.00\">3, 1, 2, 6, 1, 5, 2, 14, 2, 1, 15, 10, 9, 9</text>\n",
       "<text text-anchor=\"middle\" x=\"139\" y=\"-502.8\" font-family=\"Times,serif\" font-size=\"14.00\">4, 26, 8, 6, 8, 6, 3, 28, 3, 4, 1, 2, 15, 4</text>\n",
       "<text text-anchor=\"middle\" x=\"139\" y=\"-487.8\" font-family=\"Times,serif\" font-size=\"14.00\">1, 7, 1, 5, 2, 4, 2, 5, 7, 8, 1, 5, 3, 8</text>\n",
       "<text text-anchor=\"middle\" x=\"139\" y=\"-472.8\" font-family=\"Times,serif\" font-size=\"14.00\">1, 4, 3, 6, 8, 16, 4, 2, 7, 7, 4, 5, 4, 3</text>\n",
       "<text text-anchor=\"middle\" x=\"139\" y=\"-457.8\" font-family=\"Times,serif\" font-size=\"14.00\">7, 18, 2, 7, 3, 10, 2, 4, 11, 2, 32, 4, 6, 1</text>\n",
       "<text text-anchor=\"middle\" x=\"139\" y=\"-442.8\" font-family=\"Times,serif\" font-size=\"14.00\">1, 6, 5, 7, 7, 9, 12, 3, 11, 7, 35, 2, 19, 9</text>\n",
       "<text text-anchor=\"middle\" x=\"139\" y=\"-427.8\" font-family=\"Times,serif\" font-size=\"14.00\">6, 15, 19, 8, 1, 30, 3, 8, 15, 8, 5, 17, 20</text>\n",
       "<text text-anchor=\"middle\" x=\"139\" y=\"-412.8\" font-family=\"Times,serif\" font-size=\"14.00\">31, 14, 29, 9, 22, 6, 25, 17, 1, 33, 5, 7, 6</text>\n",
       "<text text-anchor=\"middle\" x=\"139\" y=\"-397.8\" font-family=\"Times,serif\" font-size=\"14.00\">14, 1, 13, 1, 1, 1, 1, 1, 4, 3, 6, 4, 9, 4</text>\n",
       "<text text-anchor=\"middle\" x=\"139\" y=\"-382.8\" font-family=\"Times,serif\" font-size=\"14.00\">7, 20, 18, 1, 1, 1, 1, 4, 5, 4, 3, 24, 8, 2</text>\n",
       "<text text-anchor=\"middle\" x=\"139\" y=\"-367.8\" font-family=\"Times,serif\" font-size=\"14.00\">7, 1, 2, 7, 8, 7, 3, 13, 8, 2, 5, 1, 3, 17</text>\n",
       "<text text-anchor=\"middle\" x=\"139\" y=\"-352.8\" font-family=\"Times,serif\" font-size=\"14.00\">25, 2, 2, 3, 17, 8, 9, 9, 3, 13, 5, 1, 2, 1</text>\n",
       "<text text-anchor=\"middle\" x=\"139\" y=\"-337.8\" font-family=\"Times,serif\" font-size=\"14.00\">8, 4, 9, 3, 7, 7, 16, 18, 16, 4, 1, 3, 12, 7</text>\n",
       "<text text-anchor=\"middle\" x=\"139\" y=\"-322.8\" font-family=\"Times,serif\" font-size=\"14.00\">4, 16, 15, 6, 10, 11, 20, 9, 8, 3, 10, 11, 16</text>\n",
       "<text text-anchor=\"middle\" x=\"139\" y=\"-307.8\" font-family=\"Times,serif\" font-size=\"14.00\">6, 5, 3, 9, 4, 1, 11, 1, 3, 1, 5, 4, 1, 2</text>\n",
       "<text text-anchor=\"middle\" x=\"139\" y=\"-292.8\" font-family=\"Times,serif\" font-size=\"14.00\">1, 1, 12, 8, 1, 15, 4, 2, 3, 2, 1, 8, 8, 3</text>\n",
       "<text text-anchor=\"middle\" x=\"139\" y=\"-277.8\" font-family=\"Times,serif\" font-size=\"14.00\">2, 4, 3, 6, 3, 1, 4, 1, 4, 6, 13, 23, 8, 4</text>\n",
       "<text text-anchor=\"middle\" x=\"139\" y=\"-262.8\" font-family=\"Times,serif\" font-size=\"14.00\">10, 3, 3, 4, 1, 1, 1, 3, 1, 3, 1, 2, 1, 3</text>\n",
       "<text text-anchor=\"middle\" x=\"139\" y=\"-247.8\" font-family=\"Times,serif\" font-size=\"14.00\">5, 2, 2, 5, 3, 1, 5, 1, 1, 1, 2, 2, 1, 2</text>\n",
       "<text text-anchor=\"middle\" x=\"139\" y=\"-232.8\" font-family=\"Times,serif\" font-size=\"14.00\">4, 3, 3, 3, 2, 4, 1, 1, 2, 1, 1, 1, 1, 4</text>\n",
       "<text text-anchor=\"middle\" x=\"139\" y=\"-217.8\" font-family=\"Times,serif\" font-size=\"14.00\">1, 2, 2, 4, 1, 4, 9, 2, 2, 11, 2, 2, 2, 2</text>\n",
       "<text text-anchor=\"middle\" x=\"139\" y=\"-202.8\" font-family=\"Times,serif\" font-size=\"14.00\">1, 0, 1, 2, 7, 1, 3, 2, 3, 4, 7, 1, 1, 1</text>\n",
       "<text text-anchor=\"middle\" x=\"139\" y=\"-187.8\" font-family=\"Times,serif\" font-size=\"14.00\">1, 1, 6, 6, 1, 1, 3, 3, 8, 8, 4, 3, 1, 3</text>\n",
       "<text text-anchor=\"middle\" x=\"139\" y=\"-172.8\" font-family=\"Times,serif\" font-size=\"14.00\">4, 5, 0, 6, 11, 13, 7, 6, 21, 7, 4, 1, 4, 1</text>\n",
       "<text text-anchor=\"middle\" x=\"139\" y=\"-157.8\" font-family=\"Times,serif\" font-size=\"14.00\">5, 4, 8, 25, 9, 2, 22, 18, 29, 6, 10, 1, 11</text>\n",
       "<text text-anchor=\"middle\" x=\"139\" y=\"-142.8\" font-family=\"Times,serif\" font-size=\"14.00\">13, 4, 1, 1, 3, 3, 1, 1, 14, 25, 15, 2, 2, 9</text>\n",
       "<text text-anchor=\"middle\" x=\"139\" y=\"-127.8\" font-family=\"Times,serif\" font-size=\"14.00\">5, 1, 2, 2, 3, 5, 2, 7, 3, 5, 7, 3, 3, 2</text>\n",
       "<text text-anchor=\"middle\" x=\"139\" y=\"-112.8\" font-family=\"Times,serif\" font-size=\"14.00\">1, 1, 3, 3, 1, 3, 5, 3, 1, 1, 6, 8, 2, 6</text>\n",
       "<text text-anchor=\"middle\" x=\"139\" y=\"-97.8\" font-family=\"Times,serif\" font-size=\"14.00\">2, 6, 8, 3, 3, 4, 6, 9, 2, 7, 1, 2, 2, 10</text>\n",
       "<text text-anchor=\"middle\" x=\"139\" y=\"-82.8\" font-family=\"Times,serif\" font-size=\"14.00\">1, 4, 6, 8, 1, 3, 3, 5, 6, 1, 1, 10, 1, 2</text>\n",
       "<text text-anchor=\"middle\" x=\"139\" y=\"-67.8\" font-family=\"Times,serif\" font-size=\"14.00\">20, 5, 9, 5, 5, 1, 3, 2, 11, 1, 5, 9, 8, 3</text>\n",
       "<text text-anchor=\"middle\" x=\"139\" y=\"-52.8\" font-family=\"Times,serif\" font-size=\"14.00\">5, 4, 2, 1, 3, 1, 1, 6, 2, 2, 12, 7, 6, 2</text>\n",
       "<text text-anchor=\"middle\" x=\"139\" y=\"-37.8\" font-family=\"Times,serif\" font-size=\"14.00\">1, 3, 3, 6, 10, 3, 5, 5, 1, 3, 4, 4, 7, 3</text>\n",
       "<text text-anchor=\"middle\" x=\"139\" y=\"-22.8\" font-family=\"Times,serif\" font-size=\"14.00\">3, 16, 7, 4, 5, 2, 3]</text>\n",
       "<text text-anchor=\"middle\" x=\"139\" y=\"-7.8\" font-family=\"Times,serif\" font-size=\"14.00\">class = C92</text>\n",
       "</g>\n",
       "<!-- 1&#45;&gt;3 -->\n",
       "<g id=\"edge2\" class=\"edge\">\n",
       "<title>1&#45;&gt;3</title>\n",
       "<path fill=\"none\" stroke=\"black\" d=\"M285.68,-763.84C282.46,-755.08 279.24,-746.31 276.01,-737.55\"/>\n",
       "<polygon fill=\"black\" stroke=\"black\" points=\"279.26,-736.23 272.52,-728.05 272.69,-738.65 279.26,-736.23\"/>\n",
       "</g>\n",
       "<!-- 4 -->\n",
       "<g id=\"node4\" class=\"node\">\n",
       "<title>4</title>\n",
       "<polygon fill=\"none\" stroke=\"black\" points=\"554,-728 296,-728 296,0 554,0 554,-728\"/>\n",
       "<text text-anchor=\"middle\" x=\"425\" y=\"-712.8\" font-family=\"Times,serif\" font-size=\"14.00\">gini = 0.98</text>\n",
       "<text text-anchor=\"middle\" x=\"425\" y=\"-697.8\" font-family=\"Times,serif\" font-size=\"14.00\">samples = 258</text>\n",
       "<text text-anchor=\"middle\" x=\"425\" y=\"-682.8\" font-family=\"Times,serif\" font-size=\"14.00\">value = [0, 0, 0, 0, 0, 0, 0, 0, 4, 0, 0, 0, 0, 0</text>\n",
       "<text text-anchor=\"middle\" x=\"425\" y=\"-667.8\" font-family=\"Times,serif\" font-size=\"14.00\">0, 1, 0, 2, 0, 0, 0, 0, 0, 0, 0, 0, 0, 0</text>\n",
       "<text text-anchor=\"middle\" x=\"425\" y=\"-652.8\" font-family=\"Times,serif\" font-size=\"14.00\">0, 0, 0, 0, 0, 0, 0, 0, 0, 0, 0, 0, 0, 0</text>\n",
       "<text text-anchor=\"middle\" x=\"425\" y=\"-637.8\" font-family=\"Times,serif\" font-size=\"14.00\">0, 0, 1, 0, 0, 1, 4, 0, 4, 0, 3, 0, 7, 1</text>\n",
       "<text text-anchor=\"middle\" x=\"425\" y=\"-622.8\" font-family=\"Times,serif\" font-size=\"14.00\">0, 5, 0, 0, 0, 0, 2, 0, 0, 0, 0, 0, 0, 0</text>\n",
       "<text text-anchor=\"middle\" x=\"425\" y=\"-607.8\" font-family=\"Times,serif\" font-size=\"14.00\">0, 0, 0, 3, 0, 0, 3, 1, 1, 0, 0, 0, 0, 0</text>\n",
       "<text text-anchor=\"middle\" x=\"425\" y=\"-592.8\" font-family=\"Times,serif\" font-size=\"14.00\">2, 0, 3, 0, 0, 4, 0, 0, 0, 0, 2, 1, 2, 0</text>\n",
       "<text text-anchor=\"middle\" x=\"425\" y=\"-577.8\" font-family=\"Times,serif\" font-size=\"14.00\">0, 0, 0, 3, 0, 2, 0, 4, 0, 0, 0, 0, 0, 0</text>\n",
       "<text text-anchor=\"middle\" x=\"425\" y=\"-562.8\" font-family=\"Times,serif\" font-size=\"14.00\">0, 0, 0, 0, 0, 0, 0, 0, 0, 1, 0, 0, 0, 0</text>\n",
       "<text text-anchor=\"middle\" x=\"425\" y=\"-547.8\" font-family=\"Times,serif\" font-size=\"14.00\">0, 0, 0, 0, 0, 0, 0, 0, 0, 0, 0, 0, 0, 0</text>\n",
       "<text text-anchor=\"middle\" x=\"425\" y=\"-532.8\" font-family=\"Times,serif\" font-size=\"14.00\">0, 0, 0, 0, 0, 0, 0, 0, 6, 3, 0, 0, 0, 0</text>\n",
       "<text text-anchor=\"middle\" x=\"425\" y=\"-517.8\" font-family=\"Times,serif\" font-size=\"14.00\">0, 0, 0, 2, 0, 0, 0, 0, 3, 0, 0, 0, 0, 0</text>\n",
       "<text text-anchor=\"middle\" x=\"425\" y=\"-502.8\" font-family=\"Times,serif\" font-size=\"14.00\">0, 1, 2, 0, 0, 0, 0, 0, 0, 0, 0, 0, 0, 0</text>\n",
       "<text text-anchor=\"middle\" x=\"425\" y=\"-487.8\" font-family=\"Times,serif\" font-size=\"14.00\">0, 0, 0, 0, 0, 0, 0, 0, 0, 0, 0, 1, 0, 4</text>\n",
       "<text text-anchor=\"middle\" x=\"425\" y=\"-472.8\" font-family=\"Times,serif\" font-size=\"14.00\">0, 0, 3, 1, 0, 0, 0, 0, 0, 0, 0, 0, 0, 0</text>\n",
       "<text text-anchor=\"middle\" x=\"425\" y=\"-457.8\" font-family=\"Times,serif\" font-size=\"14.00\">0, 0, 0, 0, 0, 0, 0, 0, 4, 0, 0, 0, 0, 0</text>\n",
       "<text text-anchor=\"middle\" x=\"425\" y=\"-442.8\" font-family=\"Times,serif\" font-size=\"14.00\">0, 5, 6, 3, 0, 0, 6, 0, 20, 0, 0, 0, 0, 0</text>\n",
       "<text text-anchor=\"middle\" x=\"425\" y=\"-427.8\" font-family=\"Times,serif\" font-size=\"14.00\">0, 0, 0, 2, 0, 0, 3, 0, 1, 3, 7, 5, 4, 1</text>\n",
       "<text text-anchor=\"middle\" x=\"425\" y=\"-412.8\" font-family=\"Times,serif\" font-size=\"14.00\">6, 2, 4, 2, 5, 0, 2, 0, 0, 0, 0, 0, 0, 0</text>\n",
       "<text text-anchor=\"middle\" x=\"425\" y=\"-397.8\" font-family=\"Times,serif\" font-size=\"14.00\">0, 0, 0, 0, 0, 0, 0, 0, 0, 0, 0, 0, 3, 0</text>\n",
       "<text text-anchor=\"middle\" x=\"425\" y=\"-382.8\" font-family=\"Times,serif\" font-size=\"14.00\">0, 0, 0, 0, 0, 0, 1, 0, 0, 0, 0, 0, 0, 5</text>\n",
       "<text text-anchor=\"middle\" x=\"425\" y=\"-367.8\" font-family=\"Times,serif\" font-size=\"14.00\">0, 0, 0, 1, 0, 0, 0, 0, 0, 0, 0, 0, 0, 0</text>\n",
       "<text text-anchor=\"middle\" x=\"425\" y=\"-352.8\" font-family=\"Times,serif\" font-size=\"14.00\">0, 0, 0, 0, 0, 0, 0, 0, 0, 0, 0, 0, 0, 0</text>\n",
       "<text text-anchor=\"middle\" x=\"425\" y=\"-337.8\" font-family=\"Times,serif\" font-size=\"14.00\">0, 0, 0, 0, 0, 0, 0, 0, 0, 0, 0, 0, 0, 0</text>\n",
       "<text text-anchor=\"middle\" x=\"425\" y=\"-322.8\" font-family=\"Times,serif\" font-size=\"14.00\">5, 0, 1, 0, 0, 0, 0, 0, 0, 0, 1, 0, 0, 0</text>\n",
       "<text text-anchor=\"middle\" x=\"425\" y=\"-307.8\" font-family=\"Times,serif\" font-size=\"14.00\">0, 0, 0, 0, 0, 0, 0, 0, 0, 0, 0, 0, 0, 0</text>\n",
       "<text text-anchor=\"middle\" x=\"425\" y=\"-292.8\" font-family=\"Times,serif\" font-size=\"14.00\">0, 0, 0, 0, 0, 0, 0, 0, 0, 0, 0, 0, 0, 0</text>\n",
       "<text text-anchor=\"middle\" x=\"425\" y=\"-277.8\" font-family=\"Times,serif\" font-size=\"14.00\">0, 0, 0, 0, 0, 3, 5, 5, 0, 0, 0, 0, 2, 0</text>\n",
       "<text text-anchor=\"middle\" x=\"425\" y=\"-262.8\" font-family=\"Times,serif\" font-size=\"14.00\">0, 0, 0, 0, 0, 0, 0, 0, 0, 0, 0, 1, 0, 0</text>\n",
       "<text text-anchor=\"middle\" x=\"425\" y=\"-247.8\" font-family=\"Times,serif\" font-size=\"14.00\">0, 2, 0, 0, 0, 0, 0, 0, 0, 0, 0, 0, 1, 0</text>\n",
       "<text text-anchor=\"middle\" x=\"425\" y=\"-232.8\" font-family=\"Times,serif\" font-size=\"14.00\">0, 0, 0, 0, 0, 0, 1, 0, 0, 0, 0, 0, 0, 0</text>\n",
       "<text text-anchor=\"middle\" x=\"425\" y=\"-217.8\" font-family=\"Times,serif\" font-size=\"14.00\">0, 0, 0, 0, 1, 0, 0, 0, 0, 0, 0, 0, 0, 0</text>\n",
       "<text text-anchor=\"middle\" x=\"425\" y=\"-202.8\" font-family=\"Times,serif\" font-size=\"14.00\">0, 0, 0, 0, 0, 0, 0, 0, 0, 0, 0, 0, 0, 0</text>\n",
       "<text text-anchor=\"middle\" x=\"425\" y=\"-187.8\" font-family=\"Times,serif\" font-size=\"14.00\">0, 0, 0, 0, 0, 0, 0, 0, 0, 0, 0, 2, 0, 1</text>\n",
       "<text text-anchor=\"middle\" x=\"425\" y=\"-172.8\" font-family=\"Times,serif\" font-size=\"14.00\">0, 0, 0, 0, 0, 0, 0, 0, 0, 0, 0, 0, 2, 0</text>\n",
       "<text text-anchor=\"middle\" x=\"425\" y=\"-157.8\" font-family=\"Times,serif\" font-size=\"14.00\">0, 2, 0, 0, 0, 0, 0, 0, 0, 0, 0, 0, 0, 0</text>\n",
       "<text text-anchor=\"middle\" x=\"425\" y=\"-142.8\" font-family=\"Times,serif\" font-size=\"14.00\">0, 0, 0, 1, 1, 0, 0, 0, 0, 0, 0, 0, 0, 0</text>\n",
       "<text text-anchor=\"middle\" x=\"425\" y=\"-127.8\" font-family=\"Times,serif\" font-size=\"14.00\">0, 0, 0, 2, 6, 0, 0, 0, 0, 0, 0, 0, 0, 0</text>\n",
       "<text text-anchor=\"middle\" x=\"425\" y=\"-112.8\" font-family=\"Times,serif\" font-size=\"14.00\">0, 0, 0, 0, 0, 0, 0, 1, 0, 0, 0, 0, 0, 0</text>\n",
       "<text text-anchor=\"middle\" x=\"425\" y=\"-97.8\" font-family=\"Times,serif\" font-size=\"14.00\">0, 0, 0, 0, 0, 0, 0, 0, 0, 0, 0, 0, 0, 0</text>\n",
       "<text text-anchor=\"middle\" x=\"425\" y=\"-82.8\" font-family=\"Times,serif\" font-size=\"14.00\">0, 2, 1, 0, 0, 0, 0, 0, 0, 0, 0, 0, 1, 0</text>\n",
       "<text text-anchor=\"middle\" x=\"425\" y=\"-67.8\" font-family=\"Times,serif\" font-size=\"14.00\">0, 0, 4, 0, 1, 0, 4, 0, 0, 0, 0, 0, 0, 0</text>\n",
       "<text text-anchor=\"middle\" x=\"425\" y=\"-52.8\" font-family=\"Times,serif\" font-size=\"14.00\">0, 0, 0, 0, 0, 5, 0, 0, 0, 0, 0, 0, 0, 0</text>\n",
       "<text text-anchor=\"middle\" x=\"425\" y=\"-37.8\" font-family=\"Times,serif\" font-size=\"14.00\">0, 0, 0, 0, 0, 0, 0, 0, 0, 0, 0, 0, 0, 0</text>\n",
       "<text text-anchor=\"middle\" x=\"425\" y=\"-22.8\" font-family=\"Times,serif\" font-size=\"14.00\">0]</text>\n",
       "<text text-anchor=\"middle\" x=\"425\" y=\"-7.8\" font-family=\"Times,serif\" font-size=\"14.00\">class = I25</text>\n",
       "</g>\n",
       "<!-- 1&#45;&gt;4 -->\n",
       "<g id=\"edge3\" class=\"edge\">\n",
       "<title>1&#45;&gt;4</title>\n",
       "<path fill=\"none\" stroke=\"black\" d=\"M423.45,-763.84C423.48,-755.27 423.51,-746.69 423.55,-738.11\"/>\n",
       "<polygon fill=\"black\" stroke=\"black\" points=\"427.05,-738.07 423.58,-728.05 420.05,-738.04 427.05,-738.07\"/>\n",
       "</g>\n",
       "<!-- 5 -->\n",
       "<g id=\"node6\" class=\"node\">\n",
       "<title>5</title>\n",
       "<polygon fill=\"none\" stroke=\"black\" points=\"842.5,-728 577.5,-728 577.5,0 842.5,0 842.5,-728\"/>\n",
       "<text text-anchor=\"middle\" x=\"710\" y=\"-712.8\" font-family=\"Times,serif\" font-size=\"14.00\">gini = 0.993</text>\n",
       "<text text-anchor=\"middle\" x=\"710\" y=\"-697.8\" font-family=\"Times,serif\" font-size=\"14.00\">samples = 1280</text>\n",
       "<text text-anchor=\"middle\" x=\"710\" y=\"-682.8\" font-family=\"Times,serif\" font-size=\"14.00\">value = [1, 0, 3, 1, 0, 0, 0, 0, 12, 0, 2, 0, 0, 0</text>\n",
       "<text text-anchor=\"middle\" x=\"710\" y=\"-667.8\" font-family=\"Times,serif\" font-size=\"14.00\">0, 3, 3, 3, 0, 18, 4, 11, 6, 3, 0, 0, 0, 0</text>\n",
       "<text text-anchor=\"middle\" x=\"710\" y=\"-652.8\" font-family=\"Times,serif\" font-size=\"14.00\">2, 0, 0, 0, 4, 0, 0, 0, 4, 0, 0, 2, 0, 0</text>\n",
       "<text text-anchor=\"middle\" x=\"710\" y=\"-637.8\" font-family=\"Times,serif\" font-size=\"14.00\">3, 2, 2, 1, 4, 0, 8, 7, 7, 2, 3, 2, 15, 4</text>\n",
       "<text text-anchor=\"middle\" x=\"710\" y=\"-622.8\" font-family=\"Times,serif\" font-size=\"14.00\">3, 8, 5, 0, 1, 0, 6, 0, 0, 0, 3, 2, 5, 1</text>\n",
       "<text text-anchor=\"middle\" x=\"710\" y=\"-607.8\" font-family=\"Times,serif\" font-size=\"14.00\">0, 1, 6, 5, 2, 2, 2, 4, 2, 1, 1, 1, 2, 0</text>\n",
       "<text text-anchor=\"middle\" x=\"710\" y=\"-592.8\" font-family=\"Times,serif\" font-size=\"14.00\">4, 0, 5, 0, 0, 6, 5, 1, 3, 0, 3, 8, 4, 5</text>\n",
       "<text text-anchor=\"middle\" x=\"710\" y=\"-577.8\" font-family=\"Times,serif\" font-size=\"14.00\">0, 2, 2, 10, 0, 7, 6, 13, 0, 2, 0, 6, 0, 1</text>\n",
       "<text text-anchor=\"middle\" x=\"710\" y=\"-562.8\" font-family=\"Times,serif\" font-size=\"14.00\">2, 0, 0, 1, 0, 0, 0, 4, 0, 5, 2, 0, 0, 0</text>\n",
       "<text text-anchor=\"middle\" x=\"710\" y=\"-547.8\" font-family=\"Times,serif\" font-size=\"14.00\">0, 8, 0, 0, 3, 0, 5, 4, 0, 3, 0, 0, 0, 0</text>\n",
       "<text text-anchor=\"middle\" x=\"710\" y=\"-532.8\" font-family=\"Times,serif\" font-size=\"14.00\">0, 0, 6, 0, 1, 0, 0, 10, 19, 32, 0, 0, 0, 0</text>\n",
       "<text text-anchor=\"middle\" x=\"710\" y=\"-517.8\" font-family=\"Times,serif\" font-size=\"14.00\">0, 3, 0, 6, 0, 10, 0, 0, 9, 1, 0, 2, 3, 13</text>\n",
       "<text text-anchor=\"middle\" x=\"710\" y=\"-502.8\" font-family=\"Times,serif\" font-size=\"14.00\">3, 7, 3, 1, 0, 6, 0, 1, 0, 1, 3, 0, 0, 0</text>\n",
       "<text text-anchor=\"middle\" x=\"710\" y=\"-487.8\" font-family=\"Times,serif\" font-size=\"14.00\">0, 1, 0, 1, 1, 0, 0, 0, 0, 1, 0, 1, 0, 5</text>\n",
       "<text text-anchor=\"middle\" x=\"710\" y=\"-472.8\" font-family=\"Times,serif\" font-size=\"14.00\">0, 0, 6, 6, 4, 0, 3, 5, 0, 2, 0, 0, 0, 2</text>\n",
       "<text text-anchor=\"middle\" x=\"710\" y=\"-457.8\" font-family=\"Times,serif\" font-size=\"14.00\">0, 7, 0, 4, 0, 0, 0, 0, 8, 0, 3, 0, 0, 0</text>\n",
       "<text text-anchor=\"middle\" x=\"710\" y=\"-442.8\" font-family=\"Times,serif\" font-size=\"14.00\">0, 6, 12, 7, 12, 0, 5, 2, 27, 9, 8, 0, 5, 3</text>\n",
       "<text text-anchor=\"middle\" x=\"710\" y=\"-427.8\" font-family=\"Times,serif\" font-size=\"14.00\">4, 5, 0, 19, 0, 3, 12, 2, 3, 10, 13, 14, 6</text>\n",
       "<text text-anchor=\"middle\" x=\"710\" y=\"-412.8\" font-family=\"Times,serif\" font-size=\"14.00\">15, 8, 13, 8, 14, 14, 8, 18, 0, 3, 0, 0, 0</text>\n",
       "<text text-anchor=\"middle\" x=\"710\" y=\"-397.8\" font-family=\"Times,serif\" font-size=\"14.00\">7, 0, 0, 0, 0, 0, 0, 0, 0, 0, 0, 0, 0, 1</text>\n",
       "<text text-anchor=\"middle\" x=\"710\" y=\"-382.8\" font-family=\"Times,serif\" font-size=\"14.00\">10, 0, 0, 0, 0, 0, 0, 1, 6, 18, 13, 4, 0, 1</text>\n",
       "<text text-anchor=\"middle\" x=\"710\" y=\"-367.8\" font-family=\"Times,serif\" font-size=\"14.00\">0, 5, 3, 0, 0, 14, 0, 0, 2, 0, 0, 8, 6, 0</text>\n",
       "<text text-anchor=\"middle\" x=\"710\" y=\"-352.8\" font-family=\"Times,serif\" font-size=\"14.00\">0, 0, 0, 2, 2, 0, 0, 0, 0, 0, 0, 0, 0, 0</text>\n",
       "<text text-anchor=\"middle\" x=\"710\" y=\"-337.8\" font-family=\"Times,serif\" font-size=\"14.00\">0, 0, 0, 0, 5, 4, 4, 0, 0, 0, 4, 5, 0, 4</text>\n",
       "<text text-anchor=\"middle\" x=\"710\" y=\"-322.8\" font-family=\"Times,serif\" font-size=\"14.00\">4, 0, 6, 0, 9, 0, 0, 0, 0, 8, 0, 0, 3, 0</text>\n",
       "<text text-anchor=\"middle\" x=\"710\" y=\"-307.8\" font-family=\"Times,serif\" font-size=\"14.00\">1, 1, 0, 7, 3, 0, 0, 0, 3, 1, 0, 0, 0, 1</text>\n",
       "<text text-anchor=\"middle\" x=\"710\" y=\"-292.8\" font-family=\"Times,serif\" font-size=\"14.00\">6, 0, 4, 3, 0, 0, 0, 0, 2, 1, 0, 0, 3, 0</text>\n",
       "<text text-anchor=\"middle\" x=\"710\" y=\"-277.8\" font-family=\"Times,serif\" font-size=\"14.00\">5, 0, 0, 0, 0, 1, 0, 5, 10, 4, 0, 4, 0, 0</text>\n",
       "<text text-anchor=\"middle\" x=\"710\" y=\"-262.8\" font-family=\"Times,serif\" font-size=\"14.00\">5, 1, 0, 0, 0, 0, 0, 0, 1, 0, 1, 1, 0, 0</text>\n",
       "<text text-anchor=\"middle\" x=\"710\" y=\"-247.8\" font-family=\"Times,serif\" font-size=\"14.00\">0, 0, 0, 0, 0, 0, 0, 0, 0, 0, 0, 0, 0, 0</text>\n",
       "<text text-anchor=\"middle\" x=\"710\" y=\"-232.8\" font-family=\"Times,serif\" font-size=\"14.00\">0, 0, 0, 0, 0, 0, 0, 0, 0, 0, 0, 0, 0, 0</text>\n",
       "<text text-anchor=\"middle\" x=\"710\" y=\"-217.8\" font-family=\"Times,serif\" font-size=\"14.00\">0, 0, 0, 0, 0, 0, 0, 0, 0, 0, 0, 0, 0, 0</text>\n",
       "<text text-anchor=\"middle\" x=\"710\" y=\"-202.8\" font-family=\"Times,serif\" font-size=\"14.00\">0, 0, 0, 0, 0, 0, 0, 3, 0, 0, 0, 0, 0, 0</text>\n",
       "<text text-anchor=\"middle\" x=\"710\" y=\"-187.8\" font-family=\"Times,serif\" font-size=\"14.00\">1, 0, 0, 3, 2, 6, 1, 0, 2, 0, 0, 1, 0, 0</text>\n",
       "<text text-anchor=\"middle\" x=\"710\" y=\"-172.8\" font-family=\"Times,serif\" font-size=\"14.00\">0, 7, 8, 1, 0, 5, 1, 0, 0, 2, 0, 2, 0, 1</text>\n",
       "<text text-anchor=\"middle\" x=\"710\" y=\"-157.8\" font-family=\"Times,serif\" font-size=\"14.00\">12, 3, 0, 6, 4, 3, 1, 0, 0, 1, 1, 0, 0, 0</text>\n",
       "<text text-anchor=\"middle\" x=\"710\" y=\"-142.8\" font-family=\"Times,serif\" font-size=\"14.00\">0, 1, 0, 0, 0, 9, 9, 0, 0, 0, 0, 0, 0, 0</text>\n",
       "<text text-anchor=\"middle\" x=\"710\" y=\"-127.8\" font-family=\"Times,serif\" font-size=\"14.00\">0, 0, 0, 1, 0, 5, 6, 3, 0, 0, 0, 0, 0, 0</text>\n",
       "<text text-anchor=\"middle\" x=\"710\" y=\"-112.8\" font-family=\"Times,serif\" font-size=\"14.00\">0, 0, 2, 0, 0, 0, 1, 4, 0, 4, 0, 0, 2, 0</text>\n",
       "<text text-anchor=\"middle\" x=\"710\" y=\"-97.8\" font-family=\"Times,serif\" font-size=\"14.00\">0, 0, 0, 3, 0, 0, 0, 0, 0, 8, 0, 0, 1, 2</text>\n",
       "<text text-anchor=\"middle\" x=\"710\" y=\"-82.8\" font-family=\"Times,serif\" font-size=\"14.00\">0, 2, 2, 6, 6, 1, 0, 2, 0, 0, 8, 0, 2, 0</text>\n",
       "<text text-anchor=\"middle\" x=\"710\" y=\"-67.8\" font-family=\"Times,serif\" font-size=\"14.00\">2, 0, 1, 0, 6, 0, 2, 1, 8, 0, 0, 0, 0, 0</text>\n",
       "<text text-anchor=\"middle\" x=\"710\" y=\"-52.8\" font-family=\"Times,serif\" font-size=\"14.00\">0, 0, 0, 3, 0, 2, 3, 8, 5, 0, 0, 0, 0, 0</text>\n",
       "<text text-anchor=\"middle\" x=\"710\" y=\"-37.8\" font-family=\"Times,serif\" font-size=\"14.00\">6, 0, 0, 1, 0, 0, 0, 0, 1, 2, 0, 0, 0, 3</text>\n",
       "<text text-anchor=\"middle\" x=\"710\" y=\"-22.8\" font-family=\"Times,serif\" font-size=\"14.00\">2, 1, 0]</text>\n",
       "<text text-anchor=\"middle\" x=\"710\" y=\"-7.8\" font-family=\"Times,serif\" font-size=\"14.00\">class = E14</text>\n",
       "</g>\n",
       "<!-- 2&#45;&gt;5 -->\n",
       "<g id=\"edge5\" class=\"edge\">\n",
       "<title>2&#45;&gt;5</title>\n",
       "<path fill=\"none\" stroke=\"black\" d=\"M711.04,-763.84C711.01,-755.27 710.99,-746.69 710.97,-738.11\"/>\n",
       "<polygon fill=\"black\" stroke=\"black\" points=\"714.47,-738.04 710.94,-728.05 707.47,-738.06 714.47,-738.04\"/>\n",
       "</g>\n",
       "<!-- 6 -->\n",
       "<g id=\"node7\" class=\"node\">\n",
       "<title>6</title>\n",
       "<polygon fill=\"none\" stroke=\"black\" points=\"1119,-728 861,-728 861,0 1119,0 1119,-728\"/>\n",
       "<text text-anchor=\"middle\" x=\"990\" y=\"-712.8\" font-family=\"Times,serif\" font-size=\"14.00\">gini = 0.963</text>\n",
       "<text text-anchor=\"middle\" x=\"990\" y=\"-697.8\" font-family=\"Times,serif\" font-size=\"14.00\">samples = 43</text>\n",
       "<text text-anchor=\"middle\" x=\"990\" y=\"-682.8\" font-family=\"Times,serif\" font-size=\"14.00\">value = [0, 0, 0, 0, 0, 0, 0, 0, 1, 0, 0, 0, 0, 0</text>\n",
       "<text text-anchor=\"middle\" x=\"990\" y=\"-667.8\" font-family=\"Times,serif\" font-size=\"14.00\">0, 0, 0, 0, 0, 0, 0, 0, 0, 0, 0, 0, 0, 0</text>\n",
       "<text text-anchor=\"middle\" x=\"990\" y=\"-652.8\" font-family=\"Times,serif\" font-size=\"14.00\">0, 0, 0, 0, 0, 0, 0, 0, 0, 0, 0, 0, 0, 0</text>\n",
       "<text text-anchor=\"middle\" x=\"990\" y=\"-637.8\" font-family=\"Times,serif\" font-size=\"14.00\">0, 0, 0, 0, 0, 0, 0, 0, 0, 0, 0, 0, 0, 0</text>\n",
       "<text text-anchor=\"middle\" x=\"990\" y=\"-622.8\" font-family=\"Times,serif\" font-size=\"14.00\">0, 0, 0, 0, 0, 0, 0, 0, 0, 0, 0, 0, 0, 0</text>\n",
       "<text text-anchor=\"middle\" x=\"990\" y=\"-607.8\" font-family=\"Times,serif\" font-size=\"14.00\">0, 0, 0, 0, 0, 0, 0, 0, 0, 0, 0, 0, 0, 0</text>\n",
       "<text text-anchor=\"middle\" x=\"990\" y=\"-592.8\" font-family=\"Times,serif\" font-size=\"14.00\">0, 0, 0, 0, 0, 0, 0, 0, 0, 0, 0, 0, 0, 0</text>\n",
       "<text text-anchor=\"middle\" x=\"990\" y=\"-577.8\" font-family=\"Times,serif\" font-size=\"14.00\">0, 0, 0, 0, 0, 0, 0, 0, 0, 0, 0, 0, 0, 0</text>\n",
       "<text text-anchor=\"middle\" x=\"990\" y=\"-562.8\" font-family=\"Times,serif\" font-size=\"14.00\">0, 0, 0, 0, 0, 0, 0, 0, 0, 0, 0, 0, 0, 0</text>\n",
       "<text text-anchor=\"middle\" x=\"990\" y=\"-547.8\" font-family=\"Times,serif\" font-size=\"14.00\">0, 0, 0, 0, 0, 0, 0, 0, 0, 0, 0, 0, 0, 0</text>\n",
       "<text text-anchor=\"middle\" x=\"990\" y=\"-532.8\" font-family=\"Times,serif\" font-size=\"14.00\">0, 0, 0, 0, 0, 0, 0, 0, 0, 0, 0, 0, 0, 0</text>\n",
       "<text text-anchor=\"middle\" x=\"990\" y=\"-517.8\" font-family=\"Times,serif\" font-size=\"14.00\">0, 0, 0, 0, 0, 0, 0, 0, 0, 0, 0, 0, 0, 0</text>\n",
       "<text text-anchor=\"middle\" x=\"990\" y=\"-502.8\" font-family=\"Times,serif\" font-size=\"14.00\">0, 0, 0, 0, 0, 0, 0, 0, 0, 0, 0, 0, 0, 0</text>\n",
       "<text text-anchor=\"middle\" x=\"990\" y=\"-487.8\" font-family=\"Times,serif\" font-size=\"14.00\">0, 0, 0, 0, 0, 0, 0, 0, 0, 0, 0, 0, 0, 0</text>\n",
       "<text text-anchor=\"middle\" x=\"990\" y=\"-472.8\" font-family=\"Times,serif\" font-size=\"14.00\">0, 0, 0, 0, 0, 0, 0, 0, 0, 0, 0, 0, 0, 0</text>\n",
       "<text text-anchor=\"middle\" x=\"990\" y=\"-457.8\" font-family=\"Times,serif\" font-size=\"14.00\">0, 0, 0, 0, 0, 0, 0, 0, 0, 0, 0, 0, 0, 0</text>\n",
       "<text text-anchor=\"middle\" x=\"990\" y=\"-442.8\" font-family=\"Times,serif\" font-size=\"14.00\">0, 0, 0, 0, 0, 0, 0, 0, 0, 0, 0, 0, 0, 0</text>\n",
       "<text text-anchor=\"middle\" x=\"990\" y=\"-427.8\" font-family=\"Times,serif\" font-size=\"14.00\">0, 0, 0, 0, 0, 0, 0, 0, 0, 0, 0, 0, 0, 0</text>\n",
       "<text text-anchor=\"middle\" x=\"990\" y=\"-412.8\" font-family=\"Times,serif\" font-size=\"14.00\">0, 0, 0, 0, 0, 0, 0, 0, 0, 0, 0, 0, 0, 0</text>\n",
       "<text text-anchor=\"middle\" x=\"990\" y=\"-397.8\" font-family=\"Times,serif\" font-size=\"14.00\">0, 0, 0, 0, 0, 0, 0, 0, 0, 0, 0, 0, 1, 0</text>\n",
       "<text text-anchor=\"middle\" x=\"990\" y=\"-382.8\" font-family=\"Times,serif\" font-size=\"14.00\">0, 0, 0, 0, 0, 0, 0, 0, 0, 0, 0, 0, 0, 0</text>\n",
       "<text text-anchor=\"middle\" x=\"990\" y=\"-367.8\" font-family=\"Times,serif\" font-size=\"14.00\">0, 0, 0, 0, 0, 0, 0, 0, 0, 0, 1, 0, 0, 0</text>\n",
       "<text text-anchor=\"middle\" x=\"990\" y=\"-352.8\" font-family=\"Times,serif\" font-size=\"14.00\">0, 0, 0, 0, 0, 0, 0, 0, 0, 0, 0, 0, 0, 0</text>\n",
       "<text text-anchor=\"middle\" x=\"990\" y=\"-337.8\" font-family=\"Times,serif\" font-size=\"14.00\">0, 0, 1, 0, 0, 0, 0, 0, 0, 0, 0, 0, 0, 0</text>\n",
       "<text text-anchor=\"middle\" x=\"990\" y=\"-322.8\" font-family=\"Times,serif\" font-size=\"14.00\">0, 0, 0, 0, 0, 0, 0, 0, 0, 0, 0, 0, 0, 0</text>\n",
       "<text text-anchor=\"middle\" x=\"990\" y=\"-307.8\" font-family=\"Times,serif\" font-size=\"14.00\">0, 0, 0, 0, 0, 0, 0, 0, 0, 0, 0, 0, 0, 0</text>\n",
       "<text text-anchor=\"middle\" x=\"990\" y=\"-292.8\" font-family=\"Times,serif\" font-size=\"14.00\">0, 0, 0, 0, 0, 0, 0, 0, 0, 0, 0, 0, 0, 0</text>\n",
       "<text text-anchor=\"middle\" x=\"990\" y=\"-277.8\" font-family=\"Times,serif\" font-size=\"14.00\">0, 0, 0, 0, 0, 0, 0, 1, 0, 0, 0, 0, 0, 0</text>\n",
       "<text text-anchor=\"middle\" x=\"990\" y=\"-262.8\" font-family=\"Times,serif\" font-size=\"14.00\">0, 0, 0, 0, 0, 0, 0, 0, 0, 0, 1, 2, 2, 1</text>\n",
       "<text text-anchor=\"middle\" x=\"990\" y=\"-247.8\" font-family=\"Times,serif\" font-size=\"14.00\">0, 2, 0, 1, 1, 0, 0, 1, 1, 1, 2, 0, 2, 0</text>\n",
       "<text text-anchor=\"middle\" x=\"990\" y=\"-232.8\" font-family=\"Times,serif\" font-size=\"14.00\">0, 0, 0, 0, 1, 1, 0, 0, 0, 0, 0, 0, 3, 0</text>\n",
       "<text text-anchor=\"middle\" x=\"990\" y=\"-217.8\" font-family=\"Times,serif\" font-size=\"14.00\">0, 0, 0, 1, 1, 0, 0, 0, 0, 0, 2, 0, 0, 1</text>\n",
       "<text text-anchor=\"middle\" x=\"990\" y=\"-202.8\" font-family=\"Times,serif\" font-size=\"14.00\">0, 0, 2, 0, 1, 0, 3, 0, 0, 1, 0, 0, 0, 0</text>\n",
       "<text text-anchor=\"middle\" x=\"990\" y=\"-187.8\" font-family=\"Times,serif\" font-size=\"14.00\">0, 0, 0, 0, 0, 0, 0, 0, 0, 0, 0, 1, 0, 1</text>\n",
       "<text text-anchor=\"middle\" x=\"990\" y=\"-172.8\" font-family=\"Times,serif\" font-size=\"14.00\">0, 0, 0, 0, 0, 0, 0, 0, 0, 0, 0, 0, 0, 0</text>\n",
       "<text text-anchor=\"middle\" x=\"990\" y=\"-157.8\" font-family=\"Times,serif\" font-size=\"14.00\">0, 0, 0, 0, 0, 0, 0, 0, 0, 0, 0, 0, 0, 0</text>\n",
       "<text text-anchor=\"middle\" x=\"990\" y=\"-142.8\" font-family=\"Times,serif\" font-size=\"14.00\">0, 0, 0, 0, 0, 0, 0, 0, 0, 0, 0, 0, 0, 0</text>\n",
       "<text text-anchor=\"middle\" x=\"990\" y=\"-127.8\" font-family=\"Times,serif\" font-size=\"14.00\">0, 0, 0, 0, 0, 0, 0, 0, 0, 0, 0, 0, 0, 0</text>\n",
       "<text text-anchor=\"middle\" x=\"990\" y=\"-112.8\" font-family=\"Times,serif\" font-size=\"14.00\">0, 0, 0, 0, 0, 0, 0, 0, 0, 0, 0, 1, 0, 0</text>\n",
       "<text text-anchor=\"middle\" x=\"990\" y=\"-97.8\" font-family=\"Times,serif\" font-size=\"14.00\">0, 0, 0, 0, 0, 0, 0, 0, 0, 0, 0, 0, 0, 0</text>\n",
       "<text text-anchor=\"middle\" x=\"990\" y=\"-82.8\" font-family=\"Times,serif\" font-size=\"14.00\">0, 0, 0, 0, 0, 0, 0, 0, 0, 0, 0, 0, 0, 0</text>\n",
       "<text text-anchor=\"middle\" x=\"990\" y=\"-67.8\" font-family=\"Times,serif\" font-size=\"14.00\">0, 0, 0, 0, 0, 0, 0, 0, 0, 0, 0, 0, 0, 0</text>\n",
       "<text text-anchor=\"middle\" x=\"990\" y=\"-52.8\" font-family=\"Times,serif\" font-size=\"14.00\">0, 0, 0, 0, 0, 0, 0, 0, 0, 0, 1, 0, 0, 0</text>\n",
       "<text text-anchor=\"middle\" x=\"990\" y=\"-37.8\" font-family=\"Times,serif\" font-size=\"14.00\">0, 0, 0, 0, 0, 0, 0, 0, 0, 0, 0, 0, 0, 0</text>\n",
       "<text text-anchor=\"middle\" x=\"990\" y=\"-22.8\" font-family=\"Times,serif\" font-size=\"14.00\">0]</text>\n",
       "<text text-anchor=\"middle\" x=\"990\" y=\"-7.8\" font-family=\"Times,serif\" font-size=\"14.00\">class = Q04</text>\n",
       "</g>\n",
       "<!-- 2&#45;&gt;6 -->\n",
       "<g id=\"edge6\" class=\"edge\">\n",
       "<title>2&#45;&gt;6</title>\n",
       "<path fill=\"none\" stroke=\"black\" d=\"M844.59,-767.5C848.89,-755.59 853.2,-743.66 857.5,-731.75\"/>\n",
       "<polygon fill=\"black\" stroke=\"black\" points=\"860.84,-732.81 860.95,-722.21 854.26,-730.43 860.84,-732.81\"/>\n",
       "</g>\n",
       "</g>\n",
       "</svg>\n"
      ],
      "text/plain": [
       "<graphviz.files.Source at 0x7effad0a63d0>"
      ]
     },
     "metadata": {},
     "output_type": "display_data"
    }
   ],
   "source": [
    "dot_data = export_graphviz(model, \n",
    " out_file = None, \n",
    " class_names = model.classes_,\n",
    " feature_names = encoded_columns)\n",
    "\n",
    "display(graphviz.Source(dot_data))\n"
   ]
  },
  {
   "cell_type": "markdown",
   "metadata": {},
   "source": [
    "## Shapely Force Plot"
   ]
  },
  {
   "cell_type": "code",
   "execution_count": 233,
   "metadata": {},
   "outputs": [
    {
     "data": {
      "text/plain": [
       "Race_Asian or Pacific Islander    0.482111\n",
       "Race_Black or African American    0.275700\n",
       "Age Group_< 1 year                0.242189\n",
       "dtype: float64"
      ]
     },
     "execution_count": 233,
     "metadata": {},
     "output_type": "execute_result"
    }
   ],
   "source": [
    "importances = pd.Series(pipeline.named_steps.decisiontreeclassifier.feature_importances_, encoded_columns)\n",
    "\n",
    "importances = importances.sort_values(ascending = False)[:3]\n",
    "\n",
    "importances"
   ]
  },
  {
   "cell_type": "code",
   "execution_count": 234,
   "metadata": {},
   "outputs": [
    {
     "data": {
      "image/png": "[encoded data removed]",
      "text/plain": [
       "<Figure size 720x2160 with 1 Axes>"
      ]
     },
     "metadata": {
      "needs_background": "light"
     },
     "output_type": "display_data"
    }
   ],
   "source": [
    "\n",
    "plt.figure(figsize = (10, 30))\n",
    "plt.title('Top Three Feature Importances')\n",
    "\n",
    "importances.sort_values().plot.barh();\n",
    "\n",
    "# pipeline.named_steps.decisiontreeclassifier.feature_importances_\n"
   ]
  },
  {
   "cell_type": "markdown",
   "metadata": {},
   "source": [
    "# Causes of Death (Asian Population)"
   ]
  },
  {
   "cell_type": "code",
   "execution_count": 237,
   "metadata": {},
   "outputs": [],
   "source": [
    "# Imports\n",
    "import plotly.express as px"
   ]
  },
  {
   "cell_type": "code",
   "execution_count": null,
   "metadata": {},
   "outputs": [],
   "source": [
    "# Calculating Crude Rate\n",
    "df['Crude Rate'] = (df['Deaths'] / df['Population']) * 100000\n",
    "df['Cause of Death Class'] = [x.strip()[:3] for x in df['Cause of death Code']]\n",
    "asian = df[df['Race'].str.contains('Asian')]\n",
    "px.line(df, x = 'Race', y = 'Crude Rate', color = 'Cause of Death Class')"
   ]
  }
 ],
 "metadata": {
  "colab": {
   "collapsed_sections": [],
   "name": "Untitled2.ipynb",
   "provenance": []
  },
  "kernelspec": {
   "display_name": "Python 3",
   "language": "python",
   "name": "python3"
  },
  "language_info": {
   "codemirror_mode": {
    "name": "ipython",
    "version": 3
   },
   "file_extension": ".py",
   "mimetype": "text/x-python",
   "name": "python",
   "nbconvert_exporter": "python",
   "pygments_lexer": "ipython3",
   "version": "3.7.6"
  }
 },
 "nbformat": 4,
 "nbformat_minor": 4
}
